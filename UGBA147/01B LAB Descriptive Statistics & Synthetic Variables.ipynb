{
 "cells": [
  {
   "cell_type": "markdown",
   "metadata": {
    "hideCode": false,
    "hidePrompt": false
   },
   "source": [
    "# Descriptive Statistics,&<br>Synthetic Variables"
   ]
  },
  {
   "cell_type": "markdown",
   "metadata": {},
   "source": [
    "**Write and execute R code in the code cells per the instructions.  The expected results are provided for you directly following the code cells.**"
   ]
  },
  {
   "cell_type": "code",
   "execution_count": 1,
   "metadata": {},
   "outputs": [
    {
     "data": {
      "text/html": [
       "<p style=\"text-align:center; font-size:10px;\">\n",
       ".................................................... start of document ....................................................\n",
       "</p>"
      ]
     },
     "metadata": {},
     "output_type": "display_data"
    }
   ],
   "source": [
    "f = \"setup.R\"; for (i in 1:10) { if (file.exists(f)) break else f = paste0(\"../\", f) }; source(f)"
   ]
  },
  {
   "cell_type": "markdown",
   "metadata": {},
   "source": [
    "## Problem 1\n",
    "\n",
    "Construct a dataset (i.e., dataframe) with 6 observations and 4 variables, as follows:\n",
    "* The first variable is named `name` and comprises these values: A, B, C, D, E, F\n",
    "* The second variable is named `x1` and comprises these values: 2.5, 2, 9, 6.5, 8, 4\n",
    "* The third variabe is named `x2` and comprises these values: 7, 3.5, 1, 7, 2.5, 8.5\n",
    "* Thefourth variable is named `x3` and comrpises these values: 9, 10, 1, 2, 1.5, 9\n",
    "\n",
    "You may want to use these function(s):\n",
    "* data.frame()"
   ]
  },
  {
   "cell_type": "code",
   "execution_count": 2,
   "metadata": {
    "hideCode": false,
    "hidePrompt": false,
    "run_control": {
     "marked": false
    }
   },
   "outputs": [
    {
     "data": {
      "text/html": [
       "<table>\n",
       "<thead><tr><th scope=col>name</th><th scope=col>x1</th><th scope=col>x2</th><th scope=col>x3</th></tr></thead>\n",
       "<tbody>\n",
       "\t<tr><td>A   </td><td>2.5 </td><td>7.0 </td><td> 9.0</td></tr>\n",
       "\t<tr><td>B   </td><td>2.0 </td><td>3.5 </td><td>10.0</td></tr>\n",
       "\t<tr><td>C   </td><td>9.0 </td><td>1.0 </td><td> 1.0</td></tr>\n",
       "\t<tr><td>D   </td><td>6.5 </td><td>7.0 </td><td> 2.0</td></tr>\n",
       "\t<tr><td>E   </td><td>8.0 </td><td>2.5 </td><td> 1.5</td></tr>\n",
       "\t<tr><td>F   </td><td>4.0 </td><td>8.5 </td><td> 9.0</td></tr>\n",
       "</tbody>\n",
       "</table>\n"
      ],
      "text/latex": [
       "\\begin{tabular}{r|llll}\n",
       " name & x1 & x2 & x3\\\\\n",
       "\\hline\n",
       "\t A    & 2.5  & 7.0  &  9.0\\\\\n",
       "\t B    & 2.0  & 3.5  & 10.0\\\\\n",
       "\t C    & 9.0  & 1.0  &  1.0\\\\\n",
       "\t D    & 6.5  & 7.0  &  2.0\\\\\n",
       "\t E    & 8.0  & 2.5  &  1.5\\\\\n",
       "\t F    & 4.0  & 8.5  &  9.0\\\\\n",
       "\\end{tabular}\n"
      ],
      "text/markdown": [
       "\n",
       "| name | x1 | x2 | x3 |\n",
       "|---|---|---|---|\n",
       "| A    | 2.5  | 7.0  |  9.0 |\n",
       "| B    | 2.0  | 3.5  | 10.0 |\n",
       "| C    | 9.0  | 1.0  |  1.0 |\n",
       "| D    | 6.5  | 7.0  |  2.0 |\n",
       "| E    | 8.0  | 2.5  |  1.5 |\n",
       "| F    | 4.0  | 8.5  |  9.0 |\n",
       "\n"
      ],
      "text/plain": [
       "  name x1  x2  x3  \n",
       "1 A    2.5 7.0  9.0\n",
       "2 B    2.0 3.5 10.0\n",
       "3 C    9.0 1.0  1.0\n",
       "4 D    6.5 7.0  2.0\n",
       "5 E    8.0 2.5  1.5\n",
       "6 F    4.0 8.5  9.0"
      ]
     },
     "metadata": {},
     "output_type": "display_data"
    }
   ],
   "source": []
  },
  {
   "cell_type": "markdown",
   "metadata": {},
   "source": [
    "## Problem 7\n",
    "\n",
    "Summarize the dataset as the correlation of variables `x1` vs. `x2`.  \n",
    "\n",
    "You may want to use these function(s):\n",
    "* cor()\n",
    "\n",
    "Note: `cor` can be used in 2 ways. `cor(table)` results in a table.  `cor(vector, vector)` results in a number.  Use the `cor(vector, vector)` form. "
   ]
  },
  {
   "cell_type": "code",
   "execution_count": 8,
   "metadata": {
    "scrolled": true
   },
   "outputs": [
    {
     "data": {
      "text/html": [
       "-0.556053308075072"
      ],
      "text/latex": [
       "-0.556053308075072"
      ],
      "text/markdown": [
       "-0.556053308075072"
      ],
      "text/plain": [
       "[1] -0.5560533"
      ]
     },
     "metadata": {},
     "output_type": "display_data"
    }
   ],
   "source": []
  },
  {
   "cell_type": "markdown",
   "metadata": {},
   "source": [
    "## Problem 8\n",
    "\n",
    "Summarize the dataset as a table with rows for variables `x1`, `x2`, and `x3`, and columns for the mean, standard deviation, median, minimum, maximum, and range **calculated across only the first and second** observations.\n",
    "\n",
    "You may want to use these function(s):\n",
    "* describe()\n",
    "* as.data.frame()\n",
    "\n",
    "Note: `describe` accepts one parameter - it accepts the table on which it will calculate statistics."
   ]
  },
  {
   "cell_type": "code",
   "execution_count": 9,
   "metadata": {},
   "outputs": [
    {
     "data": {
      "text/html": [
       "<table>\n",
       "<thead><tr><th></th><th scope=col>mean</th><th scope=col>sd</th><th scope=col>median</th><th scope=col>min</th><th scope=col>max</th><th scope=col>range</th></tr></thead>\n",
       "<tbody>\n",
       "\t<tr><th scope=row>x1</th><td>2.25     </td><td>0.3535534</td><td>2.25     </td><td>2.0      </td><td> 2.5     </td><td>0.5      </td></tr>\n",
       "\t<tr><th scope=row>x2</th><td>5.25     </td><td>2.4748737</td><td>5.25     </td><td>3.5      </td><td> 7.0     </td><td>3.5      </td></tr>\n",
       "\t<tr><th scope=row>x3</th><td>9.50     </td><td>0.7071068</td><td>9.50     </td><td>9.0      </td><td>10.0     </td><td>1.0      </td></tr>\n",
       "</tbody>\n",
       "</table>\n"
      ],
      "text/latex": [
       "\\begin{tabular}{r|llllll}\n",
       "  & mean & sd & median & min & max & range\\\\\n",
       "\\hline\n",
       "\tx1 & 2.25      & 0.3535534 & 2.25      & 2.0       &  2.5      & 0.5      \\\\\n",
       "\tx2 & 5.25      & 2.4748737 & 5.25      & 3.5       &  7.0      & 3.5      \\\\\n",
       "\tx3 & 9.50      & 0.7071068 & 9.50      & 9.0       & 10.0      & 1.0      \\\\\n",
       "\\end{tabular}\n"
      ],
      "text/markdown": [
       "\n",
       "| <!--/--> | mean | sd | median | min | max | range |\n",
       "|---|---|---|---|---|---|---|\n",
       "| x1 | 2.25      | 0.3535534 | 2.25      | 2.0       |  2.5      | 0.5       |\n",
       "| x2 | 5.25      | 2.4748737 | 5.25      | 3.5       |  7.0      | 3.5       |\n",
       "| x3 | 9.50      | 0.7071068 | 9.50      | 9.0       | 10.0      | 1.0       |\n",
       "\n"
      ],
      "text/plain": [
       "   mean sd        median min max  range\n",
       "x1 2.25 0.3535534 2.25   2.0  2.5 0.5  \n",
       "x2 5.25 2.4748737 5.25   3.5  7.0 3.5  \n",
       "x3 9.50 0.7071068 9.50   9.0 10.0 1.0  "
      ]
     },
     "metadata": {},
     "output_type": "display_data"
    }
   ],
   "source": []
  },
  {
   "cell_type": "markdown",
   "metadata": {},
   "source": [
    "## Problem 9\n",
    "\n",
    "Select the most frequently occuring value in variable `x2` (from the full dataset).\n",
    "\n",
    "You may want to use these function(s):\n",
    "* max()\n",
    "* table()\n",
    "* names()\n",
    "* as.numeric()\n",
    "\n",
    "Note: `==` is the operator to test for equivalence.<br>\n",
    "Note: You can use the vector of boolean values in criterion-based selection.<br>\n",
    "Note: `x2` is a numeric variable, not a categorical (factor) variable."
   ]
  },
  {
   "cell_type": "code",
   "execution_count": 10,
   "metadata": {},
   "outputs": [
    {
     "data": {
      "text/html": [
       "7"
      ],
      "text/latex": [
       "7"
      ],
      "text/markdown": [
       "7"
      ],
      "text/plain": [
       "[1] 7"
      ]
     },
     "metadata": {},
     "output_type": "display_data"
    }
   ],
   "source": []
  },
  {
   "cell_type": "markdown",
   "metadata": {},
   "source": [
    "## Problem 10\n",
    "\n",
    "Use named-based selection to reorder variables as `name`, `x3`, `x2`, and `x1`, and use criterion-based selection to select only the observations where `x1` is greater than 2 and not equal to `x3` (from the full dataset).  Then add a synthetic variable that expresses the means of the numeric variables.  Then use an observation offset to add a synthetic variable that expresses the difference between the means of adjecent observations.\n",
    "\n",
    "You may want to use these function(s):\n",
    "* rowMeans()\n",
    "\n",
    "Note: `!=` is the operator to test for non-equivalence."
   ]
  },
  {
   "cell_type": "code",
   "execution_count": 11,
   "metadata": {},
   "outputs": [
    {
     "data": {
      "text/html": [
       "<table>\n",
       "<thead><tr><th></th><th scope=col>name</th><th scope=col>x3</th><th scope=col>x2</th><th scope=col>x1</th></tr></thead>\n",
       "<tbody>\n",
       "\t<tr><th scope=row>1</th><td>A  </td><td>9.0</td><td>7.0</td><td>2.5</td></tr>\n",
       "\t<tr><th scope=row>3</th><td>C  </td><td>1.0</td><td>1.0</td><td>9.0</td></tr>\n",
       "\t<tr><th scope=row>4</th><td>D  </td><td>2.0</td><td>7.0</td><td>6.5</td></tr>\n",
       "\t<tr><th scope=row>5</th><td>E  </td><td>1.5</td><td>2.5</td><td>8.0</td></tr>\n",
       "\t<tr><th scope=row>6</th><td>F  </td><td>9.0</td><td>8.5</td><td>4.0</td></tr>\n",
       "</tbody>\n",
       "</table>\n"
      ],
      "text/latex": [
       "\\begin{tabular}{r|llll}\n",
       "  & name & x3 & x2 & x1\\\\\n",
       "\\hline\n",
       "\t1 & A   & 9.0 & 7.0 & 2.5\\\\\n",
       "\t3 & C   & 1.0 & 1.0 & 9.0\\\\\n",
       "\t4 & D   & 2.0 & 7.0 & 6.5\\\\\n",
       "\t5 & E   & 1.5 & 2.5 & 8.0\\\\\n",
       "\t6 & F   & 9.0 & 8.5 & 4.0\\\\\n",
       "\\end{tabular}\n"
      ],
      "text/markdown": [
       "\n",
       "| <!--/--> | name | x3 | x2 | x1 |\n",
       "|---|---|---|---|---|\n",
       "| 1 | A   | 9.0 | 7.0 | 2.5 |\n",
       "| 3 | C   | 1.0 | 1.0 | 9.0 |\n",
       "| 4 | D   | 2.0 | 7.0 | 6.5 |\n",
       "| 5 | E   | 1.5 | 2.5 | 8.0 |\n",
       "| 6 | F   | 9.0 | 8.5 | 4.0 |\n",
       "\n"
      ],
      "text/plain": [
       "  name x3  x2  x1 \n",
       "1 A    9.0 7.0 2.5\n",
       "3 C    1.0 1.0 9.0\n",
       "4 D    2.0 7.0 6.5\n",
       "5 E    1.5 2.5 8.0\n",
       "6 F    9.0 8.5 4.0"
      ]
     },
     "metadata": {},
     "output_type": "display_data"
    }
   ],
   "source": []
  },
  {
   "cell_type": "code",
   "execution_count": 12,
   "metadata": {},
   "outputs": [
    {
     "data": {
      "text/html": [
       "<table>\n",
       "<thead><tr><th></th><th scope=col>name</th><th scope=col>x3</th><th scope=col>x2</th><th scope=col>x1</th><th scope=col>mean</th></tr></thead>\n",
       "<tbody>\n",
       "\t<tr><th scope=row>1</th><td>A       </td><td>9.0     </td><td>7.0     </td><td>2.5     </td><td>6.166667</td></tr>\n",
       "\t<tr><th scope=row>3</th><td>C       </td><td>1.0     </td><td>1.0     </td><td>9.0     </td><td>3.666667</td></tr>\n",
       "\t<tr><th scope=row>4</th><td>D       </td><td>2.0     </td><td>7.0     </td><td>6.5     </td><td>5.166667</td></tr>\n",
       "\t<tr><th scope=row>5</th><td>E       </td><td>1.5     </td><td>2.5     </td><td>8.0     </td><td>4.000000</td></tr>\n",
       "\t<tr><th scope=row>6</th><td>F       </td><td>9.0     </td><td>8.5     </td><td>4.0     </td><td>7.166667</td></tr>\n",
       "</tbody>\n",
       "</table>\n"
      ],
      "text/latex": [
       "\\begin{tabular}{r|lllll}\n",
       "  & name & x3 & x2 & x1 & mean\\\\\n",
       "\\hline\n",
       "\t1 & A        & 9.0      & 7.0      & 2.5      & 6.166667\\\\\n",
       "\t3 & C        & 1.0      & 1.0      & 9.0      & 3.666667\\\\\n",
       "\t4 & D        & 2.0      & 7.0      & 6.5      & 5.166667\\\\\n",
       "\t5 & E        & 1.5      & 2.5      & 8.0      & 4.000000\\\\\n",
       "\t6 & F        & 9.0      & 8.5      & 4.0      & 7.166667\\\\\n",
       "\\end{tabular}\n"
      ],
      "text/markdown": [
       "\n",
       "| <!--/--> | name | x3 | x2 | x1 | mean |\n",
       "|---|---|---|---|---|---|\n",
       "| 1 | A        | 9.0      | 7.0      | 2.5      | 6.166667 |\n",
       "| 3 | C        | 1.0      | 1.0      | 9.0      | 3.666667 |\n",
       "| 4 | D        | 2.0      | 7.0      | 6.5      | 5.166667 |\n",
       "| 5 | E        | 1.5      | 2.5      | 8.0      | 4.000000 |\n",
       "| 6 | F        | 9.0      | 8.5      | 4.0      | 7.166667 |\n",
       "\n"
      ],
      "text/plain": [
       "  name x3  x2  x1  mean    \n",
       "1 A    9.0 7.0 2.5 6.166667\n",
       "3 C    1.0 1.0 9.0 3.666667\n",
       "4 D    2.0 7.0 6.5 5.166667\n",
       "5 E    1.5 2.5 8.0 4.000000\n",
       "6 F    9.0 8.5 4.0 7.166667"
      ]
     },
     "metadata": {},
     "output_type": "display_data"
    }
   ],
   "source": []
  },
  {
   "cell_type": "code",
   "execution_count": 13,
   "metadata": {},
   "outputs": [
    {
     "data": {
      "text/html": [
       "<table>\n",
       "<thead><tr><th></th><th scope=col>name</th><th scope=col>x3</th><th scope=col>x2</th><th scope=col>x1</th><th scope=col>mean</th><th scope=col>diff</th></tr></thead>\n",
       "<tbody>\n",
       "\t<tr><th scope=row>1</th><td>A        </td><td>9.0      </td><td>7.0      </td><td>2.5      </td><td>6.166667 </td><td> 2.500000</td></tr>\n",
       "\t<tr><th scope=row>3</th><td>C        </td><td>1.0      </td><td>1.0      </td><td>9.0      </td><td>3.666667 </td><td>-1.500000</td></tr>\n",
       "\t<tr><th scope=row>4</th><td>D        </td><td>2.0      </td><td>7.0      </td><td>6.5      </td><td>5.166667 </td><td> 1.166667</td></tr>\n",
       "\t<tr><th scope=row>5</th><td>E        </td><td>1.5      </td><td>2.5      </td><td>8.0      </td><td>4.000000 </td><td>-3.166667</td></tr>\n",
       "\t<tr><th scope=row>6</th><td>F        </td><td>9.0      </td><td>8.5      </td><td>4.0      </td><td>7.166667 </td><td>       NA</td></tr>\n",
       "</tbody>\n",
       "</table>\n"
      ],
      "text/latex": [
       "\\begin{tabular}{r|llllll}\n",
       "  & name & x3 & x2 & x1 & mean & diff\\\\\n",
       "\\hline\n",
       "\t1 & A         & 9.0       & 7.0       & 2.5       & 6.166667  &  2.500000\\\\\n",
       "\t3 & C         & 1.0       & 1.0       & 9.0       & 3.666667  & -1.500000\\\\\n",
       "\t4 & D         & 2.0       & 7.0       & 6.5       & 5.166667  &  1.166667\\\\\n",
       "\t5 & E         & 1.5       & 2.5       & 8.0       & 4.000000  & -3.166667\\\\\n",
       "\t6 & F         & 9.0       & 8.5       & 4.0       & 7.166667  &        NA\\\\\n",
       "\\end{tabular}\n"
      ],
      "text/markdown": [
       "\n",
       "| <!--/--> | name | x3 | x2 | x1 | mean | diff |\n",
       "|---|---|---|---|---|---|---|\n",
       "| 1 | A         | 9.0       | 7.0       | 2.5       | 6.166667  |  2.500000 |\n",
       "| 3 | C         | 1.0       | 1.0       | 9.0       | 3.666667  | -1.500000 |\n",
       "| 4 | D         | 2.0       | 7.0       | 6.5       | 5.166667  |  1.166667 |\n",
       "| 5 | E         | 1.5       | 2.5       | 8.0       | 4.000000  | -3.166667 |\n",
       "| 6 | F         | 9.0       | 8.5       | 4.0       | 7.166667  |        NA |\n",
       "\n"
      ],
      "text/plain": [
       "  name x3  x2  x1  mean     diff     \n",
       "1 A    9.0 7.0 2.5 6.166667  2.500000\n",
       "3 C    1.0 1.0 9.0 3.666667 -1.500000\n",
       "4 D    2.0 7.0 6.5 5.166667  1.166667\n",
       "5 E    1.5 2.5 8.0 4.000000 -3.166667\n",
       "6 F    9.0 8.5 4.0 7.166667        NA"
      ]
     },
     "metadata": {},
     "output_type": "display_data"
    }
   ],
   "source": []
  },
  {
   "cell_type": "markdown",
   "metadata": {},
   "source": [
    "<font size=1;>\n",
    "<p style=\"text-align: left;\">\n",
    "Copyright (c) Berkeley Data Analytics Group, LLC\n",
    "<span style=\"float: right;\">\n",
    "Document revised December 28, 2020\n",
    "</span>\n",
    "</p>\n",
    "</font>"
   ]
  }
 ],
 "metadata": {
  "hide_code_all_hidden": false,
  "hide_input": false,
  "kernelspec": {
   "display_name": "R",
   "language": "R",
   "name": "ir"
  },
  "language_info": {
   "codemirror_mode": "r",
   "file_extension": ".r",
   "mimetype": "text/x-r-source",
   "name": "R",
   "pygments_lexer": "r",
   "version": "3.6.1"
  },
  "toc": {
   "base_numbering": 1,
   "nav_menu": {},
   "number_sections": false,
   "sideBar": true,
   "skip_h1_title": true,
   "title_cell": "Table of Contents",
   "title_sidebar": "Contents",
   "toc_cell": false,
   "toc_position": {},
   "toc_section_display": true,
   "toc_window_display": true
  }
 },
 "nbformat": 4,
 "nbformat_minor": 2
}
