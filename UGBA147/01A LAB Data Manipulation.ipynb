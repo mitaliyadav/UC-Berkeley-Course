{
 "cells": [
  {
   "cell_type": "markdown",
   "metadata": {
    "hideCode": false,
    "hidePrompt": false
   },
   "source": [
    "# Data Manipulation"
   ]
  },
  {
   "cell_type": "markdown",
   "metadata": {},
   "source": [
    "**Write and execute R code in the code cells per the instructions.  The expected results are provided for you directly following the code cells.**"
   ]
  },
  {
   "cell_type": "code",
   "execution_count": 1,
   "metadata": {},
   "outputs": [
    {
     "data": {
      "text/html": [
       "<p style=\"text-align:center; font-size:10px;\">\n",
       ".................................................... start of document ....................................................\n",
       "</p>"
      ]
     },
     "metadata": {},
     "output_type": "display_data"
    }
   ],
   "source": [
    "f = \"setup.R\"; for (i in 1:10) { if (file.exists(f)) break else f = paste0(\"../\", f) }; source(f)"
   ]
  },
  {
   "cell_type": "markdown",
   "metadata": {},
   "source": [
    "## Problem 1\n",
    "\n",
    "Construct a dataset (i.e., dataframe) with 6 observations and 4 variables, as follows:\n",
    "* The first variable is named `name` and comprises these values: A, B, C, D, E, F\n",
    "* The second variable is named `x1` and comprises these values: 2.5, 2, 9, 6.5, 8, 4\n",
    "* The third variabe is named `x2` and comprises these values: 7, 3.5, 1, 7, 2.5, 8.5\n",
    "* Thefourth variable is named `x3` and comrpises these values: 9, 10, 1, 2, 1.5, 9\n",
    "\n",
    "You may want to use these function(s):\n",
    "* data.frame()"
   ]
  },
  {
   "cell_type": "code",
   "execution_count": 2,
   "metadata": {
    "hideCode": false,
    "hidePrompt": false,
    "run_control": {
     "marked": false
    }
   },
   "outputs": [
    {
     "data": {
      "text/html": [
       "<table>\n",
       "<thead><tr><th scope=col>name</th><th scope=col>x1</th><th scope=col>x2</th><th scope=col>x3</th></tr></thead>\n",
       "<tbody>\n",
       "\t<tr><td>A   </td><td>2.5 </td><td>7.0 </td><td> 9.0</td></tr>\n",
       "\t<tr><td>B   </td><td>2.0 </td><td>3.5 </td><td>10.0</td></tr>\n",
       "\t<tr><td>C   </td><td>9.0 </td><td>1.0 </td><td> 1.0</td></tr>\n",
       "\t<tr><td>D   </td><td>6.5 </td><td>7.0 </td><td> 2.0</td></tr>\n",
       "\t<tr><td>E   </td><td>8.0 </td><td>2.5 </td><td> 1.5</td></tr>\n",
       "\t<tr><td>F   </td><td>4.0 </td><td>8.5 </td><td> 9.0</td></tr>\n",
       "</tbody>\n",
       "</table>\n"
      ],
      "text/latex": [
       "\\begin{tabular}{r|llll}\n",
       " name & x1 & x2 & x3\\\\\n",
       "\\hline\n",
       "\t A    & 2.5  & 7.0  &  9.0\\\\\n",
       "\t B    & 2.0  & 3.5  & 10.0\\\\\n",
       "\t C    & 9.0  & 1.0  &  1.0\\\\\n",
       "\t D    & 6.5  & 7.0  &  2.0\\\\\n",
       "\t E    & 8.0  & 2.5  &  1.5\\\\\n",
       "\t F    & 4.0  & 8.5  &  9.0\\\\\n",
       "\\end{tabular}\n"
      ],
      "text/markdown": [
       "\n",
       "| name | x1 | x2 | x3 |\n",
       "|---|---|---|---|\n",
       "| A    | 2.5  | 7.0  |  9.0 |\n",
       "| B    | 2.0  | 3.5  | 10.0 |\n",
       "| C    | 9.0  | 1.0  |  1.0 |\n",
       "| D    | 6.5  | 7.0  |  2.0 |\n",
       "| E    | 8.0  | 2.5  |  1.5 |\n",
       "| F    | 4.0  | 8.5  |  9.0 |\n",
       "\n"
      ],
      "text/plain": [
       "  name x1  x2  x3  \n",
       "1 A    2.5 7.0  9.0\n",
       "2 B    2.0 3.5 10.0\n",
       "3 C    9.0 1.0  1.0\n",
       "4 D    6.5 7.0  2.0\n",
       "5 E    8.0 2.5  1.5\n",
       "6 F    4.0 8.5  9.0"
      ]
     },
     "metadata": {},
     "output_type": "display_data"
    }
   ],
   "source": [
    "data = data.frame(name=c(\"A\",\"B\",\"C\",\"D\",\"E\",\"F\"),\n",
    "                  x1=c(2.5, 2, 9, 6.5, 8, 4),\n",
    "                  x2=c(7, 3.5, 1, 7, 2.5, 8.5),\n",
    "                  x3=c(9, 10, 1, 2, 1.5, 9))\n",
    "data"
   ]
  },
  {
   "cell_type": "markdown",
   "metadata": {},
   "source": [
    "## Problem 2\n",
    "\n",
    "Summarize the dataset as table of variable types.\n",
    "\n",
    "You may want to use these function(s):\n",
    "* data.frame()\n",
    "* class()"
   ]
  },
  {
   "cell_type": "code",
   "execution_count": 3,
   "metadata": {},
   "outputs": [
    {
     "data": {
      "text/html": [
       "<table>\n",
       "<thead><tr><th scope=col>name</th><th scope=col>x1</th><th scope=col>x2</th><th scope=col>x3</th></tr></thead>\n",
       "<tbody>\n",
       "\t<tr><td>factor </td><td>numeric</td><td>numeric</td><td>numeric</td></tr>\n",
       "</tbody>\n",
       "</table>\n"
      ],
      "text/latex": [
       "\\begin{tabular}{r|llll}\n",
       " name & x1 & x2 & x3\\\\\n",
       "\\hline\n",
       "\t factor  & numeric & numeric & numeric\\\\\n",
       "\\end{tabular}\n"
      ],
      "text/markdown": [
       "\n",
       "| name | x1 | x2 | x3 |\n",
       "|---|---|---|---|\n",
       "| factor  | numeric | numeric | numeric |\n",
       "\n"
      ],
      "text/plain": [
       "  name   x1      x2      x3     \n",
       "1 factor numeric numeric numeric"
      ]
     },
     "metadata": {},
     "output_type": "display_data"
    }
   ],
   "source": []
  },
  {
   "cell_type": "markdown",
   "metadata": {},
   "source": [
    "## Problem 3\n",
    "\n",
    "Select variables `x1` and `x2` of the dataset."
   ]
  },
  {
   "cell_type": "code",
   "execution_count": 4,
   "metadata": {},
   "outputs": [
    {
     "data": {
      "text/html": [
       "<table>\n",
       "<thead><tr><th scope=col>x1</th><th scope=col>x2</th></tr></thead>\n",
       "<tbody>\n",
       "\t<tr><td>2.5</td><td>7.0</td></tr>\n",
       "\t<tr><td>2.0</td><td>3.5</td></tr>\n",
       "\t<tr><td>9.0</td><td>1.0</td></tr>\n",
       "\t<tr><td>6.5</td><td>7.0</td></tr>\n",
       "\t<tr><td>8.0</td><td>2.5</td></tr>\n",
       "\t<tr><td>4.0</td><td>8.5</td></tr>\n",
       "</tbody>\n",
       "</table>\n"
      ],
      "text/latex": [
       "\\begin{tabular}{r|ll}\n",
       " x1 & x2\\\\\n",
       "\\hline\n",
       "\t 2.5 & 7.0\\\\\n",
       "\t 2.0 & 3.5\\\\\n",
       "\t 9.0 & 1.0\\\\\n",
       "\t 6.5 & 7.0\\\\\n",
       "\t 8.0 & 2.5\\\\\n",
       "\t 4.0 & 8.5\\\\\n",
       "\\end{tabular}\n"
      ],
      "text/markdown": [
       "\n",
       "| x1 | x2 |\n",
       "|---|---|\n",
       "| 2.5 | 7.0 |\n",
       "| 2.0 | 3.5 |\n",
       "| 9.0 | 1.0 |\n",
       "| 6.5 | 7.0 |\n",
       "| 8.0 | 2.5 |\n",
       "| 4.0 | 8.5 |\n",
       "\n"
      ],
      "text/plain": [
       "  x1  x2 \n",
       "1 2.5 7.0\n",
       "2 2.0 3.5\n",
       "3 9.0 1.0\n",
       "4 6.5 7.0\n",
       "5 8.0 2.5\n",
       "6 4.0 8.5"
      ]
     },
     "metadata": {},
     "output_type": "display_data"
    }
   ],
   "source": []
  },
  {
   "cell_type": "markdown",
   "metadata": {},
   "source": [
    "## Problem 4\n",
    "\n",
    "Select observations 1 and 2 of the dataset."
   ]
  },
  {
   "cell_type": "code",
   "execution_count": 5,
   "metadata": {
    "scrolled": true
   },
   "outputs": [
    {
     "data": {
      "text/html": [
       "<table>\n",
       "<thead><tr><th scope=col>name</th><th scope=col>x1</th><th scope=col>x2</th><th scope=col>x3</th></tr></thead>\n",
       "<tbody>\n",
       "\t<tr><td>A  </td><td>2.5</td><td>7.0</td><td> 9 </td></tr>\n",
       "\t<tr><td>B  </td><td>2.0</td><td>3.5</td><td>10 </td></tr>\n",
       "</tbody>\n",
       "</table>\n"
      ],
      "text/latex": [
       "\\begin{tabular}{r|llll}\n",
       " name & x1 & x2 & x3\\\\\n",
       "\\hline\n",
       "\t A   & 2.5 & 7.0 &  9 \\\\\n",
       "\t B   & 2.0 & 3.5 & 10 \\\\\n",
       "\\end{tabular}\n"
      ],
      "text/markdown": [
       "\n",
       "| name | x1 | x2 | x3 |\n",
       "|---|---|---|---|\n",
       "| A   | 2.5 | 7.0 |  9  |\n",
       "| B   | 2.0 | 3.5 | 10  |\n",
       "\n"
      ],
      "text/plain": [
       "  name x1  x2  x3\n",
       "1 A    2.5 7.0  9\n",
       "2 B    2.0 3.5 10"
      ]
     },
     "metadata": {},
     "output_type": "display_data"
    }
   ],
   "source": []
  },
  {
   "cell_type": "markdown",
   "metadata": {},
   "source": [
    "## Problem 5\n",
    "\n",
    "Select variable `x1` of the dataset presented as a vector."
   ]
  },
  {
   "cell_type": "code",
   "execution_count": 6,
   "metadata": {},
   "outputs": [
    {
     "data": {
      "text/html": [
       "<ol class=list-inline>\n",
       "\t<li>2.5</li>\n",
       "\t<li>2</li>\n",
       "\t<li>9</li>\n",
       "\t<li>6.5</li>\n",
       "\t<li>8</li>\n",
       "\t<li>4</li>\n",
       "</ol>\n"
      ],
      "text/latex": [
       "\\begin{enumerate*}\n",
       "\\item 2.5\n",
       "\\item 2\n",
       "\\item 9\n",
       "\\item 6.5\n",
       "\\item 8\n",
       "\\item 4\n",
       "\\end{enumerate*}\n"
      ],
      "text/markdown": [
       "1. 2.5\n",
       "2. 2\n",
       "3. 9\n",
       "4. 6.5\n",
       "5. 8\n",
       "6. 4\n",
       "\n",
       "\n"
      ],
      "text/plain": [
       "[1] 2.5 2.0 9.0 6.5 8.0 4.0"
      ]
     },
     "metadata": {},
     "output_type": "display_data"
    }
   ],
   "source": []
  },
  {
   "cell_type": "markdown",
   "metadata": {},
   "source": [
    "## Problem 6\n",
    "\n",
    "Select the numeric variables of observation 1 of the dataset presented as a vector.\n",
    "\n",
    "You may want to use these function(s):\n",
    "* as.numeric()"
   ]
  },
  {
   "cell_type": "code",
   "execution_count": 7,
   "metadata": {},
   "outputs": [
    {
     "data": {
      "text/html": [
       "<ol class=list-inline>\n",
       "\t<li>2.5</li>\n",
       "\t<li>7</li>\n",
       "\t<li>9</li>\n",
       "</ol>\n"
      ],
      "text/latex": [
       "\\begin{enumerate*}\n",
       "\\item 2.5\n",
       "\\item 7\n",
       "\\item 9\n",
       "\\end{enumerate*}\n"
      ],
      "text/markdown": [
       "1. 2.5\n",
       "2. 7\n",
       "3. 9\n",
       "\n",
       "\n"
      ],
      "text/plain": [
       "[1] 2.5 7.0 9.0"
      ]
     },
     "metadata": {},
     "output_type": "display_data"
    }
   ],
   "source": []
  },
  {
   "cell_type": "markdown",
   "metadata": {},
   "source": [
    "## Problem 7\n",
    "\n",
    "Change the dataset to include this additional observation: name is F, x1 is 3.1, x2 is 4.2, x3 is 5.3.\n",
    "\n",
    "You may want to use these function(s):\n",
    "* rbind()\n",
    "* data.frame()"
   ]
  },
  {
   "cell_type": "code",
   "execution_count": 3,
   "metadata": {},
   "outputs": [
    {
     "data": {
      "text/html": [
       "<table>\n",
       "<thead><tr><th scope=col>name</th><th scope=col>x1</th><th scope=col>x2</th><th scope=col>x3</th></tr></thead>\n",
       "<tbody>\n",
       "\t<tr><td>A   </td><td>2.5 </td><td>7.0 </td><td> 9.0</td></tr>\n",
       "\t<tr><td>B   </td><td>2.0 </td><td>3.5 </td><td>10.0</td></tr>\n",
       "\t<tr><td>C   </td><td>9.0 </td><td>1.0 </td><td> 1.0</td></tr>\n",
       "\t<tr><td>D   </td><td>6.5 </td><td>7.0 </td><td> 2.0</td></tr>\n",
       "\t<tr><td>E   </td><td>8.0 </td><td>2.5 </td><td> 1.5</td></tr>\n",
       "\t<tr><td>F   </td><td>4.0 </td><td>8.5 </td><td> 9.0</td></tr>\n",
       "\t<tr><td>F   </td><td>3.1 </td><td>4.2 </td><td> 5.3</td></tr>\n",
       "</tbody>\n",
       "</table>\n"
      ],
      "text/latex": [
       "\\begin{tabular}{r|llll}\n",
       " name & x1 & x2 & x3\\\\\n",
       "\\hline\n",
       "\t A    & 2.5  & 7.0  &  9.0\\\\\n",
       "\t B    & 2.0  & 3.5  & 10.0\\\\\n",
       "\t C    & 9.0  & 1.0  &  1.0\\\\\n",
       "\t D    & 6.5  & 7.0  &  2.0\\\\\n",
       "\t E    & 8.0  & 2.5  &  1.5\\\\\n",
       "\t F    & 4.0  & 8.5  &  9.0\\\\\n",
       "\t F    & 3.1  & 4.2  &  5.3\\\\\n",
       "\\end{tabular}\n"
      ],
      "text/markdown": [
       "\n",
       "| name | x1 | x2 | x3 |\n",
       "|---|---|---|---|\n",
       "| A    | 2.5  | 7.0  |  9.0 |\n",
       "| B    | 2.0  | 3.5  | 10.0 |\n",
       "| C    | 9.0  | 1.0  |  1.0 |\n",
       "| D    | 6.5  | 7.0  |  2.0 |\n",
       "| E    | 8.0  | 2.5  |  1.5 |\n",
       "| F    | 4.0  | 8.5  |  9.0 |\n",
       "| F    | 3.1  | 4.2  |  5.3 |\n",
       "\n"
      ],
      "text/plain": [
       "  name x1  x2  x3  \n",
       "1 A    2.5 7.0  9.0\n",
       "2 B    2.0 3.5 10.0\n",
       "3 C    9.0 1.0  1.0\n",
       "4 D    6.5 7.0  2.0\n",
       "5 E    8.0 2.5  1.5\n",
       "6 F    4.0 8.5  9.0\n",
       "7 F    3.1 4.2  5.3"
      ]
     },
     "metadata": {},
     "output_type": "display_data"
    }
   ],
   "source": []
  },
  {
   "cell_type": "markdown",
   "metadata": {},
   "source": [
    "## Problem 8\n",
    "\n",
    "Construct another dataset (i.e., dataframe) with 4 observations and 3 variables, as follows:\n",
    "* The first variable is named `name` and comprises these values: A, C, D, F\n",
    "* The second variable is named `x4` and comprises these values: 2.5, 2, 9, 6.5\n",
    "* The third variabe is named `x5` and comprises these values: 7, 3.5, 1, 7\n",
    "\n",
    "Then join by name this new dataset to the previous dataset.\n",
    "\n",
    "You may want to use these function(s):\n",
    "* data.frame()\n",
    "* merge()"
   ]
  },
  {
   "cell_type": "code",
   "execution_count": 4,
   "metadata": {},
   "outputs": [
    {
     "data": {
      "text/html": [
       "<table>\n",
       "<thead><tr><th scope=col>name</th><th scope=col>x1</th><th scope=col>x2</th><th scope=col>x3</th><th scope=col>x4</th><th scope=col>x5</th></tr></thead>\n",
       "<tbody>\n",
       "\t<tr><td>A  </td><td>2.5</td><td>7.0</td><td>9.0</td><td>2.5</td><td>7.0</td></tr>\n",
       "\t<tr><td>C  </td><td>9.0</td><td>1.0</td><td>1.0</td><td>2.0</td><td>3.5</td></tr>\n",
       "\t<tr><td>D  </td><td>6.5</td><td>7.0</td><td>2.0</td><td>9.0</td><td>1.0</td></tr>\n",
       "\t<tr><td>F  </td><td>4.0</td><td>8.5</td><td>9.0</td><td>6.5</td><td>7.0</td></tr>\n",
       "\t<tr><td>F  </td><td>3.1</td><td>4.2</td><td>5.3</td><td>6.5</td><td>7.0</td></tr>\n",
       "</tbody>\n",
       "</table>\n"
      ],
      "text/latex": [
       "\\begin{tabular}{r|llllll}\n",
       " name & x1 & x2 & x3 & x4 & x5\\\\\n",
       "\\hline\n",
       "\t A   & 2.5 & 7.0 & 9.0 & 2.5 & 7.0\\\\\n",
       "\t C   & 9.0 & 1.0 & 1.0 & 2.0 & 3.5\\\\\n",
       "\t D   & 6.5 & 7.0 & 2.0 & 9.0 & 1.0\\\\\n",
       "\t F   & 4.0 & 8.5 & 9.0 & 6.5 & 7.0\\\\\n",
       "\t F   & 3.1 & 4.2 & 5.3 & 6.5 & 7.0\\\\\n",
       "\\end{tabular}\n"
      ],
      "text/markdown": [
       "\n",
       "| name | x1 | x2 | x3 | x4 | x5 |\n",
       "|---|---|---|---|---|---|\n",
       "| A   | 2.5 | 7.0 | 9.0 | 2.5 | 7.0 |\n",
       "| C   | 9.0 | 1.0 | 1.0 | 2.0 | 3.5 |\n",
       "| D   | 6.5 | 7.0 | 2.0 | 9.0 | 1.0 |\n",
       "| F   | 4.0 | 8.5 | 9.0 | 6.5 | 7.0 |\n",
       "| F   | 3.1 | 4.2 | 5.3 | 6.5 | 7.0 |\n",
       "\n"
      ],
      "text/plain": [
       "  name x1  x2  x3  x4  x5 \n",
       "1 A    2.5 7.0 9.0 2.5 7.0\n",
       "2 C    9.0 1.0 1.0 2.0 3.5\n",
       "3 D    6.5 7.0 2.0 9.0 1.0\n",
       "4 F    4.0 8.5 9.0 6.5 7.0\n",
       "5 F    3.1 4.2 5.3 6.5 7.0"
      ]
     },
     "metadata": {},
     "output_type": "display_data"
    }
   ],
   "source": []
  },
  {
   "cell_type": "markdown",
   "metadata": {},
   "source": [
    "<font size=1;>\n",
    "<p style=\"text-align: left;\">\n",
    "Copyright (c) Berkeley Data Analytics Group, LLC\n",
    "<span style=\"float: right;\">\n",
    "Document revised January 6, 2021\n",
    "</span>\n",
    "</p>\n",
    "</font>"
   ]
  }
 ],
 "metadata": {
  "hide_code_all_hidden": false,
  "hide_input": false,
  "kernelspec": {
   "display_name": "R",
   "language": "R",
   "name": "ir"
  },
  "language_info": {
   "codemirror_mode": "r",
   "file_extension": ".r",
   "mimetype": "text/x-r-source",
   "name": "R",
   "pygments_lexer": "r",
   "version": "3.6.1"
  },
  "toc": {
   "base_numbering": 1,
   "nav_menu": {},
   "number_sections": false,
   "sideBar": true,
   "skip_h1_title": true,
   "title_cell": "Table of Contents",
   "title_sidebar": "Contents",
   "toc_cell": false,
   "toc_position": {},
   "toc_section_display": true,
   "toc_window_display": true
  }
 },
 "nbformat": 4,
 "nbformat_minor": 2
}
