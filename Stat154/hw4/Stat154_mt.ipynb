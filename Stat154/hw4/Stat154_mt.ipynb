{
 "cells": [
  {
   "cell_type": "markdown",
   "metadata": {
    "id": "Ol7PRf7s96Bu"
   },
   "source": [
    "\n",
    "\n",
    "# **MT**\n",
    "\n"
   ]
  },
  {
   "cell_type": "code",
   "execution_count": 1,
   "metadata": {
    "id": "rcz2eAfXRYhh"
   },
   "outputs": [],
   "source": [
    "from IPython.display import set_matplotlib_formats\n",
    "set_matplotlib_formats('pdf', 'svg')"
   ]
  },
  {
   "cell_type": "code",
   "execution_count": 2,
   "metadata": {
    "colab": {
     "base_uri": "https://localhost:8080/"
    },
    "id": "MFHm78b0LjEf",
    "outputId": "f801647d-62a7-4641-9abc-6312b00ea8f7"
   },
   "outputs": [
    {
     "name": "stdout",
     "output_type": "stream",
     "text": [
      "Using matplotlib backend: Qt5Agg\n"
     ]
    }
   ],
   "source": [
    "import pandas as pd\n",
    "from sklearn.preprocessing import StandardScaler\n",
    "import seaborn as sns\n",
    "import numpy as np\n",
    "import matplotlib.pyplot as plt\n",
    "import scipy.cluster.hierarchy as sch\n",
    "from sklearn.decomposition import PCA\n",
    "from sklearn.manifold import MDS\n",
    "from sklearn.preprocessing import MinMaxScaler\n",
    "%matplotlib"
   ]
  },
  {
   "cell_type": "code",
   "execution_count": null,
   "metadata": {
    "id": "s2uPdJRdz1hu"
   },
   "outputs": [],
   "source": []
  },
  {
   "cell_type": "code",
   "execution_count": 3,
   "metadata": {
    "colab": {
     "base_uri": "https://localhost:8080/",
     "height": 600
    },
    "id": "ixu8ETciUGgY",
    "outputId": "350227f7-6e06-4974-885e-858b1bea3018"
   },
   "outputs": [
    {
     "data": {
      "text/html": [
       "<div>\n",
       "<style scoped>\n",
       "    .dataframe tbody tr th:only-of-type {\n",
       "        vertical-align: middle;\n",
       "    }\n",
       "\n",
       "    .dataframe tbody tr th {\n",
       "        vertical-align: top;\n",
       "    }\n",
       "\n",
       "    .dataframe thead th {\n",
       "        text-align: right;\n",
       "    }\n",
       "</style>\n",
       "<table border=\"1\" class=\"dataframe\">\n",
       "  <thead>\n",
       "    <tr style=\"text-align: right;\">\n",
       "      <th></th>\n",
       "      <th>No</th>\n",
       "      <th>Cement</th>\n",
       "      <th>Slag</th>\n",
       "      <th>Fly ash</th>\n",
       "      <th>Water</th>\n",
       "      <th>SP</th>\n",
       "      <th>Coarse Aggr.</th>\n",
       "      <th>Fine Aggr.</th>\n",
       "      <th>SLUMP(cm)</th>\n",
       "      <th>FLOW(cm)</th>\n",
       "      <th>Compressive Strength (28-day)(Mpa)</th>\n",
       "    </tr>\n",
       "  </thead>\n",
       "  <tbody>\n",
       "    <tr>\n",
       "      <th>0</th>\n",
       "      <td>1</td>\n",
       "      <td>273.0</td>\n",
       "      <td>82.0</td>\n",
       "      <td>105.0</td>\n",
       "      <td>210.0</td>\n",
       "      <td>9.0</td>\n",
       "      <td>904.0</td>\n",
       "      <td>680.0</td>\n",
       "      <td>23.0</td>\n",
       "      <td>62.0</td>\n",
       "      <td>34.99</td>\n",
       "    </tr>\n",
       "    <tr>\n",
       "      <th>1</th>\n",
       "      <td>2</td>\n",
       "      <td>163.0</td>\n",
       "      <td>149.0</td>\n",
       "      <td>191.0</td>\n",
       "      <td>180.0</td>\n",
       "      <td>12.0</td>\n",
       "      <td>843.0</td>\n",
       "      <td>746.0</td>\n",
       "      <td>0.0</td>\n",
       "      <td>20.0</td>\n",
       "      <td>41.14</td>\n",
       "    </tr>\n",
       "    <tr>\n",
       "      <th>2</th>\n",
       "      <td>3</td>\n",
       "      <td>162.0</td>\n",
       "      <td>148.0</td>\n",
       "      <td>191.0</td>\n",
       "      <td>179.0</td>\n",
       "      <td>16.0</td>\n",
       "      <td>840.0</td>\n",
       "      <td>743.0</td>\n",
       "      <td>1.0</td>\n",
       "      <td>20.0</td>\n",
       "      <td>41.81</td>\n",
       "    </tr>\n",
       "    <tr>\n",
       "      <th>3</th>\n",
       "      <td>4</td>\n",
       "      <td>162.0</td>\n",
       "      <td>148.0</td>\n",
       "      <td>190.0</td>\n",
       "      <td>179.0</td>\n",
       "      <td>19.0</td>\n",
       "      <td>838.0</td>\n",
       "      <td>741.0</td>\n",
       "      <td>3.0</td>\n",
       "      <td>21.5</td>\n",
       "      <td>42.08</td>\n",
       "    </tr>\n",
       "    <tr>\n",
       "      <th>4</th>\n",
       "      <td>5</td>\n",
       "      <td>154.0</td>\n",
       "      <td>112.0</td>\n",
       "      <td>144.0</td>\n",
       "      <td>220.0</td>\n",
       "      <td>10.0</td>\n",
       "      <td>923.0</td>\n",
       "      <td>658.0</td>\n",
       "      <td>20.0</td>\n",
       "      <td>64.0</td>\n",
       "      <td>26.82</td>\n",
       "    </tr>\n",
       "    <tr>\n",
       "      <th>...</th>\n",
       "      <td>...</td>\n",
       "      <td>...</td>\n",
       "      <td>...</td>\n",
       "      <td>...</td>\n",
       "      <td>...</td>\n",
       "      <td>...</td>\n",
       "      <td>...</td>\n",
       "      <td>...</td>\n",
       "      <td>...</td>\n",
       "      <td>...</td>\n",
       "      <td>...</td>\n",
       "    </tr>\n",
       "    <tr>\n",
       "      <th>98</th>\n",
       "      <td>99</td>\n",
       "      <td>248.3</td>\n",
       "      <td>101.0</td>\n",
       "      <td>239.1</td>\n",
       "      <td>168.9</td>\n",
       "      <td>7.7</td>\n",
       "      <td>954.2</td>\n",
       "      <td>640.6</td>\n",
       "      <td>0.0</td>\n",
       "      <td>20.0</td>\n",
       "      <td>49.97</td>\n",
       "    </tr>\n",
       "    <tr>\n",
       "      <th>99</th>\n",
       "      <td>100</td>\n",
       "      <td>248.0</td>\n",
       "      <td>101.0</td>\n",
       "      <td>239.9</td>\n",
       "      <td>169.1</td>\n",
       "      <td>7.7</td>\n",
       "      <td>949.9</td>\n",
       "      <td>644.1</td>\n",
       "      <td>2.0</td>\n",
       "      <td>20.0</td>\n",
       "      <td>50.23</td>\n",
       "    </tr>\n",
       "    <tr>\n",
       "      <th>100</th>\n",
       "      <td>101</td>\n",
       "      <td>258.8</td>\n",
       "      <td>88.0</td>\n",
       "      <td>239.6</td>\n",
       "      <td>175.3</td>\n",
       "      <td>7.6</td>\n",
       "      <td>938.9</td>\n",
       "      <td>646.0</td>\n",
       "      <td>0.0</td>\n",
       "      <td>20.0</td>\n",
       "      <td>50.50</td>\n",
       "    </tr>\n",
       "    <tr>\n",
       "      <th>101</th>\n",
       "      <td>102</td>\n",
       "      <td>297.1</td>\n",
       "      <td>40.9</td>\n",
       "      <td>239.9</td>\n",
       "      <td>194.0</td>\n",
       "      <td>7.5</td>\n",
       "      <td>908.9</td>\n",
       "      <td>651.8</td>\n",
       "      <td>27.5</td>\n",
       "      <td>67.0</td>\n",
       "      <td>49.17</td>\n",
       "    </tr>\n",
       "    <tr>\n",
       "      <th>102</th>\n",
       "      <td>103</td>\n",
       "      <td>348.7</td>\n",
       "      <td>0.1</td>\n",
       "      <td>223.1</td>\n",
       "      <td>208.5</td>\n",
       "      <td>9.6</td>\n",
       "      <td>786.2</td>\n",
       "      <td>758.1</td>\n",
       "      <td>29.0</td>\n",
       "      <td>78.0</td>\n",
       "      <td>48.77</td>\n",
       "    </tr>\n",
       "  </tbody>\n",
       "</table>\n",
       "<p>103 rows × 11 columns</p>\n",
       "</div>"
      ],
      "text/plain": [
       "      No  Cement   Slag  Fly ash  Water    SP  Coarse Aggr.  Fine Aggr.  \\\n",
       "0      1   273.0   82.0    105.0  210.0   9.0         904.0       680.0   \n",
       "1      2   163.0  149.0    191.0  180.0  12.0         843.0       746.0   \n",
       "2      3   162.0  148.0    191.0  179.0  16.0         840.0       743.0   \n",
       "3      4   162.0  148.0    190.0  179.0  19.0         838.0       741.0   \n",
       "4      5   154.0  112.0    144.0  220.0  10.0         923.0       658.0   \n",
       "..   ...     ...    ...      ...    ...   ...           ...         ...   \n",
       "98    99   248.3  101.0    239.1  168.9   7.7         954.2       640.6   \n",
       "99   100   248.0  101.0    239.9  169.1   7.7         949.9       644.1   \n",
       "100  101   258.8   88.0    239.6  175.3   7.6         938.9       646.0   \n",
       "101  102   297.1   40.9    239.9  194.0   7.5         908.9       651.8   \n",
       "102  103   348.7    0.1    223.1  208.5   9.6         786.2       758.1   \n",
       "\n",
       "     SLUMP(cm)  FLOW(cm)  Compressive Strength (28-day)(Mpa)  \n",
       "0         23.0      62.0                               34.99  \n",
       "1          0.0      20.0                               41.14  \n",
       "2          1.0      20.0                               41.81  \n",
       "3          3.0      21.5                               42.08  \n",
       "4         20.0      64.0                               26.82  \n",
       "..         ...       ...                                 ...  \n",
       "98         0.0      20.0                               49.97  \n",
       "99         2.0      20.0                               50.23  \n",
       "100        0.0      20.0                               50.50  \n",
       "101       27.5      67.0                               49.17  \n",
       "102       29.0      78.0                               48.77  \n",
       "\n",
       "[103 rows x 11 columns]"
      ]
     },
     "metadata": {},
     "output_type": "display_data"
    },
    {
     "data": {
      "text/html": [
       "<div>\n",
       "<style scoped>\n",
       "    .dataframe tbody tr th:only-of-type {\n",
       "        vertical-align: middle;\n",
       "    }\n",
       "\n",
       "    .dataframe tbody tr th {\n",
       "        vertical-align: top;\n",
       "    }\n",
       "\n",
       "    .dataframe thead th {\n",
       "        text-align: right;\n",
       "    }\n",
       "</style>\n",
       "<table border=\"1\" class=\"dataframe\">\n",
       "  <thead>\n",
       "    <tr style=\"text-align: right;\">\n",
       "      <th></th>\n",
       "      <th>Cement</th>\n",
       "      <th>Slag</th>\n",
       "      <th>Fly ash</th>\n",
       "      <th>Water</th>\n",
       "      <th>SP</th>\n",
       "      <th>Coarse Aggr.</th>\n",
       "      <th>Fine Aggr.</th>\n",
       "      <th>Compressive Strength (28-day)(Mpa)</th>\n",
       "    </tr>\n",
       "  </thead>\n",
       "  <tbody>\n",
       "    <tr>\n",
       "      <th>0</th>\n",
       "      <td>273.0</td>\n",
       "      <td>82.0</td>\n",
       "      <td>105.0</td>\n",
       "      <td>210.0</td>\n",
       "      <td>9.0</td>\n",
       "      <td>904.0</td>\n",
       "      <td>680.0</td>\n",
       "      <td>34.99</td>\n",
       "    </tr>\n",
       "    <tr>\n",
       "      <th>1</th>\n",
       "      <td>163.0</td>\n",
       "      <td>149.0</td>\n",
       "      <td>191.0</td>\n",
       "      <td>180.0</td>\n",
       "      <td>12.0</td>\n",
       "      <td>843.0</td>\n",
       "      <td>746.0</td>\n",
       "      <td>41.14</td>\n",
       "    </tr>\n",
       "    <tr>\n",
       "      <th>2</th>\n",
       "      <td>162.0</td>\n",
       "      <td>148.0</td>\n",
       "      <td>191.0</td>\n",
       "      <td>179.0</td>\n",
       "      <td>16.0</td>\n",
       "      <td>840.0</td>\n",
       "      <td>743.0</td>\n",
       "      <td>41.81</td>\n",
       "    </tr>\n",
       "    <tr>\n",
       "      <th>3</th>\n",
       "      <td>162.0</td>\n",
       "      <td>148.0</td>\n",
       "      <td>190.0</td>\n",
       "      <td>179.0</td>\n",
       "      <td>19.0</td>\n",
       "      <td>838.0</td>\n",
       "      <td>741.0</td>\n",
       "      <td>42.08</td>\n",
       "    </tr>\n",
       "    <tr>\n",
       "      <th>4</th>\n",
       "      <td>154.0</td>\n",
       "      <td>112.0</td>\n",
       "      <td>144.0</td>\n",
       "      <td>220.0</td>\n",
       "      <td>10.0</td>\n",
       "      <td>923.0</td>\n",
       "      <td>658.0</td>\n",
       "      <td>26.82</td>\n",
       "    </tr>\n",
       "  </tbody>\n",
       "</table>\n",
       "</div>"
      ],
      "text/plain": [
       "   Cement   Slag  Fly ash  Water    SP  Coarse Aggr.  Fine Aggr.  \\\n",
       "0   273.0   82.0    105.0  210.0   9.0         904.0       680.0   \n",
       "1   163.0  149.0    191.0  180.0  12.0         843.0       746.0   \n",
       "2   162.0  148.0    191.0  179.0  16.0         840.0       743.0   \n",
       "3   162.0  148.0    190.0  179.0  19.0         838.0       741.0   \n",
       "4   154.0  112.0    144.0  220.0  10.0         923.0       658.0   \n",
       "\n",
       "   Compressive Strength (28-day)(Mpa)  \n",
       "0                               34.99  \n",
       "1                               41.14  \n",
       "2                               41.81  \n",
       "3                               42.08  \n",
       "4                               26.82  "
      ]
     },
     "execution_count": 3,
     "metadata": {},
     "output_type": "execute_result"
    }
   ],
   "source": [
    "temp = pd.read_table(\"slump_test.data\", sep=\",\")\n",
    "temp2 = pd.read_table(\"slump_test.names\")\n",
    "display(temp)\n",
    "#drop the No column along with the target variables other than 280day Compressive Strength\n",
    "temp = temp.drop(columns=[\"No\", \"SLUMP(cm)\", \"FLOW(cm)\"])\n",
    "temp.head()"
   ]
  },
  {
   "cell_type": "markdown",
   "metadata": {
    "id": "oMl3JD8Ixaty"
   },
   "source": [
    "## **Basic EDA**"
   ]
  },
  {
   "cell_type": "code",
   "execution_count": 4,
   "metadata": {
    "colab": {
     "base_uri": "https://localhost:8080/"
    },
    "id": "aTZXmEUdVLq_",
    "outputId": "c2ce1e0d-ff0e-45b6-fc3d-a3d83433d281"
   },
   "outputs": [
    {
     "name": "stdout",
     "output_type": "stream",
     "text": [
      "<class 'pandas.core.frame.DataFrame'>\n",
      "RangeIndex: 103 entries, 0 to 102\n",
      "Data columns (total 8 columns):\n",
      " #   Column                              Non-Null Count  Dtype  \n",
      "---  ------                              --------------  -----  \n",
      " 0   Cement                              103 non-null    float64\n",
      " 1   Slag                                103 non-null    float64\n",
      " 2   Fly ash                             103 non-null    float64\n",
      " 3   Water                               103 non-null    float64\n",
      " 4   SP                                  103 non-null    float64\n",
      " 5   Coarse Aggr.                        103 non-null    float64\n",
      " 6   Fine Aggr.                          103 non-null    float64\n",
      " 7   Compressive Strength (28-day)(Mpa)  103 non-null    float64\n",
      "dtypes: float64(8)\n",
      "memory usage: 6.6 KB\n"
     ]
    }
   ],
   "source": [
    "temp.info()"
   ]
  },
  {
   "cell_type": "code",
   "execution_count": 5,
   "metadata": {
    "colab": {
     "base_uri": "https://localhost:8080/",
     "height": 294
    },
    "id": "b8GvKdVZHu08",
    "outputId": "eb943300-f39c-4c1e-fe47-f9115fddb80f"
   },
   "outputs": [
    {
     "data": {
      "text/html": [
       "<div>\n",
       "<style scoped>\n",
       "    .dataframe tbody tr th:only-of-type {\n",
       "        vertical-align: middle;\n",
       "    }\n",
       "\n",
       "    .dataframe tbody tr th {\n",
       "        vertical-align: top;\n",
       "    }\n",
       "\n",
       "    .dataframe thead th {\n",
       "        text-align: right;\n",
       "    }\n",
       "</style>\n",
       "<table border=\"1\" class=\"dataframe\">\n",
       "  <thead>\n",
       "    <tr style=\"text-align: right;\">\n",
       "      <th></th>\n",
       "      <th>count</th>\n",
       "      <th>mean</th>\n",
       "      <th>std</th>\n",
       "      <th>min</th>\n",
       "      <th>25%</th>\n",
       "      <th>50%</th>\n",
       "      <th>75%</th>\n",
       "      <th>max</th>\n",
       "    </tr>\n",
       "  </thead>\n",
       "  <tbody>\n",
       "    <tr>\n",
       "      <th>Cement</th>\n",
       "      <td>103.0</td>\n",
       "      <td>229.894175</td>\n",
       "      <td>78.877230</td>\n",
       "      <td>137.00</td>\n",
       "      <td>152.00</td>\n",
       "      <td>248.00</td>\n",
       "      <td>303.900</td>\n",
       "      <td>374.00</td>\n",
       "    </tr>\n",
       "    <tr>\n",
       "      <th>Slag</th>\n",
       "      <td>103.0</td>\n",
       "      <td>77.973786</td>\n",
       "      <td>60.461363</td>\n",
       "      <td>0.00</td>\n",
       "      <td>0.05</td>\n",
       "      <td>100.00</td>\n",
       "      <td>125.000</td>\n",
       "      <td>193.00</td>\n",
       "    </tr>\n",
       "    <tr>\n",
       "      <th>Fly ash</th>\n",
       "      <td>103.0</td>\n",
       "      <td>149.014563</td>\n",
       "      <td>85.418080</td>\n",
       "      <td>0.00</td>\n",
       "      <td>115.50</td>\n",
       "      <td>164.00</td>\n",
       "      <td>235.950</td>\n",
       "      <td>260.00</td>\n",
       "    </tr>\n",
       "    <tr>\n",
       "      <th>Water</th>\n",
       "      <td>103.0</td>\n",
       "      <td>197.167961</td>\n",
       "      <td>20.208158</td>\n",
       "      <td>160.00</td>\n",
       "      <td>180.00</td>\n",
       "      <td>196.00</td>\n",
       "      <td>209.500</td>\n",
       "      <td>240.00</td>\n",
       "    </tr>\n",
       "    <tr>\n",
       "      <th>SP</th>\n",
       "      <td>103.0</td>\n",
       "      <td>8.539806</td>\n",
       "      <td>2.807530</td>\n",
       "      <td>4.40</td>\n",
       "      <td>6.00</td>\n",
       "      <td>8.00</td>\n",
       "      <td>10.000</td>\n",
       "      <td>19.00</td>\n",
       "    </tr>\n",
       "    <tr>\n",
       "      <th>Coarse Aggr.</th>\n",
       "      <td>103.0</td>\n",
       "      <td>883.978641</td>\n",
       "      <td>88.391393</td>\n",
       "      <td>708.00</td>\n",
       "      <td>819.50</td>\n",
       "      <td>879.00</td>\n",
       "      <td>952.800</td>\n",
       "      <td>1049.90</td>\n",
       "    </tr>\n",
       "    <tr>\n",
       "      <th>Fine Aggr.</th>\n",
       "      <td>103.0</td>\n",
       "      <td>739.604854</td>\n",
       "      <td>63.342117</td>\n",
       "      <td>640.60</td>\n",
       "      <td>684.50</td>\n",
       "      <td>742.70</td>\n",
       "      <td>788.000</td>\n",
       "      <td>902.00</td>\n",
       "    </tr>\n",
       "    <tr>\n",
       "      <th>Compressive Strength (28-day)(Mpa)</th>\n",
       "      <td>103.0</td>\n",
       "      <td>36.039417</td>\n",
       "      <td>7.838232</td>\n",
       "      <td>17.19</td>\n",
       "      <td>30.90</td>\n",
       "      <td>35.52</td>\n",
       "      <td>41.205</td>\n",
       "      <td>58.53</td>\n",
       "    </tr>\n",
       "  </tbody>\n",
       "</table>\n",
       "</div>"
      ],
      "text/plain": [
       "                                    count        mean        std     min  \\\n",
       "Cement                              103.0  229.894175  78.877230  137.00   \n",
       "Slag                                103.0   77.973786  60.461363    0.00   \n",
       "Fly ash                             103.0  149.014563  85.418080    0.00   \n",
       "Water                               103.0  197.167961  20.208158  160.00   \n",
       "SP                                  103.0    8.539806   2.807530    4.40   \n",
       "Coarse Aggr.                        103.0  883.978641  88.391393  708.00   \n",
       "Fine Aggr.                          103.0  739.604854  63.342117  640.60   \n",
       "Compressive Strength (28-day)(Mpa)  103.0   36.039417   7.838232   17.19   \n",
       "\n",
       "                                       25%     50%      75%      max  \n",
       "Cement                              152.00  248.00  303.900   374.00  \n",
       "Slag                                  0.05  100.00  125.000   193.00  \n",
       "Fly ash                             115.50  164.00  235.950   260.00  \n",
       "Water                               180.00  196.00  209.500   240.00  \n",
       "SP                                    6.00    8.00   10.000    19.00  \n",
       "Coarse Aggr.                        819.50  879.00  952.800  1049.90  \n",
       "Fine Aggr.                          684.50  742.70  788.000   902.00  \n",
       "Compressive Strength (28-day)(Mpa)   30.90   35.52   41.205    58.53  "
      ]
     },
     "execution_count": 5,
     "metadata": {},
     "output_type": "execute_result"
    }
   ],
   "source": [
    "temp.describe().transpose()"
   ]
  },
  {
   "cell_type": "markdown",
   "metadata": {
    "id": "S4pJI6heTrdg"
   },
   "source": [
    "### Observations:\n",
    "1. This dataset has no null values\n",
    "2. The data is not scaled and if we were to perform PCA on the dataset then we would have to scale and/or standardize the data\n",
    "3. Columns like Cement, Slag, Fly ash, Water are somewhat evenly distributed with few outliers since the 75% mark is close to the maximum value of the column. However, we can confirm this using boxplots."
   ]
  },
  {
   "cell_type": "code",
   "execution_count": 6,
   "metadata": {
    "id": "bYbYqSunQfwt"
   },
   "outputs": [],
   "source": [
    "#Confirming the distributions \n",
    "#names of the columns\n",
    "col_names = temp.columns\n",
    "col_names\n",
    "\n",
    "#plotting boxplots\n",
    "plt.figure(figsize=(25,30))\n",
    "for i in range(len(col_names)):\n",
    "  plt.subplot(4,3,i+1)\n",
    "  sns.boxplot(y=temp[col_names[i]])\n",
    "  plt.xlabel(col_names[i])\n",
    "  plt.ylabel(\"\")\n"
   ]
  },
  {
   "cell_type": "markdown",
   "metadata": {
    "id": "WGd3QTjfbZLG"
   },
   "source": [
    "As expected, most columns, except SP and the target variable are evenly distributed."
   ]
  },
  {
   "cell_type": "code",
   "execution_count": 7,
   "metadata": {
    "id": "A0Hk2DAkbYhu"
   },
   "outputs": [],
   "source": [
    "#We can also plot them on a single plot since they all have the same units (kg of component in 1 M^3 of concrete )\n",
    "plt.subplots(figsize=(12, 8))\n",
    "ax = sns.boxplot(data=temp)\n",
    "ax.set_xticklabels(ax.get_xticklabels(), rotation=90);"
   ]
  },
  {
   "cell_type": "code",
   "execution_count": 8,
   "metadata": {
    "id": "zsSy_yHihfMu"
   },
   "outputs": [
    {
     "data": {
      "text/plain": [
       "<seaborn.axisgrid.PairGrid at 0x20c988cf988>"
      ]
     },
     "execution_count": 8,
     "metadata": {},
     "output_type": "execute_result"
    }
   ],
   "source": [
    "#Understanding the correlation between the variables\n",
    "r = sns.PairGrid(temp)\n",
    "r.map_upper(plt.scatter)\n",
    "r.map_diag(sns.kdeplot, lw=3, legend=True)\n",
    "r.map_lower(plt.plot)"
   ]
  },
  {
   "cell_type": "markdown",
   "metadata": {
    "id": "xeJJF40zn92I"
   },
   "source": [
    "### Observation:\n",
    "1. Cement, Slag, Fly Ash all seem to have 2 peaks hence they have a bimodal distribution which would make sense intuitively.\n",
    "2. SP also has 2 peaks but one of them is higher than the other one.\n",
    "3. Cement and Fly Ash seem to have a positive correlation with compressive strength (our target variable)\n",
    "4. Water and Coarse Aggr. have a weak negative correlation"
   ]
  },
  {
   "cell_type": "code",
   "execution_count": 9,
   "metadata": {
    "id": "kgl3a35Yn9f_"
   },
   "outputs": [
    {
     "data": {
      "text/plain": [
       "<matplotlib.axes._subplots.AxesSubplot at 0x20c9964e6c8>"
      ]
     },
     "execution_count": 9,
     "metadata": {},
     "output_type": "execute_result"
    }
   ],
   "source": [
    "#Plotting Heat Maps to get a more accurate \n",
    "sns.heatmap(temp.corr(), annot = True)"
   ]
  },
  {
   "cell_type": "markdown",
   "metadata": {
    "id": "iyXvnMoMvFew"
   },
   "source": [
    "### Observations:\n",
    "\n",
    "1. As we predicted, Cement and Fly Ash have a positive correlation to Compressive Strength while we learn that Slag and Water are negatively correlated to Compressive Strength. Sp, Coarse Aggr, and Fine Aggr. are all weakly correlated to Compressive Strength. \n",
    "2. Cement and Fly-ash have a strong negative correlation\n",
    "3. Water and Coarse Aggr. have a strong negative correlation.\n"
   ]
  },
  {
   "cell_type": "markdown",
   "metadata": {
    "id": "-7qosQh4xzPR"
   },
   "source": []
  },
  {
   "cell_type": "code",
   "execution_count": null,
   "metadata": {
    "id": "xXuE38cxxvqO"
   },
   "outputs": [],
   "source": []
  },
  {
   "cell_type": "markdown",
   "metadata": {
    "id": "nYn9swEcxUWE"
   },
   "source": [
    "### **PCA**"
   ]
  },
  {
   "cell_type": "markdown",
   "metadata": {
    "id": "KzxR0W5FzDLa"
   },
   "source": [
    "While we have made some predictions, I would like to try another method to see if we can learn something more about the dataset"
   ]
  },
  {
   "cell_type": "code",
   "execution_count": 10,
   "metadata": {
    "colab": {
     "base_uri": "https://localhost:8080/"
    },
    "id": "3A5VexA70yHx",
    "outputId": "a4a05cb1-407e-4719-a138-5fb5486a5aa1"
   },
   "outputs": [
    {
     "data": {
      "text/plain": [
       "Index(['Cement', 'Slag', 'Fly ash', 'Water', 'SP', 'Coarse Aggr.',\n",
       "       'Fine Aggr.', 'Compressive Strength (28-day)(Mpa)'],\n",
       "      dtype='object')"
      ]
     },
     "execution_count": 10,
     "metadata": {},
     "output_type": "execute_result"
    }
   ],
   "source": [
    "temp.columns"
   ]
  },
  {
   "cell_type": "code",
   "execution_count": 11,
   "metadata": {
    "colab": {
     "base_uri": "https://localhost:8080/",
     "height": 254
    },
    "id": "T5qRhuC8wF16",
    "outputId": "da01f4ea-9d2b-4497-e4f6-5a87d5ba904e"
   },
   "outputs": [
    {
     "data": {
      "text/plain": [
       "(103, 7)"
      ]
     },
     "metadata": {},
     "output_type": "display_data"
    },
    {
     "data": {
      "text/plain": [
       "-2.0572232467395412e-16"
      ]
     },
     "metadata": {},
     "output_type": "display_data"
    },
    {
     "data": {
      "text/plain": [
       "1.0"
      ]
     },
     "metadata": {},
     "output_type": "display_data"
    },
    {
     "data": {
      "text/html": [
       "<div>\n",
       "<style scoped>\n",
       "    .dataframe tbody tr th:only-of-type {\n",
       "        vertical-align: middle;\n",
       "    }\n",
       "\n",
       "    .dataframe tbody tr th {\n",
       "        vertical-align: top;\n",
       "    }\n",
       "\n",
       "    .dataframe thead th {\n",
       "        text-align: right;\n",
       "    }\n",
       "</style>\n",
       "<table border=\"1\" class=\"dataframe\">\n",
       "  <thead>\n",
       "    <tr style=\"text-align: right;\">\n",
       "      <th></th>\n",
       "      <th>Cement</th>\n",
       "      <th>Slag</th>\n",
       "      <th>Fly ash</th>\n",
       "      <th>Water</th>\n",
       "      <th>SP</th>\n",
       "      <th>Coarse Aggr.</th>\n",
       "      <th>Fine Aggr.</th>\n",
       "    </tr>\n",
       "  </thead>\n",
       "  <tbody>\n",
       "    <tr>\n",
       "      <th>98</th>\n",
       "      <td>0.234489</td>\n",
       "      <td>0.382704</td>\n",
       "      <td>1.059799</td>\n",
       "      <td>-1.405679</td>\n",
       "      <td>-0.300589</td>\n",
       "      <td>0.798321</td>\n",
       "      <td>-1.570661</td>\n",
       "    </tr>\n",
       "    <tr>\n",
       "      <th>99</th>\n",
       "      <td>0.230667</td>\n",
       "      <td>0.382704</td>\n",
       "      <td>1.069210</td>\n",
       "      <td>-1.395734</td>\n",
       "      <td>-0.300589</td>\n",
       "      <td>0.749436</td>\n",
       "      <td>-1.515135</td>\n",
       "    </tr>\n",
       "    <tr>\n",
       "      <th>100</th>\n",
       "      <td>0.368258</td>\n",
       "      <td>0.166639</td>\n",
       "      <td>1.065681</td>\n",
       "      <td>-1.087427</td>\n",
       "      <td>-0.336382</td>\n",
       "      <td>0.624381</td>\n",
       "      <td>-1.484993</td>\n",
       "    </tr>\n",
       "    <tr>\n",
       "      <th>101</th>\n",
       "      <td>0.856197</td>\n",
       "      <td>-0.616180</td>\n",
       "      <td>1.069210</td>\n",
       "      <td>-0.157533</td>\n",
       "      <td>-0.372174</td>\n",
       "      <td>0.283322</td>\n",
       "      <td>-1.392979</td>\n",
       "    </tr>\n",
       "    <tr>\n",
       "      <th>102</th>\n",
       "      <td>1.513577</td>\n",
       "      <td>-1.294291</td>\n",
       "      <td>0.871569</td>\n",
       "      <td>0.563508</td>\n",
       "      <td>0.379472</td>\n",
       "      <td>-1.111610</td>\n",
       "      <td>0.293416</td>\n",
       "    </tr>\n",
       "  </tbody>\n",
       "</table>\n",
       "</div>"
      ],
      "text/plain": [
       "       Cement      Slag   Fly ash     Water        SP  Coarse Aggr.  \\\n",
       "98   0.234489  0.382704  1.059799 -1.405679 -0.300589      0.798321   \n",
       "99   0.230667  0.382704  1.069210 -1.395734 -0.300589      0.749436   \n",
       "100  0.368258  0.166639  1.065681 -1.087427 -0.336382      0.624381   \n",
       "101  0.856197 -0.616180  1.069210 -0.157533 -0.372174      0.283322   \n",
       "102  1.513577 -1.294291  0.871569  0.563508  0.379472     -1.111610   \n",
       "\n",
       "     Fine Aggr.  \n",
       "98    -1.570661  \n",
       "99    -1.515135  \n",
       "100   -1.484993  \n",
       "101   -1.392979  \n",
       "102    0.293416  "
      ]
     },
     "execution_count": 11,
     "metadata": {},
     "output_type": "execute_result"
    }
   ],
   "source": [
    "#Step 1: Extract the features from the dataset \n",
    "data = temp.drop(columns=('Compressive Strength (28-day)(Mpa)'), inplace=False)\n",
    "\n",
    "#Step 2: Standardize the data\n",
    "x = StandardScaler().fit_transform(X = data.values)\n",
    "display(x.shape, np.mean(x), np.std(x))\n",
    "\n",
    "#convert the normalized features back into a dataframe\n",
    "feature_cols = data.columns\n",
    "concrete_norml = pd.DataFrame(data=x, columns=feature_cols)\n",
    "concrete_norml.tail()"
   ]
  },
  {
   "cell_type": "code",
   "execution_count": 12,
   "metadata": {
    "colab": {
     "base_uri": "https://localhost:8080/"
    },
    "id": "2oi0tRIx2knc",
    "outputId": "2297819c-47fe-420a-f028-696d41fbade0"
   },
   "outputs": [
    {
     "name": "stdout",
     "output_type": "stream",
     "text": [
      "The proportion of variance explained by each PC: [0.31779551 0.21620366 0.15837992 0.14373075 0.09732565 0.0661284\n",
      " 0.00043611]\n"
     ]
    }
   ],
   "source": [
    "#using the sklearn library to perform pca on the normalised dataset\n",
    "\n",
    "pca_concrete = PCA(n_components=7)\n",
    "principalComp_concrete = pca_concrete.fit_transform(x)\n",
    "\n",
    "print('The proportion of variance explained by each PC: {}'.format(pca_concrete.explained_variance_ratio_))"
   ]
  },
  {
   "cell_type": "code",
   "execution_count": 13,
   "metadata": {
    "id": "Ns64NCLy5r__"
   },
   "outputs": [],
   "source": [
    "#creating a scree plot to determine th number of components to be used\n",
    "PC_values = np.arange(pca_concrete.n_components_) + 1\n",
    "plt.plot(PC_values, pca_concrete.explained_variance_ratio_, 'ro-', linewidth=2)\n",
    "plt.title('Scree Plot')\n",
    "plt.xlabel('Principal Component')\n",
    "plt.ylabel('Proportion of Variance Explained')\n",
    "plt.show()"
   ]
  },
  {
   "cell_type": "markdown",
   "metadata": {
    "id": "HcDjCu-n-JV3"
   },
   "source": [
    "Ideally, PCA is performed on datasets with a large number of columns, which might mean that a big proportion of them are irrelevant. In this case, we only have 7 columns out of which 4 are the key components that make up concrete:\n",
    "1. Water\n",
    "2. Coarse aggr.\n",
    "3. Fine aggr. \n",
    "4. Cement\n",
    "\n",
    "However, we can see in the scree plot that the first 4 PCs explain 83.6% of the variance. We can make an educated guess that the part discarded could be a combination of the additional chemicals added to concrete such as superplasticizer, fly ash which we saw had a positive correlation with strength of the cement and could contribute to it durability."
   ]
  },
  {
   "cell_type": "code",
   "execution_count": 14,
   "metadata": {
    "colab": {
     "base_uri": "https://localhost:8080/"
    },
    "id": "Q7SBmngR9XoW",
    "outputId": "ab80fdba-dd7f-4371-d862-22801b5ac15e"
   },
   "outputs": [
    {
     "data": {
      "text/plain": [
       "0.8361098405885852"
      ]
     },
     "execution_count": 14,
     "metadata": {},
     "output_type": "execute_result"
    }
   ],
   "source": [
    "sum(pca_concrete.explained_variance_ratio_[:4])"
   ]
  },
  {
   "cell_type": "code",
   "execution_count": 15,
   "metadata": {
    "colab": {
     "base_uri": "https://localhost:8080/",
     "height": 415
    },
    "id": "54-XbvUlczyd",
    "outputId": "f71f496b-2fc0-4ed5-8db0-785d612fceba"
   },
   "outputs": [
    {
     "data": {
      "text/html": [
       "<div>\n",
       "<style scoped>\n",
       "    .dataframe tbody tr th:only-of-type {\n",
       "        vertical-align: middle;\n",
       "    }\n",
       "\n",
       "    .dataframe tbody tr th {\n",
       "        vertical-align: top;\n",
       "    }\n",
       "\n",
       "    .dataframe thead th {\n",
       "        text-align: right;\n",
       "    }\n",
       "</style>\n",
       "<table border=\"1\" class=\"dataframe\">\n",
       "  <thead>\n",
       "    <tr style=\"text-align: right;\">\n",
       "      <th></th>\n",
       "      <th>pc_1</th>\n",
       "      <th>pc_2</th>\n",
       "      <th>pc_3</th>\n",
       "      <th>pc_4</th>\n",
       "    </tr>\n",
       "  </thead>\n",
       "  <tbody>\n",
       "    <tr>\n",
       "      <th>0</th>\n",
       "      <td>0.267519</td>\n",
       "      <td>0.048998</td>\n",
       "      <td>-0.944112</td>\n",
       "      <td>0.746884</td>\n",
       "    </tr>\n",
       "    <tr>\n",
       "      <th>1</th>\n",
       "      <td>-0.488953</td>\n",
       "      <td>1.844713</td>\n",
       "      <td>0.832270</td>\n",
       "      <td>-0.288779</td>\n",
       "    </tr>\n",
       "    <tr>\n",
       "      <th>2</th>\n",
       "      <td>-0.452798</td>\n",
       "      <td>2.699056</td>\n",
       "      <td>0.902533</td>\n",
       "      <td>-0.783674</td>\n",
       "    </tr>\n",
       "    <tr>\n",
       "      <th>3</th>\n",
       "      <td>-0.398914</td>\n",
       "      <td>3.341436</td>\n",
       "      <td>0.950733</td>\n",
       "      <td>-1.136015</td>\n",
       "    </tr>\n",
       "    <tr>\n",
       "      <th>4</th>\n",
       "      <td>-0.490634</td>\n",
       "      <td>0.849283</td>\n",
       "      <td>0.053376</td>\n",
       "      <td>1.469176</td>\n",
       "    </tr>\n",
       "    <tr>\n",
       "      <th>...</th>\n",
       "      <td>...</td>\n",
       "      <td>...</td>\n",
       "      <td>...</td>\n",
       "      <td>...</td>\n",
       "    </tr>\n",
       "    <tr>\n",
       "      <th>98</th>\n",
       "      <td>-2.013182</td>\n",
       "      <td>0.087107</td>\n",
       "      <td>-0.849752</td>\n",
       "      <td>0.523874</td>\n",
       "    </tr>\n",
       "    <tr>\n",
       "      <th>99</th>\n",
       "      <td>-1.966723</td>\n",
       "      <td>0.083172</td>\n",
       "      <td>-0.798182</td>\n",
       "      <td>0.502728</td>\n",
       "    </tr>\n",
       "    <tr>\n",
       "      <th>100</th>\n",
       "      <td>-1.710631</td>\n",
       "      <td>-0.174662</td>\n",
       "      <td>-0.748766</td>\n",
       "      <td>0.584401</td>\n",
       "    </tr>\n",
       "    <tr>\n",
       "      <th>101</th>\n",
       "      <td>-0.943042</td>\n",
       "      <td>-1.026062</td>\n",
       "      <td>-0.638782</td>\n",
       "      <td>0.746259</td>\n",
       "    </tr>\n",
       "    <tr>\n",
       "      <th>102</th>\n",
       "      <td>1.099560</td>\n",
       "      <td>-1.353299</td>\n",
       "      <td>0.336996</td>\n",
       "      <td>-0.344661</td>\n",
       "    </tr>\n",
       "  </tbody>\n",
       "</table>\n",
       "<p>103 rows × 4 columns</p>\n",
       "</div>"
      ],
      "text/plain": [
       "         pc_1      pc_2      pc_3      pc_4\n",
       "0    0.267519  0.048998 -0.944112  0.746884\n",
       "1   -0.488953  1.844713  0.832270 -0.288779\n",
       "2   -0.452798  2.699056  0.902533 -0.783674\n",
       "3   -0.398914  3.341436  0.950733 -1.136015\n",
       "4   -0.490634  0.849283  0.053376  1.469176\n",
       "..        ...       ...       ...       ...\n",
       "98  -2.013182  0.087107 -0.849752  0.523874\n",
       "99  -1.966723  0.083172 -0.798182  0.502728\n",
       "100 -1.710631 -0.174662 -0.748766  0.584401\n",
       "101 -0.943042 -1.026062 -0.638782  0.746259\n",
       "102  1.099560 -1.353299  0.336996 -0.344661\n",
       "\n",
       "[103 rows x 4 columns]"
      ]
     },
     "execution_count": 15,
     "metadata": {},
     "output_type": "execute_result"
    }
   ],
   "source": [
    "#creating a dataframe with the pca components of the all the samples\n",
    "pc_concrete_df = pd.DataFrame(data=principalComp_concrete, columns=['pc_'+str(i) for i in range(1,8)])\n",
    "pc_concrete_df = pc_concrete_df.drop(columns=[\"pc_5\",\"pc_6\",\"pc_7\"])\n",
    "pc_concrete_df"
   ]
  },
  {
   "cell_type": "markdown",
   "metadata": {
    "id": "zFs7EuvoyS1h"
   },
   "source": [
    "This dataframe can be further used for regression. (PC Regression)"
   ]
  },
  {
   "cell_type": "markdown",
   "metadata": {
    "id": "efUjV3NTWFZY"
   },
   "source": [
    "### **Modelling**"
   ]
  },
  {
   "cell_type": "code",
   "execution_count": 16,
   "metadata": {
    "id": "81YW3BNjacON"
   },
   "outputs": [],
   "source": [
    "from sklearn.linear_model import Lasso\n",
    "from sklearn.linear_model import LinearRegression\n",
    "from sklearn.model_selection import train_test_split \n",
    "from sklearn.linear_model import LinearRegression  \n",
    "from sklearn.metrics import mean_squared_error        \n",
    "from sklearn import metrics"
   ]
  },
  {
   "cell_type": "code",
   "execution_count": 17,
   "metadata": {
    "colab": {
     "base_uri": "https://localhost:8080/"
    },
    "id": "AgfWJY2wXr7s",
    "outputId": "75d95572-7ce1-4527-fc85-8cd6c3b83584"
   },
   "outputs": [
    {
     "data": {
      "text/plain": [
       "Index(['Cement', 'Slag', 'Fly ash', 'Water', 'SP', 'Coarse Aggr.',\n",
       "       'Fine Aggr.', 'Compressive Strength (28-day)(Mpa)'],\n",
       "      dtype='object')"
      ]
     },
     "execution_count": 17,
     "metadata": {},
     "output_type": "execute_result"
    }
   ],
   "source": [
    "temp.columns"
   ]
  },
  {
   "cell_type": "code",
   "execution_count": 18,
   "metadata": {
    "id": "UEjESKBXXTcV"
   },
   "outputs": [],
   "source": [
    "train_conc,test_conc = train_test_split(temp,test_size =.3,random_state = 23)\n",
    "train_X = train_conc[[x for x in train_conc.columns if x not in [\"Compressive Strength (28-day)(Mpa)\"]]]\n",
    "train_Y = train_conc[\"Compressive Strength (28-day)(Mpa)\"]\n",
    "test_X  = test_conc[[x for x in test_conc.columns if x not in [\"Compressive Strength (28-day)(Mpa)\"]]]\n",
    "test_Y  = test_conc[\"Compressive Strength (28-day)(Mpa)\"]"
   ]
  },
  {
   "cell_type": "code",
   "execution_count": 19,
   "metadata": {
    "colab": {
     "base_uri": "https://localhost:8080/"
    },
    "id": "L9fLXX63A7-K",
    "outputId": "8b7f28e4-555a-4b50-8385-14d02719888b"
   },
   "outputs": [
    {
     "name": "stdout",
     "output_type": "stream",
     "text": [
      "Accuracy of model is 0.9111405896672247\n",
      "Mean Absolute Error: 1.8841709624028053\n",
      "Mean Squared Error: 5.876247451247834\n",
      "Root Mean Squared Error: 2.42409724459392\n"
     ]
    },
    {
     "name": "stderr",
     "output_type": "stream",
     "text": [
      "C:\\Users\\Mitsy\\anaconda3\\lib\\site-packages\\sklearn\\linear_model\\_coordinate_descent.py:476: ConvergenceWarning: Objective did not converge. You might want to increase the number of iterations. Duality gap: 1.2105567425626873, tolerance: 0.4204890644444444\n",
      "  positive)\n"
     ]
    }
   ],
   "source": [
    "#trying the lasso model\n",
    "\n",
    "lasso_reg = Lasso(alpha=0.1)\n",
    "lasso_model = lasso_reg.fit(train_X, train_Y)\n",
    "y_pred = lasso_reg.predict(test_X)\n",
    "\n",
    "lasso_score=lasso_model.score(test_X, test_Y)\n",
    "rmse=np.sqrt(mean_squared_error(y_pred, test_Y))\n",
    "\n",
    "print('Accuracy of model is', lasso_model.score(test_X, test_Y))\n",
    "print('Mean Absolute Error:', metrics.mean_absolute_error(test_Y, y_pred))  \n",
    "print('Mean Squared Error:', metrics.mean_squared_error(test_Y, y_pred))  \n",
    "print('Root Mean Squared Error:', np.sqrt(mean_squared_error(test_Y, y_pred)))"
   ]
  },
  {
   "cell_type": "code",
   "execution_count": 20,
   "metadata": {
    "colab": {
     "base_uri": "https://localhost:8080/"
    },
    "id": "WP8LHOu4cMHJ",
    "outputId": "ba864730-3a72-4cf6-b91a-230996be9089"
   },
   "outputs": [
    {
     "name": "stdout",
     "output_type": "stream",
     "text": [
      "Accuracy of model is 0.9051803290283622\n",
      "Mean Absolute Error: 1.9386730361407418\n",
      "Mean Squared Error: 6.270397786667847\n",
      "Root Mean Squared Error: 2.5040762341965244\n"
     ]
    }
   ],
   "source": [
    "#trying the Linear regression model for comparison\n",
    "\n",
    "lm_reg = LinearRegression()\n",
    "lm_model = lm_reg.fit(train_X, train_Y)\n",
    "y_pred2 = lm_reg.predict(test_X)\n",
    "lm_score =lm_reg.score(test_X, test_Y)\n",
    "rmse_lm =np.sqrt(mean_squared_error(test_Y, y_pred2))\n",
    "print('Accuracy of model is', lm_model.score(test_X, test_Y))\n",
    "print('Mean Absolute Error:', metrics.mean_absolute_error(y_pred2, test_Y))  \n",
    "print('Mean Squared Error:', metrics.mean_squared_error(y_pred2, test_Y))  \n",
    "print('Root Mean Squared Error:', np.sqrt(mean_squared_error(test_Y, y_pred2)))"
   ]
  },
  {
   "cell_type": "markdown",
   "metadata": {
    "id": "5TCinGH8dDCf"
   },
   "source": [
    "Thus we can see that the lasso model does marginally better than the linear regression model when tested on the same dataset."
   ]
  },
  {
   "cell_type": "code",
   "execution_count": null,
   "metadata": {
    "id": "gfgx3aBQA77c"
   },
   "outputs": [],
   "source": []
  }
 ],
 "metadata": {
  "colab": {
   "collapsed_sections": [],
   "name": "Stat154_mt",
   "provenance": []
  },
  "kernelspec": {
   "display_name": "Python 3",
   "language": "python",
   "name": "python3"
  },
  "language_info": {
   "codemirror_mode": {
    "name": "ipython",
    "version": 3
   },
   "file_extension": ".py",
   "mimetype": "text/x-python",
   "name": "python",
   "nbconvert_exporter": "python",
   "pygments_lexer": "ipython3",
   "version": "3.7.6"
  }
 },
 "nbformat": 4,
 "nbformat_minor": 1
}
