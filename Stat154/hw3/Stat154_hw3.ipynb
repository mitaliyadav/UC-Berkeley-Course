{
 "cells": [
  {
   "cell_type": "markdown",
   "metadata": {},
   "source": [
    "# HW3"
   ]
  },
  {
   "cell_type": "markdown",
   "metadata": {},
   "source": [
    "### Q4"
   ]
  },
  {
   "cell_type": "code",
   "execution_count": 1,
   "metadata": {},
   "outputs": [],
   "source": [
    "#importing the libraries\n",
    "import pandas as pd\n",
    "import numpy as np\n",
    "import matplotlib.pyplot as plt\n",
    "import seaborn as sns\n",
    "from sklearn.decomposition import PCA  \n",
    "from sklearn.preprocessing import StandardScaler  \n",
    "from sklearn import linear_model  \n",
    "from sklearn.model_selection import cross_val_predict  \n",
    "from sklearn.metrics import mean_squared_error, r2_score  "
   ]
  },
  {
   "cell_type": "code",
   "execution_count": 3,
   "metadata": {},
   "outputs": [],
   "source": [
    "temp = pd.read_table(\"slump_test.data\", sep=\",\")\n",
    "temp2 = pd.read_table(\"slump_test.names\")\n",
    "\n",
    "#save temp as csv\n",
    "temp.to_csv(\"slump_test.csv\")"
   ]
  },
  {
   "cell_type": "code",
   "execution_count": 2,
   "metadata": {},
   "outputs": [
    {
     "data": {
      "text/html": [
       "<div>\n",
       "<style scoped>\n",
       "    .dataframe tbody tr th:only-of-type {\n",
       "        vertical-align: middle;\n",
       "    }\n",
       "\n",
       "    .dataframe tbody tr th {\n",
       "        vertical-align: top;\n",
       "    }\n",
       "\n",
       "    .dataframe thead th {\n",
       "        text-align: right;\n",
       "    }\n",
       "</style>\n",
       "<table border=\"1\" class=\"dataframe\">\n",
       "  <thead>\n",
       "    <tr style=\"text-align: right;\">\n",
       "      <th></th>\n",
       "      <th>y</th>\n",
       "    </tr>\n",
       "  </thead>\n",
       "  <tbody>\n",
       "    <tr>\n",
       "      <th>0</th>\n",
       "      <td>22.5</td>\n",
       "    </tr>\n",
       "    <tr>\n",
       "      <th>1</th>\n",
       "      <td>40.1</td>\n",
       "    </tr>\n",
       "    <tr>\n",
       "      <th>2</th>\n",
       "      <td>8.4</td>\n",
       "    </tr>\n",
       "    <tr>\n",
       "      <th>3</th>\n",
       "      <td>5.9</td>\n",
       "    </tr>\n",
       "    <tr>\n",
       "      <th>4</th>\n",
       "      <td>25.5</td>\n",
       "    </tr>\n",
       "  </tbody>\n",
       "</table>\n",
       "</div>"
      ],
      "text/plain": [
       "      y\n",
       "0  22.5\n",
       "1  40.1\n",
       "2   8.4\n",
       "3   5.9\n",
       "4  25.5"
      ]
     },
     "metadata": {},
     "output_type": "display_data"
    },
    {
     "data": {
      "text/plain": [
       "(215, 100)"
      ]
     },
     "metadata": {},
     "output_type": "display_data"
    },
    {
     "data": {
      "text/html": [
       "<div>\n",
       "<style scoped>\n",
       "    .dataframe tbody tr th:only-of-type {\n",
       "        vertical-align: middle;\n",
       "    }\n",
       "\n",
       "    .dataframe tbody tr th {\n",
       "        vertical-align: top;\n",
       "    }\n",
       "\n",
       "    .dataframe thead th {\n",
       "        text-align: right;\n",
       "    }\n",
       "</style>\n",
       "<table border=\"1\" class=\"dataframe\">\n",
       "  <thead>\n",
       "    <tr style=\"text-align: right;\">\n",
       "      <th></th>\n",
       "      <th>1</th>\n",
       "      <th>2</th>\n",
       "      <th>3</th>\n",
       "      <th>4</th>\n",
       "      <th>5</th>\n",
       "      <th>6</th>\n",
       "      <th>7</th>\n",
       "      <th>8</th>\n",
       "      <th>9</th>\n",
       "      <th>10</th>\n",
       "      <th>...</th>\n",
       "      <th>91</th>\n",
       "      <th>92</th>\n",
       "      <th>93</th>\n",
       "      <th>94</th>\n",
       "      <th>95</th>\n",
       "      <th>96</th>\n",
       "      <th>97</th>\n",
       "      <th>98</th>\n",
       "      <th>99</th>\n",
       "      <th>100</th>\n",
       "    </tr>\n",
       "  </thead>\n",
       "  <tbody>\n",
       "    <tr>\n",
       "      <th>0</th>\n",
       "      <td>2.61776</td>\n",
       "      <td>2.61814</td>\n",
       "      <td>2.61859</td>\n",
       "      <td>2.61912</td>\n",
       "      <td>2.61981</td>\n",
       "      <td>2.62071</td>\n",
       "      <td>2.62186</td>\n",
       "      <td>2.62334</td>\n",
       "      <td>2.62511</td>\n",
       "      <td>2.62722</td>\n",
       "      <td>...</td>\n",
       "      <td>3.00247</td>\n",
       "      <td>2.98145</td>\n",
       "      <td>2.96072</td>\n",
       "      <td>2.94013</td>\n",
       "      <td>2.91978</td>\n",
       "      <td>2.89966</td>\n",
       "      <td>2.87964</td>\n",
       "      <td>2.85960</td>\n",
       "      <td>2.83940</td>\n",
       "      <td>2.81920</td>\n",
       "    </tr>\n",
       "    <tr>\n",
       "      <th>1</th>\n",
       "      <td>2.83454</td>\n",
       "      <td>2.83871</td>\n",
       "      <td>2.84283</td>\n",
       "      <td>2.84705</td>\n",
       "      <td>2.85138</td>\n",
       "      <td>2.85587</td>\n",
       "      <td>2.86060</td>\n",
       "      <td>2.86566</td>\n",
       "      <td>2.87093</td>\n",
       "      <td>2.87661</td>\n",
       "      <td>...</td>\n",
       "      <td>3.30473</td>\n",
       "      <td>3.29186</td>\n",
       "      <td>3.27921</td>\n",
       "      <td>3.26655</td>\n",
       "      <td>3.25369</td>\n",
       "      <td>3.24045</td>\n",
       "      <td>3.22659</td>\n",
       "      <td>3.21181</td>\n",
       "      <td>3.19600</td>\n",
       "      <td>3.17942</td>\n",
       "    </tr>\n",
       "    <tr>\n",
       "      <th>2</th>\n",
       "      <td>2.58284</td>\n",
       "      <td>2.58458</td>\n",
       "      <td>2.58629</td>\n",
       "      <td>2.58808</td>\n",
       "      <td>2.58996</td>\n",
       "      <td>2.59192</td>\n",
       "      <td>2.59401</td>\n",
       "      <td>2.59627</td>\n",
       "      <td>2.59873</td>\n",
       "      <td>2.60131</td>\n",
       "      <td>...</td>\n",
       "      <td>2.70934</td>\n",
       "      <td>2.68951</td>\n",
       "      <td>2.67009</td>\n",
       "      <td>2.65112</td>\n",
       "      <td>2.63262</td>\n",
       "      <td>2.61461</td>\n",
       "      <td>2.59718</td>\n",
       "      <td>2.58034</td>\n",
       "      <td>2.56404</td>\n",
       "      <td>2.54816</td>\n",
       "    </tr>\n",
       "    <tr>\n",
       "      <th>3</th>\n",
       "      <td>2.82286</td>\n",
       "      <td>2.82460</td>\n",
       "      <td>2.82630</td>\n",
       "      <td>2.82814</td>\n",
       "      <td>2.83001</td>\n",
       "      <td>2.83192</td>\n",
       "      <td>2.83392</td>\n",
       "      <td>2.83606</td>\n",
       "      <td>2.83842</td>\n",
       "      <td>2.84097</td>\n",
       "      <td>...</td>\n",
       "      <td>2.99820</td>\n",
       "      <td>2.97367</td>\n",
       "      <td>2.94951</td>\n",
       "      <td>2.92576</td>\n",
       "      <td>2.90251</td>\n",
       "      <td>2.87988</td>\n",
       "      <td>2.85794</td>\n",
       "      <td>2.83672</td>\n",
       "      <td>2.81617</td>\n",
       "      <td>2.79622</td>\n",
       "    </tr>\n",
       "    <tr>\n",
       "      <th>4</th>\n",
       "      <td>2.78813</td>\n",
       "      <td>2.78989</td>\n",
       "      <td>2.79167</td>\n",
       "      <td>2.79350</td>\n",
       "      <td>2.79538</td>\n",
       "      <td>2.79746</td>\n",
       "      <td>2.79984</td>\n",
       "      <td>2.80254</td>\n",
       "      <td>2.80553</td>\n",
       "      <td>2.80890</td>\n",
       "      <td>...</td>\n",
       "      <td>3.32201</td>\n",
       "      <td>3.30025</td>\n",
       "      <td>3.27907</td>\n",
       "      <td>3.25831</td>\n",
       "      <td>3.23784</td>\n",
       "      <td>3.21765</td>\n",
       "      <td>3.19766</td>\n",
       "      <td>3.17770</td>\n",
       "      <td>3.15770</td>\n",
       "      <td>3.13753</td>\n",
       "    </tr>\n",
       "  </tbody>\n",
       "</table>\n",
       "<p>5 rows × 100 columns</p>\n",
       "</div>"
      ],
      "text/plain": [
       "         1        2        3        4        5        6        7        8  \\\n",
       "0  2.61776  2.61814  2.61859  2.61912  2.61981  2.62071  2.62186  2.62334   \n",
       "1  2.83454  2.83871  2.84283  2.84705  2.85138  2.85587  2.86060  2.86566   \n",
       "2  2.58284  2.58458  2.58629  2.58808  2.58996  2.59192  2.59401  2.59627   \n",
       "3  2.82286  2.82460  2.82630  2.82814  2.83001  2.83192  2.83392  2.83606   \n",
       "4  2.78813  2.78989  2.79167  2.79350  2.79538  2.79746  2.79984  2.80254   \n",
       "\n",
       "         9       10  ...       91       92       93       94       95  \\\n",
       "0  2.62511  2.62722  ...  3.00247  2.98145  2.96072  2.94013  2.91978   \n",
       "1  2.87093  2.87661  ...  3.30473  3.29186  3.27921  3.26655  3.25369   \n",
       "2  2.59873  2.60131  ...  2.70934  2.68951  2.67009  2.65112  2.63262   \n",
       "3  2.83842  2.84097  ...  2.99820  2.97367  2.94951  2.92576  2.90251   \n",
       "4  2.80553  2.80890  ...  3.32201  3.30025  3.27907  3.25831  3.23784   \n",
       "\n",
       "        96       97       98       99      100  \n",
       "0  2.89966  2.87964  2.85960  2.83940  2.81920  \n",
       "1  3.24045  3.22659  3.21181  3.19600  3.17942  \n",
       "2  2.61461  2.59718  2.58034  2.56404  2.54816  \n",
       "3  2.87988  2.85794  2.83672  2.81617  2.79622  \n",
       "4  3.21765  3.19766  3.17770  3.15770  3.13753  \n",
       "\n",
       "[5 rows x 100 columns]"
      ]
     },
     "execution_count": 2,
     "metadata": {},
     "output_type": "execute_result"
    }
   ],
   "source": [
    "#importing the datasets\n",
    "tecator_X = pd.read_csv(\"tecator_X.csv\")\n",
    "tecator_Y = pd.read_csv(\"tecator_Y.csv\")\n",
    "display(tecator_Y.head(), tecator_X.shape)\n",
    "tecator_X.head()"
   ]
  },
  {
   "cell_type": "code",
   "execution_count": 23,
   "metadata": {},
   "outputs": [
    {
     "name": "stdout",
     "output_type": "stream",
     "text": [
      "0.9951112661587984 0.9524657027045825\n"
     ]
    }
   ],
   "source": [
    "#standardization of the data\n",
    "n_comp = 15\n",
    "tec_X_std = StandardScaler().fit_transform(tecator_X.values)\n",
    "pca = PCA(n_components=n_comp)\n",
    "tec_pca = pca.fit_transform(tec_X_std)\n",
    "\n",
    "pca.explained_variance_ratio_\n",
    "\n",
    "regression = linear_model.LinearRegression()\n",
    "regression.fit(tec_X_std, tecator_Y)\n",
    "\n",
    "pred_y = regression.predict(tec_X_std)\n",
    "\n",
    "y_crossvalid = cross_val_predict(regression, tec_X_std,tecator_Y, cv=10)\n",
    "\n",
    "score_cal = r2_score(tecator_Y, pred_y)\n",
    "score_crossvalid = r2_score(tecator_Y, y_crossvalid)\n",
    "\n",
    "print(score_cal, score_crossvalid)"
   ]
  },
  {
   "cell_type": "code",
   "execution_count": 19,
   "metadata": {},
   "outputs": [],
   "source": [
    "#creating a function for PC regression to decide on the number of components to use\n",
    "def pc_regression(X_data, y_data, num_pc):\n",
    "    \n",
    "    #doing pca with num_pc number of components\n",
    "    temp_pca = PCA()\n",
    "    tec_X_std_temp = StandardScaler().fit_transform(X_data.values)\n",
    "    tec_pca_sel = temp_pca.fit_transform(tec_X_std_temp)[:, :num_pc]\n",
    "    \n",
    "    #performing regression on selected components\n",
    "    temp_regr = linear_model.LinearRegression()\n",
    "    temp_regr.fit(tec_X_std_temp, y_data)\n",
    "    \n",
    "    #using the linear model to predict the points\n",
    "    y_hat = temp_regr.predict(tec_X_std_temp)\n",
    "    \n",
    "    #cross-validation\n",
    "    y_crossvalid = cross_val_predict(temp_regr, tec_X_std_temp,y_data, cv=10)\n",
    "    \n",
    "    #calculating the scores for crossvalidation and calibration\n",
    "    score_cal = r2_score(y_data, y_hat)\n",
    "    score_crossvalid = r2_score(y_data, y_crossvalid)\n",
    "    \n",
    "    #calculating mse for calibration and crossvalidation\n",
    "    mse_c = mean_squared_error(y_data, y_hat)\n",
    "    mse_cv = mean_squared_error(y_data, y_crossvalid)\n",
    "    \n",
    "    return (y_crossvalid, score_cal, score_crossvalid, mse_c, mse_cv)"
   ]
  },
  {
   "cell_type": "code",
   "execution_count": 20,
   "metadata": {},
   "outputs": [],
   "source": [
    "#collecting the stats to compare for different number of pc\n",
    "mse_crossv = []\n",
    "r2s_crossv = []\n",
    "mse_cali = []\n",
    "r2s_cali = []\n",
    "\n",
    "for pc in range(1, 26):\n",
    "    y_cv, score_c, score_cv, mse_c, mse_cv = pc_regression(tecator_X, tecator_Y, pc)\n",
    "    r2s_cali.append(score_c)\n",
    "    r2s_crossv.append(score_cv)\n",
    "    mse_cali.append(mse_c)\n",
    "    mse_crossv.append(mse_cv)"
   ]
  },
  {
   "cell_type": "code",
   "execution_count": 22,
   "metadata": {},
   "outputs": [
    {
     "data": {
      "text/plain": [
       "<matplotlib.axes._subplots.AxesSubplot at 0x21c48cfaf88>"
      ]
     },
     "execution_count": 22,
     "metadata": {},
     "output_type": "execute_result"
    },
    {
     "data": {
      "image/png": "[encoded data removed]",
      "text/plain": [
       "<Figure size 432x288 with 1 Axes>"
      ]
     },
     "metadata": {
      "needs_background": "light"
     },
     "output_type": "display_data"
    }
   ],
   "source": [
    "#plotting the graph of R2 and number of components for calibrated values and cross-validated values\n",
    "x_values = np.arange(1,26)\n",
    "sns.lineplot(x=x_values, y=r2s_cali, label=\"Calibration\", markers=True)\n",
    "sns.lineplot(x=x_values, y=r2s_crossv, label = \"Cross-validation\", markers = True)"
   ]
  },
  {
   "cell_type": "code",
   "execution_count": null,
   "metadata": {},
   "outputs": [],
   "source": []
  },
  {
   "cell_type": "code",
   "execution_count": null,
   "metadata": {},
   "outputs": [],
   "source": []
  },
  {
   "cell_type": "code",
   "execution_count": null,
   "metadata": {},
   "outputs": [],
   "source": []
  },
  {
   "cell_type": "code",
   "execution_count": null,
   "metadata": {},
   "outputs": [],
   "source": []
  }
 ],
 "metadata": {
  "kernelspec": {
   "display_name": "Python 3",
   "language": "python",
   "name": "python3"
  },
  "language_info": {
   "codemirror_mode": {
    "name": "ipython",
    "version": 3
   },
   "file_extension": ".py",
   "mimetype": "text/x-python",
   "name": "python",
   "nbconvert_exporter": "python",
   "pygments_lexer": "ipython3",
   "version": "3.7.6"
  }
 },
 "nbformat": 4,
 "nbformat_minor": 4
}
