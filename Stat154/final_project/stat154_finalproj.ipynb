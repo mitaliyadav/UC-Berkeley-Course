{
 "cells": [
  {
   "cell_type": "code",
   "execution_count": 1,
   "metadata": {
    "id": "WsSj40tPHjoK"
   },
   "outputs": [],
   "source": [
    "import numpy as np\n",
    "import pandas as pd\n",
    "import seaborn as sns\n",
    "import matplotlib.pyplot as plt\n",
    "plt.style.use('ggplot')\n",
    "sns.set()"
   ]
  },
  {
   "cell_type": "code",
   "execution_count": 2,
   "metadata": {
    "colab": {
     "base_uri": "https://localhost:8080/",
     "height": 0
    },
    "id": "8z2C6v13ICwV",
    "outputId": "b317d0e0-ab96-44f1-efe6-68dd4c76742b"
   },
   "outputs": [
    {
     "name": "stdout",
     "output_type": "stream",
     "text": [
      "Mounted at /content/drive\n"
     ]
    }
   ],
   "source": [
    "from google.colab import drive\n",
    "drive.mount('/content/drive', force_remount=True)"
   ]
  },
  {
   "cell_type": "code",
   "execution_count": 3,
   "metadata": {
    "colab": {
     "base_uri": "https://localhost:8080/",
     "height": 499
    },
    "id": "NzzR9JmtH29I",
    "outputId": "1611fb0a-a7fe-41c5-f4d1-384a4d0cda97"
   },
   "outputs": [
    {
     "data": {
      "text/html": [
       "<div>\n",
       "<style scoped>\n",
       "    .dataframe tbody tr th:only-of-type {\n",
       "        vertical-align: middle;\n",
       "    }\n",
       "\n",
       "    .dataframe tbody tr th {\n",
       "        vertical-align: top;\n",
       "    }\n",
       "\n",
       "    .dataframe thead th {\n",
       "        text-align: right;\n",
       "    }\n",
       "</style>\n",
       "<table border=\"1\" class=\"dataframe\">\n",
       "  <thead>\n",
       "    <tr style=\"text-align: right;\">\n",
       "      <th></th>\n",
       "      <th>ID</th>\n",
       "      <th>Source</th>\n",
       "      <th>TMC</th>\n",
       "      <th>Severity</th>\n",
       "      <th>Start_Time</th>\n",
       "      <th>End_Time</th>\n",
       "      <th>Start_Lat</th>\n",
       "      <th>Start_Lng</th>\n",
       "      <th>End_Lat</th>\n",
       "      <th>End_Lng</th>\n",
       "      <th>Distance.mi.</th>\n",
       "      <th>Description</th>\n",
       "      <th>Number</th>\n",
       "      <th>Street</th>\n",
       "      <th>Side</th>\n",
       "      <th>City</th>\n",
       "      <th>County</th>\n",
       "      <th>State</th>\n",
       "      <th>Zipcode</th>\n",
       "      <th>Country</th>\n",
       "      <th>Timezone</th>\n",
       "      <th>Airport_Code</th>\n",
       "      <th>Weather_Timestamp</th>\n",
       "      <th>Temperature.F.</th>\n",
       "      <th>Wind_Chill.F.</th>\n",
       "      <th>Humidity...</th>\n",
       "      <th>Pressure.in.</th>\n",
       "      <th>Visibility.mi.</th>\n",
       "      <th>Wind_Direction</th>\n",
       "      <th>Wind_Speed.mph.</th>\n",
       "      <th>Precipitation.in.</th>\n",
       "      <th>Weather_Condition</th>\n",
       "      <th>Amenity</th>\n",
       "      <th>Bump</th>\n",
       "      <th>Crossing</th>\n",
       "      <th>Give_Way</th>\n",
       "      <th>Junction</th>\n",
       "      <th>No_Exit</th>\n",
       "      <th>Railway</th>\n",
       "      <th>Roundabout</th>\n",
       "      <th>Station</th>\n",
       "      <th>Stop</th>\n",
       "      <th>Traffic_Calming</th>\n",
       "      <th>Traffic_Signal</th>\n",
       "      <th>Turning_Loop</th>\n",
       "      <th>Sunrise_Sunset</th>\n",
       "      <th>Civil_Twilight</th>\n",
       "      <th>Nautical_Twilight</th>\n",
       "      <th>Astronomical_Twilight</th>\n",
       "    </tr>\n",
       "  </thead>\n",
       "  <tbody>\n",
       "    <tr>\n",
       "      <th>0</th>\n",
       "      <td>A-2017855</td>\n",
       "      <td>MapQuest</td>\n",
       "      <td>201.0</td>\n",
       "      <td>2</td>\n",
       "      <td>2018-07-19 20:30:23</td>\n",
       "      <td>2018-07-19 21:14:11</td>\n",
       "      <td>34.153896</td>\n",
       "      <td>-118.275482</td>\n",
       "      <td>NaN</td>\n",
       "      <td>NaN</td>\n",
       "      <td>0.000</td>\n",
       "      <td>Lane blocked due to accident on CA-134 Eastbou...</td>\n",
       "      <td>5563.0</td>\n",
       "      <td>San Fernando Rd</td>\n",
       "      <td>L</td>\n",
       "      <td>Glendale</td>\n",
       "      <td>Los Angeles</td>\n",
       "      <td>CA</td>\n",
       "      <td>91203</td>\n",
       "      <td>US</td>\n",
       "      <td>US/Pacific</td>\n",
       "      <td>KBUR</td>\n",
       "      <td>2018-07-19 20:53:00</td>\n",
       "      <td>75.0</td>\n",
       "      <td>NaN</td>\n",
       "      <td>66.0</td>\n",
       "      <td>29.90</td>\n",
       "      <td>10.0</td>\n",
       "      <td>South</td>\n",
       "      <td>5.8</td>\n",
       "      <td>NaN</td>\n",
       "      <td>Clear</td>\n",
       "      <td>False</td>\n",
       "      <td>False</td>\n",
       "      <td>False</td>\n",
       "      <td>False</td>\n",
       "      <td>False</td>\n",
       "      <td>False</td>\n",
       "      <td>False</td>\n",
       "      <td>False</td>\n",
       "      <td>False</td>\n",
       "      <td>False</td>\n",
       "      <td>False</td>\n",
       "      <td>False</td>\n",
       "      <td>False</td>\n",
       "      <td>Night</td>\n",
       "      <td>Day</td>\n",
       "      <td>Day</td>\n",
       "      <td>Day</td>\n",
       "    </tr>\n",
       "    <tr>\n",
       "      <th>1</th>\n",
       "      <td>A-3340193</td>\n",
       "      <td>Bing</td>\n",
       "      <td>NaN</td>\n",
       "      <td>2</td>\n",
       "      <td>2020-12-27 13:22:48</td>\n",
       "      <td>2020-12-27 15:02:42</td>\n",
       "      <td>40.261747</td>\n",
       "      <td>-75.250020</td>\n",
       "      <td>40.263001</td>\n",
       "      <td>-75.251072</td>\n",
       "      <td>0.103</td>\n",
       "      <td>Incident on BETHLEHEM PIKE near MELE AVE Drive...</td>\n",
       "      <td>591.0</td>\n",
       "      <td>Bethlehem Pike</td>\n",
       "      <td>R</td>\n",
       "      <td>Montgomeryville</td>\n",
       "      <td>Montgomery</td>\n",
       "      <td>PA</td>\n",
       "      <td>18936-9703</td>\n",
       "      <td>US</td>\n",
       "      <td>US/Eastern</td>\n",
       "      <td>KLOM</td>\n",
       "      <td>2020-12-27 13:15:00</td>\n",
       "      <td>36.0</td>\n",
       "      <td>31.0</td>\n",
       "      <td>53.0</td>\n",
       "      <td>29.97</td>\n",
       "      <td>10.0</td>\n",
       "      <td>W</td>\n",
       "      <td>6.0</td>\n",
       "      <td>0.0</td>\n",
       "      <td>Fair</td>\n",
       "      <td>False</td>\n",
       "      <td>False</td>\n",
       "      <td>False</td>\n",
       "      <td>False</td>\n",
       "      <td>False</td>\n",
       "      <td>False</td>\n",
       "      <td>False</td>\n",
       "      <td>False</td>\n",
       "      <td>False</td>\n",
       "      <td>False</td>\n",
       "      <td>False</td>\n",
       "      <td>False</td>\n",
       "      <td>False</td>\n",
       "      <td>Day</td>\n",
       "      <td>Day</td>\n",
       "      <td>Day</td>\n",
       "      <td>Day</td>\n",
       "    </tr>\n",
       "    <tr>\n",
       "      <th>2</th>\n",
       "      <td>A-3274372</td>\n",
       "      <td>Bing</td>\n",
       "      <td>NaN</td>\n",
       "      <td>2</td>\n",
       "      <td>2020-12-19 20:27:52</td>\n",
       "      <td>2020-12-19 22:23:39</td>\n",
       "      <td>29.980875</td>\n",
       "      <td>-90.073829</td>\n",
       "      <td>29.981676</td>\n",
       "      <td>-90.073111</td>\n",
       "      <td>0.070</td>\n",
       "      <td>Incident on N BROAD ST near AUBRY ST Drive wit...</td>\n",
       "      <td>NaN</td>\n",
       "      <td>Dabadie St</td>\n",
       "      <td>R</td>\n",
       "      <td>New Orleans</td>\n",
       "      <td>Orleans</td>\n",
       "      <td>LA</td>\n",
       "      <td>70119</td>\n",
       "      <td>US</td>\n",
       "      <td>US/Pacific</td>\n",
       "      <td>KAUD</td>\n",
       "      <td>2020-12-19 20:34:00</td>\n",
       "      <td>57.0</td>\n",
       "      <td>57.0</td>\n",
       "      <td>100.0</td>\n",
       "      <td>30.06</td>\n",
       "      <td>4.0</td>\n",
       "      <td>ENE</td>\n",
       "      <td>12.0</td>\n",
       "      <td>0.2</td>\n",
       "      <td>Heavy Rain</td>\n",
       "      <td>False</td>\n",
       "      <td>False</td>\n",
       "      <td>False</td>\n",
       "      <td>False</td>\n",
       "      <td>False</td>\n",
       "      <td>False</td>\n",
       "      <td>False</td>\n",
       "      <td>False</td>\n",
       "      <td>False</td>\n",
       "      <td>False</td>\n",
       "      <td>False</td>\n",
       "      <td>False</td>\n",
       "      <td>False</td>\n",
       "      <td>Night</td>\n",
       "      <td>Night</td>\n",
       "      <td>Night</td>\n",
       "      <td>Night</td>\n",
       "    </tr>\n",
       "    <tr>\n",
       "      <th>3</th>\n",
       "      <td>A-2782559</td>\n",
       "      <td>Bing</td>\n",
       "      <td>NaN</td>\n",
       "      <td>3</td>\n",
       "      <td>2016-09-27 17:29:27</td>\n",
       "      <td>2016-09-27 23:29:27</td>\n",
       "      <td>39.018870</td>\n",
       "      <td>-77.102890</td>\n",
       "      <td>39.019580</td>\n",
       "      <td>-77.107080</td>\n",
       "      <td>0.230</td>\n",
       "      <td>At I-270/Exit 35 - Accident.</td>\n",
       "      <td>NaN</td>\n",
       "      <td>Capital Beltway W</td>\n",
       "      <td>R</td>\n",
       "      <td>Bethesda</td>\n",
       "      <td>Montgomery</td>\n",
       "      <td>MD</td>\n",
       "      <td>20814</td>\n",
       "      <td>US</td>\n",
       "      <td>US/Eastern</td>\n",
       "      <td>KCGS</td>\n",
       "      <td>2016-09-27 17:35:00</td>\n",
       "      <td>73.4</td>\n",
       "      <td>NaN</td>\n",
       "      <td>53.0</td>\n",
       "      <td>29.89</td>\n",
       "      <td>10.0</td>\n",
       "      <td>South</td>\n",
       "      <td>5.8</td>\n",
       "      <td>NaN</td>\n",
       "      <td>Scattered Clouds</td>\n",
       "      <td>False</td>\n",
       "      <td>False</td>\n",
       "      <td>False</td>\n",
       "      <td>False</td>\n",
       "      <td>False</td>\n",
       "      <td>False</td>\n",
       "      <td>False</td>\n",
       "      <td>False</td>\n",
       "      <td>False</td>\n",
       "      <td>False</td>\n",
       "      <td>False</td>\n",
       "      <td>False</td>\n",
       "      <td>False</td>\n",
       "      <td>Day</td>\n",
       "      <td>Day</td>\n",
       "      <td>Day</td>\n",
       "      <td>Day</td>\n",
       "    </tr>\n",
       "    <tr>\n",
       "      <th>4</th>\n",
       "      <td>A-3722269</td>\n",
       "      <td>Bing</td>\n",
       "      <td>NaN</td>\n",
       "      <td>2</td>\n",
       "      <td>2020-02-11 19:22:00</td>\n",
       "      <td>2020-02-11 23:22:00</td>\n",
       "      <td>45.743940</td>\n",
       "      <td>-120.175670</td>\n",
       "      <td>45.743940</td>\n",
       "      <td>-120.175670</td>\n",
       "      <td>0.000</td>\n",
       "      <td>At OR-74/Exit 147 - Accident.</td>\n",
       "      <td>NaN</td>\n",
       "      <td>I-84 E</td>\n",
       "      <td>R</td>\n",
       "      <td>Arlington</td>\n",
       "      <td>Gilliam</td>\n",
       "      <td>OR</td>\n",
       "      <td>97812</td>\n",
       "      <td>US</td>\n",
       "      <td>US/Pacific</td>\n",
       "      <td>KHRI</td>\n",
       "      <td>2020-02-11 18:53:00</td>\n",
       "      <td>47.0</td>\n",
       "      <td>40.0</td>\n",
       "      <td>61.0</td>\n",
       "      <td>29.40</td>\n",
       "      <td>10.0</td>\n",
       "      <td>WSW</td>\n",
       "      <td>20.0</td>\n",
       "      <td>0.0</td>\n",
       "      <td>Partly Cloudy</td>\n",
       "      <td>False</td>\n",
       "      <td>False</td>\n",
       "      <td>False</td>\n",
       "      <td>False</td>\n",
       "      <td>False</td>\n",
       "      <td>False</td>\n",
       "      <td>False</td>\n",
       "      <td>False</td>\n",
       "      <td>False</td>\n",
       "      <td>False</td>\n",
       "      <td>False</td>\n",
       "      <td>False</td>\n",
       "      <td>False</td>\n",
       "      <td>Night</td>\n",
       "      <td>Night</td>\n",
       "      <td>Night</td>\n",
       "      <td>Night</td>\n",
       "    </tr>\n",
       "  </tbody>\n",
       "</table>\n",
       "</div>"
      ],
      "text/plain": [
       "          ID    Source  ...  Nautical_Twilight  Astronomical_Twilight\n",
       "0  A-2017855  MapQuest  ...                Day                    Day\n",
       "1  A-3340193      Bing  ...                Day                    Day\n",
       "2  A-3274372      Bing  ...              Night                  Night\n",
       "3  A-2782559      Bing  ...                Day                    Day\n",
       "4  A-3722269      Bing  ...              Night                  Night\n",
       "\n",
       "[5 rows x 49 columns]"
      ]
     },
     "execution_count": 3,
     "metadata": {
      "tags": []
     },
     "output_type": "execute_result"
    }
   ],
   "source": [
    "#uploading the training dataset\n",
    "acc_train = pd.read_csv(\"/content/drive/MyDrive/final_project/train.csv\")\n",
    "acc_train.head()"
   ]
  },
  {
   "cell_type": "code",
   "execution_count": 4,
   "metadata": {
    "colab": {
     "base_uri": "https://localhost:8080/",
     "height": 0
    },
    "id": "u9cHIbHOH25q",
    "outputId": "544154ca-c59e-4581-b360-e3d688f89bdb"
   },
   "outputs": [
    {
     "data": {
      "text/plain": [
       "(2962779, 49)"
      ]
     },
     "execution_count": 4,
     "metadata": {
      "tags": []
     },
     "output_type": "execute_result"
    }
   ],
   "source": [
    "acc_train.shape"
   ]
  },
  {
   "cell_type": "code",
   "execution_count": 5,
   "metadata": {
    "colab": {
     "base_uri": "https://localhost:8080/",
     "height": 508
    },
    "id": "EW1x4ZdXH2ig",
    "outputId": "c199bb9a-feaa-4cfa-e311-d146721b6001"
   },
   "outputs": [
    {
     "data": {
      "text/html": [
       "<div>\n",
       "<style scoped>\n",
       "    .dataframe tbody tr th:only-of-type {\n",
       "        vertical-align: middle;\n",
       "    }\n",
       "\n",
       "    .dataframe tbody tr th {\n",
       "        vertical-align: top;\n",
       "    }\n",
       "\n",
       "    .dataframe thead th {\n",
       "        text-align: right;\n",
       "    }\n",
       "</style>\n",
       "<table border=\"1\" class=\"dataframe\">\n",
       "  <thead>\n",
       "    <tr style=\"text-align: right;\">\n",
       "      <th></th>\n",
       "      <th>count</th>\n",
       "      <th>mean</th>\n",
       "      <th>std</th>\n",
       "      <th>min</th>\n",
       "      <th>25%</th>\n",
       "      <th>50%</th>\n",
       "      <th>75%</th>\n",
       "      <th>max</th>\n",
       "    </tr>\n",
       "  </thead>\n",
       "  <tbody>\n",
       "    <tr>\n",
       "      <th>TMC</th>\n",
       "      <td>1901648.0</td>\n",
       "      <td>208.348254</td>\n",
       "      <td>21.236047</td>\n",
       "      <td>200.00000</td>\n",
       "      <td>201.00000</td>\n",
       "      <td>201.00000</td>\n",
       "      <td>201.00000</td>\n",
       "      <td>406.00000</td>\n",
       "    </tr>\n",
       "    <tr>\n",
       "      <th>Severity</th>\n",
       "      <td>2962779.0</td>\n",
       "      <td>2.305150</td>\n",
       "      <td>0.533466</td>\n",
       "      <td>1.00000</td>\n",
       "      <td>2.00000</td>\n",
       "      <td>2.00000</td>\n",
       "      <td>3.00000</td>\n",
       "      <td>4.00000</td>\n",
       "    </tr>\n",
       "    <tr>\n",
       "      <th>Start_Lat</th>\n",
       "      <td>2962779.0</td>\n",
       "      <td>36.397790</td>\n",
       "      <td>4.964845</td>\n",
       "      <td>24.55527</td>\n",
       "      <td>33.52025</td>\n",
       "      <td>35.82550</td>\n",
       "      <td>40.18439</td>\n",
       "      <td>49.00220</td>\n",
       "    </tr>\n",
       "    <tr>\n",
       "      <th>Start_Lng</th>\n",
       "      <td>2962779.0</td>\n",
       "      <td>-95.466527</td>\n",
       "      <td>17.354510</td>\n",
       "      <td>-124.62380</td>\n",
       "      <td>-117.35660</td>\n",
       "      <td>-90.01895</td>\n",
       "      <td>-80.84698</td>\n",
       "      <td>-67.11317</td>\n",
       "    </tr>\n",
       "    <tr>\n",
       "      <th>End_Lat</th>\n",
       "      <td>1061131.0</td>\n",
       "      <td>36.898592</td>\n",
       "      <td>5.166983</td>\n",
       "      <td>24.57018</td>\n",
       "      <td>33.85400</td>\n",
       "      <td>37.35016</td>\n",
       "      <td>40.72576</td>\n",
       "      <td>49.07500</td>\n",
       "    </tr>\n",
       "    <tr>\n",
       "      <th>End_Lng</th>\n",
       "      <td>1061131.0</td>\n",
       "      <td>-98.597794</td>\n",
       "      <td>18.495270</td>\n",
       "      <td>-124.49780</td>\n",
       "      <td>-118.20730</td>\n",
       "      <td>-94.39028</td>\n",
       "      <td>-80.87304</td>\n",
       "      <td>-67.10924</td>\n",
       "    </tr>\n",
       "    <tr>\n",
       "      <th>Distance.mi.</th>\n",
       "      <td>2962779.0</td>\n",
       "      <td>0.336481</td>\n",
       "      <td>1.616485</td>\n",
       "      <td>0.00000</td>\n",
       "      <td>0.00000</td>\n",
       "      <td>0.00000</td>\n",
       "      <td>0.08900</td>\n",
       "      <td>441.75000</td>\n",
       "    </tr>\n",
       "    <tr>\n",
       "      <th>Number</th>\n",
       "      <td>1081417.0</td>\n",
       "      <td>6131.773288</td>\n",
       "      <td>12495.013510</td>\n",
       "      <td>1.00000</td>\n",
       "      <td>898.00000</td>\n",
       "      <td>2893.00000</td>\n",
       "      <td>7328.00000</td>\n",
       "      <td>990415.00000</td>\n",
       "    </tr>\n",
       "    <tr>\n",
       "      <th>Temperature.F.</th>\n",
       "      <td>2899590.0</td>\n",
       "      <td>61.488264</td>\n",
       "      <td>18.523924</td>\n",
       "      <td>-89.00000</td>\n",
       "      <td>49.00000</td>\n",
       "      <td>63.00000</td>\n",
       "      <td>75.20000</td>\n",
       "      <td>203.00000</td>\n",
       "    </tr>\n",
       "    <tr>\n",
       "      <th>Wind_Chill.F.</th>\n",
       "      <td>1634781.0</td>\n",
       "      <td>54.903686</td>\n",
       "      <td>22.720811</td>\n",
       "      <td>-89.00000</td>\n",
       "      <td>38.00000</td>\n",
       "      <td>58.00000</td>\n",
       "      <td>73.00000</td>\n",
       "      <td>189.00000</td>\n",
       "    </tr>\n",
       "    <tr>\n",
       "      <th>Humidity...</th>\n",
       "      <td>2895631.0</td>\n",
       "      <td>65.663194</td>\n",
       "      <td>22.735045</td>\n",
       "      <td>1.00000</td>\n",
       "      <td>49.00000</td>\n",
       "      <td>68.00000</td>\n",
       "      <td>85.00000</td>\n",
       "      <td>100.00000</td>\n",
       "    </tr>\n",
       "    <tr>\n",
       "      <th>Pressure.in.</th>\n",
       "      <td>2909032.0</td>\n",
       "      <td>29.693540</td>\n",
       "      <td>0.864541</td>\n",
       "      <td>0.00000</td>\n",
       "      <td>29.64000</td>\n",
       "      <td>29.93000</td>\n",
       "      <td>30.08000</td>\n",
       "      <td>58.04000</td>\n",
       "    </tr>\n",
       "    <tr>\n",
       "      <th>Visibility.mi.</th>\n",
       "      <td>2893495.0</td>\n",
       "      <td>9.112050</td>\n",
       "      <td>2.818845</td>\n",
       "      <td>0.00000</td>\n",
       "      <td>10.00000</td>\n",
       "      <td>10.00000</td>\n",
       "      <td>10.00000</td>\n",
       "      <td>140.00000</td>\n",
       "    </tr>\n",
       "    <tr>\n",
       "      <th>Wind_Speed.mph.</th>\n",
       "      <td>2626594.0</td>\n",
       "      <td>7.903770</td>\n",
       "      <td>5.339578</td>\n",
       "      <td>0.00000</td>\n",
       "      <td>4.60000</td>\n",
       "      <td>7.00000</td>\n",
       "      <td>10.40000</td>\n",
       "      <td>984.00000</td>\n",
       "    </tr>\n",
       "    <tr>\n",
       "      <th>Precipitation.in.</th>\n",
       "      <td>1516143.0</td>\n",
       "      <td>0.012379</td>\n",
       "      <td>0.163746</td>\n",
       "      <td>0.00000</td>\n",
       "      <td>0.00000</td>\n",
       "      <td>0.00000</td>\n",
       "      <td>0.00000</td>\n",
       "      <td>25.00000</td>\n",
       "    </tr>\n",
       "  </tbody>\n",
       "</table>\n",
       "</div>"
      ],
      "text/plain": [
       "                       count         mean  ...         75%           max\n",
       "TMC                1901648.0   208.348254  ...   201.00000     406.00000\n",
       "Severity           2962779.0     2.305150  ...     3.00000       4.00000\n",
       "Start_Lat          2962779.0    36.397790  ...    40.18439      49.00220\n",
       "Start_Lng          2962779.0   -95.466527  ...   -80.84698     -67.11317\n",
       "End_Lat            1061131.0    36.898592  ...    40.72576      49.07500\n",
       "End_Lng            1061131.0   -98.597794  ...   -80.87304     -67.10924\n",
       "Distance.mi.       2962779.0     0.336481  ...     0.08900     441.75000\n",
       "Number             1081417.0  6131.773288  ...  7328.00000  990415.00000\n",
       "Temperature.F.     2899590.0    61.488264  ...    75.20000     203.00000\n",
       "Wind_Chill.F.      1634781.0    54.903686  ...    73.00000     189.00000\n",
       "Humidity...        2895631.0    65.663194  ...    85.00000     100.00000\n",
       "Pressure.in.       2909032.0    29.693540  ...    30.08000      58.04000\n",
       "Visibility.mi.     2893495.0     9.112050  ...    10.00000     140.00000\n",
       "Wind_Speed.mph.    2626594.0     7.903770  ...    10.40000     984.00000\n",
       "Precipitation.in.  1516143.0     0.012379  ...     0.00000      25.00000\n",
       "\n",
       "[15 rows x 8 columns]"
      ]
     },
     "execution_count": 5,
     "metadata": {
      "tags": []
     },
     "output_type": "execute_result"
    }
   ],
   "source": [
    "acc_train.describe().T"
   ]
  },
  {
   "cell_type": "code",
   "execution_count": 6,
   "metadata": {
    "colab": {
     "base_uri": "https://localhost:8080/",
     "height": 1551
    },
    "id": "KBJvaTRMJllF",
    "outputId": "397be97d-f7a7-4c37-e50c-28161d854f9e"
   },
   "outputs": [
    {
     "data": {
      "text/html": [
       "<div>\n",
       "<style scoped>\n",
       "    .dataframe tbody tr th:only-of-type {\n",
       "        vertical-align: middle;\n",
       "    }\n",
       "\n",
       "    .dataframe tbody tr th {\n",
       "        vertical-align: top;\n",
       "    }\n",
       "\n",
       "    .dataframe thead th {\n",
       "        text-align: right;\n",
       "    }\n",
       "</style>\n",
       "<table border=\"1\" class=\"dataframe\">\n",
       "  <thead>\n",
       "    <tr style=\"text-align: right;\">\n",
       "      <th></th>\n",
       "      <th>0</th>\n",
       "    </tr>\n",
       "  </thead>\n",
       "  <tbody>\n",
       "    <tr>\n",
       "      <th>End_Lng</th>\n",
       "      <td>0.642</td>\n",
       "    </tr>\n",
       "    <tr>\n",
       "      <th>End_Lat</th>\n",
       "      <td>0.642</td>\n",
       "    </tr>\n",
       "    <tr>\n",
       "      <th>Number</th>\n",
       "      <td>0.635</td>\n",
       "    </tr>\n",
       "    <tr>\n",
       "      <th>Precipitation.in.</th>\n",
       "      <td>0.488</td>\n",
       "    </tr>\n",
       "    <tr>\n",
       "      <th>Wind_Chill.F.</th>\n",
       "      <td>0.448</td>\n",
       "    </tr>\n",
       "    <tr>\n",
       "      <th>TMC</th>\n",
       "      <td>0.358</td>\n",
       "    </tr>\n",
       "    <tr>\n",
       "      <th>Wind_Speed.mph.</th>\n",
       "      <td>0.113</td>\n",
       "    </tr>\n",
       "    <tr>\n",
       "      <th>Visibility.mi.</th>\n",
       "      <td>0.023</td>\n",
       "    </tr>\n",
       "    <tr>\n",
       "      <th>Weather_Condition</th>\n",
       "      <td>0.023</td>\n",
       "    </tr>\n",
       "    <tr>\n",
       "      <th>Humidity...</th>\n",
       "      <td>0.023</td>\n",
       "    </tr>\n",
       "    <tr>\n",
       "      <th>Temperature.F.</th>\n",
       "      <td>0.021</td>\n",
       "    </tr>\n",
       "    <tr>\n",
       "      <th>Wind_Direction</th>\n",
       "      <td>0.020</td>\n",
       "    </tr>\n",
       "    <tr>\n",
       "      <th>Pressure.in.</th>\n",
       "      <td>0.018</td>\n",
       "    </tr>\n",
       "    <tr>\n",
       "      <th>Weather_Timestamp</th>\n",
       "      <td>0.015</td>\n",
       "    </tr>\n",
       "    <tr>\n",
       "      <th>Airport_Code</th>\n",
       "      <td>0.002</td>\n",
       "    </tr>\n",
       "    <tr>\n",
       "      <th>Timezone</th>\n",
       "      <td>0.001</td>\n",
       "    </tr>\n",
       "    <tr>\n",
       "      <th>Zipcode</th>\n",
       "      <td>0.000</td>\n",
       "    </tr>\n",
       "    <tr>\n",
       "      <th>Sunrise_Sunset</th>\n",
       "      <td>0.000</td>\n",
       "    </tr>\n",
       "    <tr>\n",
       "      <th>Civil_Twilight</th>\n",
       "      <td>0.000</td>\n",
       "    </tr>\n",
       "    <tr>\n",
       "      <th>Nautical_Twilight</th>\n",
       "      <td>0.000</td>\n",
       "    </tr>\n",
       "    <tr>\n",
       "      <th>Astronomical_Twilight</th>\n",
       "      <td>0.000</td>\n",
       "    </tr>\n",
       "    <tr>\n",
       "      <th>City</th>\n",
       "      <td>0.000</td>\n",
       "    </tr>\n",
       "    <tr>\n",
       "      <th>Description</th>\n",
       "      <td>0.000</td>\n",
       "    </tr>\n",
       "    <tr>\n",
       "      <th>Country</th>\n",
       "      <td>0.000</td>\n",
       "    </tr>\n",
       "    <tr>\n",
       "      <th>Junction</th>\n",
       "      <td>0.000</td>\n",
       "    </tr>\n",
       "    <tr>\n",
       "      <th>Severity</th>\n",
       "      <td>0.000</td>\n",
       "    </tr>\n",
       "    <tr>\n",
       "      <th>Start_Time</th>\n",
       "      <td>0.000</td>\n",
       "    </tr>\n",
       "    <tr>\n",
       "      <th>End_Time</th>\n",
       "      <td>0.000</td>\n",
       "    </tr>\n",
       "    <tr>\n",
       "      <th>Turning_Loop</th>\n",
       "      <td>0.000</td>\n",
       "    </tr>\n",
       "    <tr>\n",
       "      <th>Traffic_Signal</th>\n",
       "      <td>0.000</td>\n",
       "    </tr>\n",
       "    <tr>\n",
       "      <th>Traffic_Calming</th>\n",
       "      <td>0.000</td>\n",
       "    </tr>\n",
       "    <tr>\n",
       "      <th>Stop</th>\n",
       "      <td>0.000</td>\n",
       "    </tr>\n",
       "    <tr>\n",
       "      <th>Station</th>\n",
       "      <td>0.000</td>\n",
       "    </tr>\n",
       "    <tr>\n",
       "      <th>Roundabout</th>\n",
       "      <td>0.000</td>\n",
       "    </tr>\n",
       "    <tr>\n",
       "      <th>Railway</th>\n",
       "      <td>0.000</td>\n",
       "    </tr>\n",
       "    <tr>\n",
       "      <th>No_Exit</th>\n",
       "      <td>0.000</td>\n",
       "    </tr>\n",
       "    <tr>\n",
       "      <th>Give_Way</th>\n",
       "      <td>0.000</td>\n",
       "    </tr>\n",
       "    <tr>\n",
       "      <th>State</th>\n",
       "      <td>0.000</td>\n",
       "    </tr>\n",
       "    <tr>\n",
       "      <th>Crossing</th>\n",
       "      <td>0.000</td>\n",
       "    </tr>\n",
       "    <tr>\n",
       "      <th>Bump</th>\n",
       "      <td>0.000</td>\n",
       "    </tr>\n",
       "    <tr>\n",
       "      <th>Amenity</th>\n",
       "      <td>0.000</td>\n",
       "    </tr>\n",
       "    <tr>\n",
       "      <th>Start_Lat</th>\n",
       "      <td>0.000</td>\n",
       "    </tr>\n",
       "    <tr>\n",
       "      <th>Start_Lng</th>\n",
       "      <td>0.000</td>\n",
       "    </tr>\n",
       "    <tr>\n",
       "      <th>Distance.mi.</th>\n",
       "      <td>0.000</td>\n",
       "    </tr>\n",
       "    <tr>\n",
       "      <th>Street</th>\n",
       "      <td>0.000</td>\n",
       "    </tr>\n",
       "    <tr>\n",
       "      <th>Side</th>\n",
       "      <td>0.000</td>\n",
       "    </tr>\n",
       "    <tr>\n",
       "      <th>Source</th>\n",
       "      <td>0.000</td>\n",
       "    </tr>\n",
       "    <tr>\n",
       "      <th>County</th>\n",
       "      <td>0.000</td>\n",
       "    </tr>\n",
       "    <tr>\n",
       "      <th>ID</th>\n",
       "      <td>0.000</td>\n",
       "    </tr>\n",
       "  </tbody>\n",
       "</table>\n",
       "</div>"
      ],
      "text/plain": [
       "                           0\n",
       "End_Lng                0.642\n",
       "End_Lat                0.642\n",
       "Number                 0.635\n",
       "Precipitation.in.      0.488\n",
       "Wind_Chill.F.          0.448\n",
       "TMC                    0.358\n",
       "Wind_Speed.mph.        0.113\n",
       "Visibility.mi.         0.023\n",
       "Weather_Condition      0.023\n",
       "Humidity...            0.023\n",
       "Temperature.F.         0.021\n",
       "Wind_Direction         0.020\n",
       "Pressure.in.           0.018\n",
       "Weather_Timestamp      0.015\n",
       "Airport_Code           0.002\n",
       "Timezone               0.001\n",
       "Zipcode                0.000\n",
       "Sunrise_Sunset         0.000\n",
       "Civil_Twilight         0.000\n",
       "Nautical_Twilight      0.000\n",
       "Astronomical_Twilight  0.000\n",
       "City                   0.000\n",
       "Description            0.000\n",
       "Country                0.000\n",
       "Junction               0.000\n",
       "Severity               0.000\n",
       "Start_Time             0.000\n",
       "End_Time               0.000\n",
       "Turning_Loop           0.000\n",
       "Traffic_Signal         0.000\n",
       "Traffic_Calming        0.000\n",
       "Stop                   0.000\n",
       "Station                0.000\n",
       "Roundabout             0.000\n",
       "Railway                0.000\n",
       "No_Exit                0.000\n",
       "Give_Way               0.000\n",
       "State                  0.000\n",
       "Crossing               0.000\n",
       "Bump                   0.000\n",
       "Amenity                0.000\n",
       "Start_Lat              0.000\n",
       "Start_Lng              0.000\n",
       "Distance.mi.           0.000\n",
       "Street                 0.000\n",
       "Side                   0.000\n",
       "Source                 0.000\n",
       "County                 0.000\n",
       "ID                     0.000"
      ]
     },
     "execution_count": 6,
     "metadata": {
      "tags": []
     },
     "output_type": "execute_result"
    }
   ],
   "source": [
    "#checking how many nulls in each column\n",
    "nulls_df = acc_train.isnull().sum(axis = 0).to_frame()\n",
    "nulls_df =  nulls_df.sort_values(by=0, ascending=False)\n",
    "nulls_df[0] = round(nulls_df[0]/len(acc_train),3)\n",
    "nulls_df"
   ]
  },
  {
   "cell_type": "code",
   "execution_count": 7,
   "metadata": {
    "id": "wmWXd6BhJlhi"
   },
   "outputs": [],
   "source": [
    "#dropping the following columns\n",
    "cols_todrop = ['Number', 'Airport_Code' ,'End_Lat', 'End_Lng' ,'Weather_Timestamp' , 'TMC' , \n",
    "                 'Civil_Twilight', 'Nautical_Twilight', 'Astronomical_Twilight',\n",
    "                 'Country','ID', 'Source','Timezone']\n",
    "acc_train.drop(columns=cols_todrop, inplace=True)"
   ]
  },
  {
   "cell_type": "code",
   "execution_count": 8,
   "metadata": {
    "id": "jnT0ENplUcdR"
   },
   "outputs": [],
   "source": [
    "#changing the severity column so that anything \n",
    "acc_train['Severity'] = (acc_train['Severity'] > 2) * 1"
   ]
  },
  {
   "cell_type": "code",
   "execution_count": 9,
   "metadata": {
    "id": "Zaa4GF3JH2e8"
   },
   "outputs": [],
   "source": [
    "#for the column city, it has 101 rows missing which is a small number compared to the total number of rows and it is going to be crucial for analysis later.\n",
    "#same goes for sunrise_sunset column and description\n",
    "acc_train.dropna(subset=['Sunrise_Sunset','City','Description'],inplace=True)"
   ]
  },
  {
   "cell_type": "code",
   "execution_count": 10,
   "metadata": {
    "id": "fcj9WAoMNSES"
   },
   "outputs": [],
   "source": [
    "#getting some additional columns which may/may not be used\n",
    "acc_train['Start_Time'] = pd.to_datetime(acc_train['Start_Time'])\n",
    "acc_train['End_Time'] = pd.to_datetime(acc_train['End_Time'])\n",
    "acc_train['day_of_Week'] = acc_train['Start_Time'].dt.dayofweek\n",
    "acc_train['month'] = pd.DatetimeIndex(acc_train['Start_Time']).month\n",
    "acc_train['year'] = pd.DatetimeIndex(acc_train['Start_Time']).year\n",
    "acc_train['Hour'] = acc_train['Start_Time'].dt.hour"
   ]
  },
  {
   "cell_type": "code",
   "execution_count": 11,
   "metadata": {
    "colab": {
     "base_uri": "https://localhost:8080/",
     "height": 1582
    },
    "id": "IUm6NQZWQnbM",
    "outputId": "224b6fc8-7ae0-432a-98dc-6e755954b2c9"
   },
   "outputs": [
    {
     "data": {
      "text/html": [
       "<div>\n",
       "<style scoped>\n",
       "    .dataframe tbody tr th:only-of-type {\n",
       "        vertical-align: middle;\n",
       "    }\n",
       "\n",
       "    .dataframe tbody tr th {\n",
       "        vertical-align: top;\n",
       "    }\n",
       "\n",
       "    .dataframe thead th {\n",
       "        text-align: right;\n",
       "    }\n",
       "</style>\n",
       "<table border=\"1\" class=\"dataframe\">\n",
       "  <thead>\n",
       "    <tr style=\"text-align: right;\">\n",
       "      <th></th>\n",
       "      <th>count</th>\n",
       "    </tr>\n",
       "    <tr>\n",
       "      <th>State</th>\n",
       "      <th></th>\n",
       "    </tr>\n",
       "  </thead>\n",
       "  <tbody>\n",
       "    <tr>\n",
       "      <th>CA</th>\n",
       "      <td>680772</td>\n",
       "    </tr>\n",
       "    <tr>\n",
       "      <th>TX</th>\n",
       "      <td>263389</td>\n",
       "    </tr>\n",
       "    <tr>\n",
       "      <th>FL</th>\n",
       "      <td>259261</td>\n",
       "    </tr>\n",
       "    <tr>\n",
       "      <th>SC</th>\n",
       "      <td>148563</td>\n",
       "    </tr>\n",
       "    <tr>\n",
       "      <th>NC</th>\n",
       "      <td>135593</td>\n",
       "    </tr>\n",
       "    <tr>\n",
       "      <th>NY</th>\n",
       "      <td>132605</td>\n",
       "    </tr>\n",
       "    <tr>\n",
       "      <th>PA</th>\n",
       "      <td>95472</td>\n",
       "    </tr>\n",
       "    <tr>\n",
       "      <th>VA</th>\n",
       "      <td>89540</td>\n",
       "    </tr>\n",
       "    <tr>\n",
       "      <th>IL</th>\n",
       "      <td>78036</td>\n",
       "    </tr>\n",
       "    <tr>\n",
       "      <th>OR</th>\n",
       "      <td>75787</td>\n",
       "    </tr>\n",
       "    <tr>\n",
       "      <th>GA</th>\n",
       "      <td>75090</td>\n",
       "    </tr>\n",
       "    <tr>\n",
       "      <th>MI</th>\n",
       "      <td>74219</td>\n",
       "    </tr>\n",
       "    <tr>\n",
       "      <th>MN</th>\n",
       "      <td>73800</td>\n",
       "    </tr>\n",
       "    <tr>\n",
       "      <th>AZ</th>\n",
       "      <td>65306</td>\n",
       "    </tr>\n",
       "    <tr>\n",
       "      <th>TN</th>\n",
       "      <td>61889</td>\n",
       "    </tr>\n",
       "    <tr>\n",
       "      <th>LA</th>\n",
       "      <td>56381</td>\n",
       "    </tr>\n",
       "    <tr>\n",
       "      <th>WA</th>\n",
       "      <td>52355</td>\n",
       "    </tr>\n",
       "    <tr>\n",
       "      <th>OH</th>\n",
       "      <td>51134</td>\n",
       "    </tr>\n",
       "    <tr>\n",
       "      <th>MD</th>\n",
       "      <td>48789</td>\n",
       "    </tr>\n",
       "    <tr>\n",
       "      <th>NJ</th>\n",
       "      <td>48421</td>\n",
       "    </tr>\n",
       "    <tr>\n",
       "      <th>OK</th>\n",
       "      <td>45451</td>\n",
       "    </tr>\n",
       "    <tr>\n",
       "      <th>UT</th>\n",
       "      <td>40910</td>\n",
       "    </tr>\n",
       "    <tr>\n",
       "      <th>AL</th>\n",
       "      <td>39960</td>\n",
       "    </tr>\n",
       "    <tr>\n",
       "      <th>CO</th>\n",
       "      <td>37651</td>\n",
       "    </tr>\n",
       "    <tr>\n",
       "      <th>MA</th>\n",
       "      <td>30820</td>\n",
       "    </tr>\n",
       "    <tr>\n",
       "      <th>MO</th>\n",
       "      <td>27950</td>\n",
       "    </tr>\n",
       "    <tr>\n",
       "      <th>IN</th>\n",
       "      <td>26857</td>\n",
       "    </tr>\n",
       "    <tr>\n",
       "      <th>CT</th>\n",
       "      <td>22813</td>\n",
       "    </tr>\n",
       "    <tr>\n",
       "      <th>NE</th>\n",
       "      <td>17615</td>\n",
       "    </tr>\n",
       "    <tr>\n",
       "      <th>KY</th>\n",
       "      <td>17226</td>\n",
       "    </tr>\n",
       "    <tr>\n",
       "      <th>WI</th>\n",
       "      <td>15025</td>\n",
       "    </tr>\n",
       "    <tr>\n",
       "      <th>IA</th>\n",
       "      <td>9803</td>\n",
       "    </tr>\n",
       "    <tr>\n",
       "      <th>RI</th>\n",
       "      <td>8999</td>\n",
       "    </tr>\n",
       "    <tr>\n",
       "      <th>NV</th>\n",
       "      <td>8429</td>\n",
       "    </tr>\n",
       "    <tr>\n",
       "      <th>KS</th>\n",
       "      <td>6821</td>\n",
       "    </tr>\n",
       "    <tr>\n",
       "      <th>NH</th>\n",
       "      <td>6012</td>\n",
       "    </tr>\n",
       "    <tr>\n",
       "      <th>MS</th>\n",
       "      <td>5675</td>\n",
       "    </tr>\n",
       "    <tr>\n",
       "      <th>DE</th>\n",
       "      <td>4808</td>\n",
       "    </tr>\n",
       "    <tr>\n",
       "      <th>DC</th>\n",
       "      <td>4512</td>\n",
       "    </tr>\n",
       "    <tr>\n",
       "      <th>NM</th>\n",
       "      <td>4481</td>\n",
       "    </tr>\n",
       "    <tr>\n",
       "      <th>AR</th>\n",
       "      <td>3540</td>\n",
       "    </tr>\n",
       "    <tr>\n",
       "      <th>ID</th>\n",
       "      <td>2986</td>\n",
       "    </tr>\n",
       "    <tr>\n",
       "      <th>WV</th>\n",
       "      <td>2556</td>\n",
       "    </tr>\n",
       "    <tr>\n",
       "      <th>MT</th>\n",
       "      <td>2354</td>\n",
       "    </tr>\n",
       "    <tr>\n",
       "      <th>ME</th>\n",
       "      <td>1667</td>\n",
       "    </tr>\n",
       "    <tr>\n",
       "      <th>VT</th>\n",
       "      <td>503</td>\n",
       "    </tr>\n",
       "    <tr>\n",
       "      <th>WY</th>\n",
       "      <td>373</td>\n",
       "    </tr>\n",
       "    <tr>\n",
       "      <th>ND</th>\n",
       "      <td>314</td>\n",
       "    </tr>\n",
       "    <tr>\n",
       "      <th>SD</th>\n",
       "      <td>161</td>\n",
       "    </tr>\n",
       "  </tbody>\n",
       "</table>\n",
       "</div>"
      ],
      "text/plain": [
       "        count\n",
       "State        \n",
       "CA     680772\n",
       "TX     263389\n",
       "FL     259261\n",
       "SC     148563\n",
       "NC     135593\n",
       "NY     132605\n",
       "PA      95472\n",
       "VA      89540\n",
       "IL      78036\n",
       "OR      75787\n",
       "GA      75090\n",
       "MI      74219\n",
       "MN      73800\n",
       "AZ      65306\n",
       "TN      61889\n",
       "LA      56381\n",
       "WA      52355\n",
       "OH      51134\n",
       "MD      48789\n",
       "NJ      48421\n",
       "OK      45451\n",
       "UT      40910\n",
       "AL      39960\n",
       "CO      37651\n",
       "MA      30820\n",
       "MO      27950\n",
       "IN      26857\n",
       "CT      22813\n",
       "NE      17615\n",
       "KY      17226\n",
       "WI      15025\n",
       "IA       9803\n",
       "RI       8999\n",
       "NV       8429\n",
       "KS       6821\n",
       "NH       6012\n",
       "MS       5675\n",
       "DE       4808\n",
       "DC       4512\n",
       "NM       4481\n",
       "AR       3540\n",
       "ID       2986\n",
       "WV       2556\n",
       "MT       2354\n",
       "ME       1667\n",
       "VT        503\n",
       "WY        373\n",
       "ND        314\n",
       "SD        161"
      ]
     },
     "execution_count": 11,
     "metadata": {
      "tags": []
     },
     "output_type": "execute_result"
    }
   ],
   "source": [
    "#Finding the top 10 cities and top 10 states with the maximum number of accidents\n",
    "city_df = acc_train[['City','State' , 'Severity']]\n",
    "by_state = city_df.groupby('State').agg({'City' : 'count'}).sort_values(by='City',ascending=False)\n",
    "by_state.rename(columns={\"City\":\"count\"},inplace=True)\n",
    "by_state"
   ]
  },
  {
   "cell_type": "code",
   "execution_count": 12,
   "metadata": {
    "colab": {
     "base_uri": "https://localhost:8080/",
     "height": 535
    },
    "id": "7wEGfe0xtD1Z",
    "outputId": "1ba637f6-a152-4fe3-d670-596d50697772"
   },
   "outputs": [
    {
     "data": {
      "text/plain": [
       "Text(0.5, 1.0, 'Top 20 States with the highest number of accidents')"
      ]
     },
     "execution_count": 12,
     "metadata": {
      "tags": []
     },
     "output_type": "execute_result"
    },
    {
     "data": {
      "image/png": "[encoded data removed]",
      "text/plain": [
       "<Figure size 864x576 with 1 Axes>"
      ]
     },
     "metadata": {
      "needs_background": "light",
      "tags": []
     },
     "output_type": "display_data"
    }
   ],
   "source": [
    "#viewing the top 20 states.\n",
    "state_graph = by_state.iloc[0:20,:]\n",
    "plt.figure(figsize=(12,8))\n",
    "sns.barplot(data=state_graph, y='count',x=state_graph.index, palette='cubehelix')\n",
    "plt.ylabel(\"Number of Accidents\")\n",
    "plt.title(\"Top 20 States with the highest number of accidents\")"
   ]
  },
  {
   "cell_type": "code",
   "execution_count": 13,
   "metadata": {
    "colab": {
     "base_uri": "https://localhost:8080/",
     "height": 446
    },
    "id": "cwKeqzicTHna",
    "outputId": "03f16618-6ceb-4aa4-e68e-5c208669b6df"
   },
   "outputs": [
    {
     "data": {
      "text/html": [
       "<div>\n",
       "<style scoped>\n",
       "    .dataframe tbody tr th:only-of-type {\n",
       "        vertical-align: middle;\n",
       "    }\n",
       "\n",
       "    .dataframe tbody tr th {\n",
       "        vertical-align: top;\n",
       "    }\n",
       "\n",
       "    .dataframe thead th {\n",
       "        text-align: right;\n",
       "    }\n",
       "</style>\n",
       "<table border=\"1\" class=\"dataframe\">\n",
       "  <thead>\n",
       "    <tr style=\"text-align: right;\">\n",
       "      <th></th>\n",
       "      <th>Count</th>\n",
       "    </tr>\n",
       "    <tr>\n",
       "      <th>City</th>\n",
       "      <th></th>\n",
       "    </tr>\n",
       "  </thead>\n",
       "  <tbody>\n",
       "    <tr>\n",
       "      <th>Houston</th>\n",
       "      <td>80475</td>\n",
       "    </tr>\n",
       "    <tr>\n",
       "      <th>Los Angeles</th>\n",
       "      <td>64674</td>\n",
       "    </tr>\n",
       "    <tr>\n",
       "      <th>Charlotte</th>\n",
       "      <td>62284</td>\n",
       "    </tr>\n",
       "    <tr>\n",
       "      <th>Dallas</th>\n",
       "      <td>53993</td>\n",
       "    </tr>\n",
       "    <tr>\n",
       "      <th>Austin</th>\n",
       "      <td>49097</td>\n",
       "    </tr>\n",
       "    <tr>\n",
       "      <th>...</th>\n",
       "      <td>...</td>\n",
       "    </tr>\n",
       "    <tr>\n",
       "      <th>Fort Laramie</th>\n",
       "      <td>1</td>\n",
       "    </tr>\n",
       "    <tr>\n",
       "      <th>Midway Park</th>\n",
       "      <td>1</td>\n",
       "    </tr>\n",
       "    <tr>\n",
       "      <th>Turon</th>\n",
       "      <td>1</td>\n",
       "    </tr>\n",
       "    <tr>\n",
       "      <th>Sigourney</th>\n",
       "      <td>1</td>\n",
       "    </tr>\n",
       "    <tr>\n",
       "      <th>Rockleigh</th>\n",
       "      <td>1</td>\n",
       "    </tr>\n",
       "  </tbody>\n",
       "</table>\n",
       "<p>11766 rows × 1 columns</p>\n",
       "</div>"
      ],
      "text/plain": [
       "              Count\n",
       "City               \n",
       "Houston       80475\n",
       "Los Angeles   64674\n",
       "Charlotte     62284\n",
       "Dallas        53993\n",
       "Austin        49097\n",
       "...             ...\n",
       "Fort Laramie      1\n",
       "Midway Park       1\n",
       "Turon             1\n",
       "Sigourney         1\n",
       "Rockleigh         1\n",
       "\n",
       "[11766 rows x 1 columns]"
      ]
     },
     "execution_count": 13,
     "metadata": {
      "tags": []
     },
     "output_type": "execute_result"
    }
   ],
   "source": [
    "#finding the order of most accident-prone cities\n",
    "stat_df = acc_train[['State' , 'City','Severity']].groupby('City').count()\n",
    "stat_df = stat_df.rename(columns = {'Severity' : 'Count'}).drop(columns=['State'],inplace=False)\n",
    "by_city = stat_df.sort_values(by='Count' , ascending = False)\n",
    "by_city"
   ]
  },
  {
   "cell_type": "code",
   "execution_count": 14,
   "metadata": {
    "colab": {
     "base_uri": "https://localhost:8080/",
     "height": 699
    },
    "id": "ExaYiOWPTHj9",
    "outputId": "2c08735e-f562-4067-f39d-02109ab48ff4"
   },
   "outputs": [
    {
     "data": {
      "text/plain": [
       "Text(0.5, 1.0, 'Top 20 Cities with the highest number of accidents')"
      ]
     },
     "execution_count": 14,
     "metadata": {
      "tags": []
     },
     "output_type": "execute_result"
    },
    {
     "data": {
      "image/png": "[encoded data removed]",
      "text/plain": [
       "<Figure size 864x720 with 1 Axes>"
      ]
     },
     "metadata": {
      "needs_background": "light",
      "tags": []
     },
     "output_type": "display_data"
    }
   ],
   "source": [
    "city_graph = by_city.iloc[0:20,:]\n",
    "plt.figure(figsize=(12,10))\n",
    "sns.barplot(data=city_graph, y='Count',x=city_graph.index, palette='cubehelix')\n",
    "plt.xticks(rotation=45)\n",
    "plt.ylabel(\"Number of Accidents\")\n",
    "plt.title(\"Top 20 Cities with the highest number of accidents\")"
   ]
  },
  {
   "cell_type": "code",
   "execution_count": 15,
   "metadata": {
    "colab": {
     "base_uri": "https://localhost:8080/",
     "height": 357
    },
    "id": "Yv_9cQ05THSQ",
    "outputId": "831b372b-2cdc-4000-e8d6-644d1c267f08"
   },
   "outputs": [
    {
     "data": {
      "image/png": "[encoded data removed]",
      "text/plain": [
       "<Figure size 1008x360 with 2 Axes>"
      ]
     },
     "metadata": {
      "needs_background": "light",
      "tags": []
     },
     "output_type": "display_data"
    }
   ],
   "source": [
    "#plotting the frequencies of the accidents throughout different times\n",
    "fig,(axis1,axis2) = plt.subplots(1,2,figsize=(14,5))\n",
    "# plot for year\n",
    "\n",
    "light_palette = sns.color_palette(palette='Set3')\n",
    "\n",
    "year_color_map = [light_palette[4] for _ in range(5)]\n",
    "\n",
    "\n",
    "year = acc_train['year'].value_counts()\n",
    "years = axis1.bar(year.index.values , year, color=year_color_map , edgecolor = 'black')\n",
    "axis1.spines[('top')].set_visible(False)\n",
    "axis1.spines[('right')].set_visible(False)\n",
    "axis1.set_xlabel(\"Years\", fontdict = {'fontsize':12 , 'color':'MidnightBlue'} )\n",
    "axis1.set_ylabel(\"No. of Accidents\")\n",
    "axis1.set_title('Accidents per Years', fontdict = {'fontsize':16 , 'color':'MidnightBlue'})\n",
    "\n",
    "for p in axis1.patches :\n",
    "    axis1.text(p.get_x() + p.get_width()/2,\n",
    "            p.get_height() + 20000,\n",
    "            '{:.2f}%'.format(p.get_height()/len(acc_train)*100),\n",
    "            ha = \"center\",\n",
    "            fontsize = 8, color='Blue')\n",
    "    \n",
    "#for month\n",
    "month_color_map = [light_palette[0] for _ in range(5)]\n",
    "\n",
    "month = acc_train['month'].value_counts()\n",
    "months = axis2.bar(month.index.values , month, color=month_color_map , edgecolor = 'black')\n",
    "axis2.spines[('top')].set_visible(False)\n",
    "axis2.spines[('right')].set_visible(False)\n",
    "axis2.set_xlabel(\"Months\", fontdict = {'fontsize':12 , 'color':'MidnightBlue'} )\n",
    "axis2.set_ylabel(\"No. of Accidents\")\n",
    "axis2.set_title('Accidents per Months', fontdict = {'fontsize':16 , 'color':'MidnightBlue'})\n",
    "\n",
    "for p in axis2.patches :\n",
    "    \n",
    "    axis2.text(p.get_x() + p.get_width()/2,\n",
    "            p.get_height() + 20000,\n",
    "            '{:.2f}%'.format(p.get_height()/len(acc_train)*100),\n",
    "            ha = \"center\",\n",
    "            fontsize = 8, color='Blue')"
   ]
  },
  {
   "cell_type": "code",
   "execution_count": 16,
   "metadata": {
    "colab": {
     "base_uri": "https://localhost:8080/",
     "height": 427
    },
    "id": "IEOJwyM2d6Ca",
    "outputId": "e572bd23-5cc2-4d22-8d44-91c11c344b50"
   },
   "outputs": [
    {
     "data": {
      "text/plain": [
       "Text(0.5, 1.0, 'Number of accidents from 2016 to 2020')"
      ]
     },
     "execution_count": 16,
     "metadata": {
      "tags": []
     },
     "output_type": "execute_result"
    },
    {
     "data": {
      "image/png": "[encoded data removed]",
      "text/plain": [
       "<Figure size 576x432 with 1 Axes>"
      ]
     },
     "metadata": {
      "needs_background": "light",
      "tags": []
     },
     "output_type": "display_data"
    }
   ],
   "source": [
    "#checking growth in number of accidents for severity 0 and 1 \n",
    "plt.figure(figsize=(8,6))\n",
    "sns.countplot(data=acc_train, x='year', hue='Severity', palette='Set2')\n",
    "plt.ylabel('Number of accidents')\n",
    "plt.title('Number of accidents from 2016 to 2020')"
   ]
  },
  {
   "cell_type": "code",
   "execution_count": null,
   "metadata": {
    "colab": {
     "base_uri": "https://localhost:8080/",
     "height": 535
    },
    "id": "efwMBsW4hHfu",
    "outputId": "91f92098-fcb5-4051-be5a-c0667f3285a6"
   },
   "outputs": [
    {
     "data": {
      "text/plain": [
       "Text(0.5, 1.0, 'Number of accidents every month')"
      ]
     },
     "execution_count": 51,
     "metadata": {
      "tags": []
     },
     "output_type": "execute_result"
    },
    {
     "data": {
      "image/png": "[encoded data removed]",
      "text/plain": [
       "<Figure size 864x576 with 1 Axes>"
      ]
     },
     "metadata": {
      "needs_background": "light",
      "tags": []
     },
     "output_type": "display_data"
    }
   ],
   "source": [
    "#checking growth in number of accidents for severity 0 and 1 \n",
    "plt.figure(figsize=(12,8))\n",
    "sns.countplot(data=acc_train, x='month', hue='Severity', palette='bright')\n",
    "plt.ylabel('Number of accidents')\n",
    "plt.title('Number of accidents every month')"
   ]
  },
  {
   "cell_type": "code",
   "execution_count": null,
   "metadata": {
    "colab": {
     "base_uri": "https://localhost:8080/",
     "height": 537
    },
    "id": "WIoBPMNKQqKl",
    "outputId": "f877c07d-c9b6-4209-f2d2-b2ca5fa0bb17"
   },
   "outputs": [
    {
     "data": {
      "text/plain": [
       "Text(0.5, 1.0, 'Number of Accidents during the hours of the day')"
      ]
     },
     "execution_count": 23,
     "metadata": {
      "tags": []
     },
     "output_type": "execute_result"
    },
    {
     "data": {
      "image/png": "[encoded data removed]",
      "text/plain": [
       "<Figure size 864x576 with 1 Axes>"
      ]
     },
     "metadata": {
      "tags": []
     },
     "output_type": "display_data"
    }
   ],
   "source": [
    "#hours \n",
    "hour = acc_train['Hour'].value_counts().to_frame()\n",
    "hour_labels = np.arange(24)\n",
    "\n",
    "plt.figure(figsize=(12,8))\n",
    "sns.lineplot(\n",
    "    data=hour,\n",
    "    x=hour.index, y=\"Hour\", marker='o', dashes=False\n",
    ")\n",
    "plt.xlabel(\"Hour\")\n",
    "plt.xticks(hour_labels)\n",
    "plt.ylabel(\"No. of accidents\")\n",
    "plt.title(\"Number of Accidents during the hours of the day\",fontdict = {'fontsize':16 , 'color':'MidnightBlue'})"
   ]
  },
  {
   "cell_type": "markdown",
   "metadata": {
    "id": "b0LiJ7OqTVPn"
   },
   "source": [
    "Here, we see the peaks in the morning (around 8am) and another peak around 5pm. This is close to the rush hours, especially during the weekdays."
   ]
  },
  {
   "cell_type": "code",
   "execution_count": null,
   "metadata": {
    "colab": {
     "base_uri": "https://localhost:8080/",
     "height": 537
    },
    "id": "8xWqWQl8WnqT",
    "outputId": "6b6e39c8-745d-4194-bb5f-6eddcc3fc0d0"
   },
   "outputs": [
    {
     "data": {
      "text/plain": [
       "Text(0.5, 1.0, 'Number of Accidents during the days of the week')"
      ]
     },
     "execution_count": 24,
     "metadata": {
      "tags": []
     },
     "output_type": "execute_result"
    },
    {
     "data": {
      "image/png": "[encoded data removed]",
      "text/plain": [
       "<Figure size 864x576 with 1 Axes>"
      ]
     },
     "metadata": {
      "tags": []
     },
     "output_type": "display_data"
    }
   ],
   "source": [
    "#days of the week\n",
    "week_day = acc_train['day_of_Week'].value_counts().to_frame()\n",
    "day_labels = np.arange(7)\n",
    "\n",
    "\n",
    "plt.figure(figsize=(12,8))\n",
    "sns.barplot(\n",
    "    data=week_day,\n",
    "    x=week_day.index, y=\"day_of_Week\", palette='cubehelix')\n",
    "\n",
    "plt.xlabel(\"Day of the Week\")\n",
    "plt.xticks(day_labels)\n",
    "plt.ylabel(\"No. of accidents\")\n",
    "plt.title(\"Number of Accidents during the days of the week\",fontdict = {'fontsize':16 , 'color':'MidnightBlue'})"
   ]
  },
  {
   "cell_type": "markdown",
   "metadata": {
    "id": "cRKzJrjcWnRA"
   },
   "source": []
  },
  {
   "cell_type": "code",
   "execution_count": null,
   "metadata": {
    "id": "MSyz2OjCWm66"
   },
   "outputs": [],
   "source": []
  },
  {
   "cell_type": "code",
   "execution_count": 19,
   "metadata": {
    "colab": {
     "base_uri": "https://localhost:8080/",
     "height": 576
    },
    "id": "CnvC5dAUTHEn",
    "outputId": "1c646434-8f3e-4902-9c52-313899568d79"
   },
   "outputs": [
    {
     "data": {
      "text/plain": [
       "Text(0.5, 1.0, 'Analyzing the road features')"
      ]
     },
     "execution_count": 19,
     "metadata": {
      "tags": []
     },
     "output_type": "execute_result"
    },
    {
     "data": {
      "image/png": "[encoded data removed]",
      "text/plain": [
       "<Figure size 864x576 with 1 Axes>"
      ]
     },
     "metadata": {
      "needs_background": "light",
      "tags": []
     },
     "output_type": "display_data"
    }
   ],
   "source": [
    "#since there are so many road features, but not too many to perform PCA on, I'm going to try to analyze which ones are most important\n",
    "road_features = acc_train[[\"Amenity\", \"Bump\", \"Crossing\", \"Give_Way\", \"Junction\", \"No_Exit\", \"Railway\", \"Roundabout\", \"Station\", \"Stop\", \"Traffic_Calming\", \"Traffic_Signal\", \"Turning_Loop\"]]\n",
    "road_df = road_features.sum().sort_values(ascending=False).to_frame().rename(columns={0:'count'})\n",
    "road_df\n",
    "\n",
    "#plotting it on barplot\n",
    "plt.figure(figsize=(12,8))\n",
    "sns.barplot(data=road_df, x=road_df.index, y='count')\n",
    "plt.xticks(rotation=45)\n",
    "plt.ylabel(\"Number of Accidents\")\n",
    "plt.title(\"Analyzing the road features\")"
   ]
  },
  {
   "cell_type": "markdown",
   "metadata": {
    "id": "9jXpN3AXPH1M"
   },
   "source": [
    "So this shows that accidents usually happened in places where there was a traffic signal, with a crossing and a junction."
   ]
  },
  {
   "cell_type": "code",
   "execution_count": 20,
   "metadata": {
    "colab": {
     "base_uri": "https://localhost:8080/",
     "height": 0
    },
    "id": "RQXtuXoyTHBJ",
    "outputId": "108e4327-eff7-4bb0-900b-a89d7a206121"
   },
   "outputs": [
    {
     "data": {
      "text/plain": [
       "Severity                   2\n",
       "Start_Time           2628784\n",
       "End_Time             2707188\n",
       "Start_Lat             798384\n",
       "Start_Lng             749983\n",
       "Distance.mi.           13061\n",
       "Description          1655596\n",
       "Street                181216\n",
       "Side                       2\n",
       "City                   11766\n",
       "County                  1730\n",
       "State                     49\n",
       "Zipcode               398476\n",
       "Temperature.F.           826\n",
       "Wind_Chill.F.            967\n",
       "Humidity...              100\n",
       "Pressure.in.            1024\n",
       "Visibility.mi.            83\n",
       "Wind_Direction            24\n",
       "Wind_Speed.mph.          147\n",
       "Precipitation.in.        250\n",
       "Weather_Condition        127\n",
       "Amenity                    2\n",
       "Bump                       2\n",
       "Crossing                   2\n",
       "Give_Way                   2\n",
       "Junction                   2\n",
       "No_Exit                    2\n",
       "Railway                    2\n",
       "Roundabout                 2\n",
       "Station                    2\n",
       "Stop                       2\n",
       "Traffic_Calming            2\n",
       "Traffic_Signal             2\n",
       "Turning_Loop               1\n",
       "Sunrise_Sunset             2\n",
       "day_of_Week                7\n",
       "month                     12\n",
       "year                       5\n",
       "Hour                      24\n",
       "dtype: int64"
      ]
     },
     "execution_count": 20,
     "metadata": {
      "tags": []
     },
     "output_type": "execute_result"
    }
   ],
   "source": [
    "acc_train.nunique()"
   ]
  },
  {
   "cell_type": "code",
   "execution_count": 21,
   "metadata": {
    "colab": {
     "base_uri": "https://localhost:8080/",
     "height": 616
    },
    "id": "M7wyvuBNyySX",
    "outputId": "3764b4bb-9dfb-4282-8b43-3cad7a2773f3"
   },
   "outputs": [
    {
     "data": {
      "text/plain": [
       "(array([ 0,  1,  2,  3,  4,  5,  6,  7,  8,  9, 10, 11, 12, 13]),\n",
       " <a list of 14 Text major ticklabel objects>)"
      ]
     },
     "execution_count": 21,
     "metadata": {
      "tags": []
     },
     "output_type": "execute_result"
    },
    {
     "data": {
      "image/png": "[encoded data removed]",
      "text/plain": [
       "<Figure size 864x576 with 1 Axes>"
      ]
     },
     "metadata": {
      "needs_background": "light",
      "tags": []
     },
     "output_type": "display_data"
    }
   ],
   "source": [
    "weather_cond_df = acc_train['Weather_Condition'].value_counts(dropna=False)[0:15].to_frame()\n",
    "\n",
    "plt.figure(figsize=(12,8))\n",
    "sns.barplot(data=weather_cond_df, x=weather_cond_df.index, y='Weather_Condition')\n",
    "plt.xlabel(\"Weather Condition\")\n",
    "plt.ylabel(\"Number of Accidents\")\n",
    "plt.title(\"No. of accidents distribution by Weather condition\")\n",
    "plt.xticks(rotation=45)"
   ]
  },
  {
   "cell_type": "code",
   "execution_count": 22,
   "metadata": {
    "colab": {
     "base_uri": "https://localhost:8080/",
     "height": 0
    },
    "id": "JzUv4FQAfS_G",
    "outputId": "5976da83-cc0f-4765-e5da-8c43bd8ae0c7"
   },
   "outputs": [
    {
     "data": {
      "text/plain": [
       "Severity                   0\n",
       "Start_Time                 0\n",
       "End_Time                   0\n",
       "Start_Lat                  0\n",
       "Start_Lng                  0\n",
       "Distance.mi.               0\n",
       "Description                0\n",
       "Street                     0\n",
       "Side                       0\n",
       "City                       0\n",
       "County                     0\n",
       "State                      0\n",
       "Zipcode                  933\n",
       "Temperature.F.         63185\n",
       "Wind_Chill.F.        1327951\n",
       "Humidity...            67144\n",
       "Pressure.in.           53742\n",
       "Visibility.mi.         69279\n",
       "Wind_Direction         58875\n",
       "Wind_Speed.mph.       336173\n",
       "Precipitation.in.    1446591\n",
       "Weather_Condition      69140\n",
       "Amenity                    0\n",
       "Bump                       0\n",
       "Crossing                   0\n",
       "Give_Way                   0\n",
       "Junction                   0\n",
       "No_Exit                    0\n",
       "Railway                    0\n",
       "Roundabout                 0\n",
       "Station                    0\n",
       "Stop                       0\n",
       "Traffic_Calming            0\n",
       "Traffic_Signal             0\n",
       "Turning_Loop               0\n",
       "Sunrise_Sunset             0\n",
       "day_of_Week                0\n",
       "month                      0\n",
       "year                       0\n",
       "Hour                       0\n",
       "dtype: int64"
      ]
     },
     "execution_count": 22,
     "metadata": {
      "tags": []
     },
     "output_type": "execute_result"
    }
   ],
   "source": [
    "#number of null values per column\n",
    "acc_train.isna().sum()"
   ]
  },
  {
   "cell_type": "code",
   "execution_count": 23,
   "metadata": {
    "id": "h-gwuGlzgkQp"
   },
   "outputs": [],
   "source": [
    "#further dropping Precipitation and Wind_Chill with >1.3M missing values\n",
    "acc_train.drop(columns=[\"Wind_Chill.F.\",\"Precipitation.in.\"], inplace=True)"
   ]
  },
  {
   "cell_type": "code",
   "execution_count": 24,
   "metadata": {
    "colab": {
     "base_uri": "https://localhost:8080/",
     "height": 297
    },
    "id": "UNtlEEnFfS2o",
    "outputId": "810e9828-b354-4912-e5a0-4240360dfeae"
   },
   "outputs": [
    {
     "data": {
      "text/html": [
       "<div>\n",
       "<style scoped>\n",
       "    .dataframe tbody tr th:only-of-type {\n",
       "        vertical-align: middle;\n",
       "    }\n",
       "\n",
       "    .dataframe tbody tr th {\n",
       "        vertical-align: top;\n",
       "    }\n",
       "\n",
       "    .dataframe thead th {\n",
       "        text-align: right;\n",
       "    }\n",
       "</style>\n",
       "<table border=\"1\" class=\"dataframe\">\n",
       "  <thead>\n",
       "    <tr style=\"text-align: right;\">\n",
       "      <th></th>\n",
       "      <th>Pressure.in.</th>\n",
       "      <th>Visibility.mi.</th>\n",
       "    </tr>\n",
       "  </thead>\n",
       "  <tbody>\n",
       "    <tr>\n",
       "      <th>count</th>\n",
       "      <td>2908932.00</td>\n",
       "      <td>2893395.00</td>\n",
       "    </tr>\n",
       "    <tr>\n",
       "      <th>mean</th>\n",
       "      <td>29.69</td>\n",
       "      <td>9.11</td>\n",
       "    </tr>\n",
       "    <tr>\n",
       "      <th>std</th>\n",
       "      <td>0.86</td>\n",
       "      <td>2.82</td>\n",
       "    </tr>\n",
       "    <tr>\n",
       "      <th>min</th>\n",
       "      <td>0.00</td>\n",
       "      <td>0.00</td>\n",
       "    </tr>\n",
       "    <tr>\n",
       "      <th>25%</th>\n",
       "      <td>29.64</td>\n",
       "      <td>10.00</td>\n",
       "    </tr>\n",
       "    <tr>\n",
       "      <th>50%</th>\n",
       "      <td>29.93</td>\n",
       "      <td>10.00</td>\n",
       "    </tr>\n",
       "    <tr>\n",
       "      <th>75%</th>\n",
       "      <td>30.08</td>\n",
       "      <td>10.00</td>\n",
       "    </tr>\n",
       "    <tr>\n",
       "      <th>max</th>\n",
       "      <td>58.04</td>\n",
       "      <td>140.00</td>\n",
       "    </tr>\n",
       "  </tbody>\n",
       "</table>\n",
       "</div>"
      ],
      "text/plain": [
       "       Pressure.in.  Visibility.mi.\n",
       "count    2908932.00      2893395.00\n",
       "mean          29.69            9.11\n",
       "std            0.86            2.82\n",
       "min            0.00            0.00\n",
       "25%           29.64           10.00\n",
       "50%           29.93           10.00\n",
       "75%           30.08           10.00\n",
       "max           58.04          140.00"
      ]
     },
     "execution_count": 24,
     "metadata": {
      "tags": []
     },
     "output_type": "execute_result"
    }
   ],
   "source": [
    "#taking a look at pressure and visibility\n",
    "acc_train[[\"Pressure.in.\", \"Visibility.mi.\"]].describe().round(2)\n"
   ]
  },
  {
   "cell_type": "markdown",
   "metadata": {
    "id": "-Z_cB4kK0VVJ"
   },
   "source": [
    "# Data Preprocessing"
   ]
  },
  {
   "cell_type": "code",
   "execution_count": 27,
   "metadata": {
    "colab": {
     "base_uri": "https://localhost:8080/",
     "height": 701
    },
    "id": "DoGONbWU0nCC",
    "outputId": "aff38d6f-152d-4c81-b9b1-e535a37bdcad"
   },
   "outputs": [
    {
     "data": {
      "text/plain": [
       "<matplotlib.axes._subplots.AxesSubplot at 0x7f97fefb11d0>"
      ]
     },
     "execution_count": 27,
     "metadata": {
      "tags": []
     },
     "output_type": "execute_result"
    },
    {
     "data": {
      "image/png": "[encoded data removed]",
      "text/plain": [
       "<Figure size 1296x720 with 2 Axes>"
      ]
     },
     "metadata": {
      "needs_background": "light",
      "tags": []
     },
     "output_type": "display_data"
    }
   ],
   "source": [
    "#correlation matrix to determine if there are any highly related columns\n",
    "correlation_mtx = acc_train.corr()\n",
    "\n",
    "plt.figure(figsize=(18, 10))\n",
    "sns.heatmap(correlation_mtx, vmin=-1, vmax=1, cmap=\"seismic\", annot = True, fmt='.1g')"
   ]
  },
  {
   "cell_type": "markdown",
   "metadata": {
    "id": "1Z5HOh-x2Uv0"
   },
   "source": [
    "Windchill and Humidity seem to be highly correlation(negative correlation).\\\n",
    "Turning Loop seems to have a missing correlation which turns out are all False values.\\\n"
   ]
  },
  {
   "cell_type": "code",
   "execution_count": null,
   "metadata": {
    "colab": {
     "base_uri": "https://localhost:8080/"
    },
    "id": "-Ni7TG8l2vrI",
    "outputId": "0d61c3e7-8a42-43a2-be76-19067d94b56b"
   },
   "outputs": [
    {
     "data": {
      "text/plain": [
       "A crash has occurred causing no to minimum delays. Use caution.                                             1862\n",
       "At I-15 - Accident.                                                                                         1507\n",
       "At I-5 - Accident.                                                                                          1344\n",
       "At I-405/San Diego Fwy - Accident.                                                                          1242\n",
       "At I-605 - Accident.                                                                                        1047\n",
       "                                                                                                            ... \n",
       "Lane blocked due to accident on PA-130 Sandy Creek Rd Northbound from PA-380 Frankstown Rd to Verona Rd.       1\n",
       "Accident on I-5 Northbound before Exit 45 Poinsettia Ln. On the median.                                        1\n",
       "Accident on US-29 Tryon St Westbound at Us-29 Access Rd.                                                       1\n",
       "Accident on 88th Ave Westbound at I-76.                                                                        1\n",
       "Accident on CA-193 both ways at Kelsey Rd.                                                                     1\n",
       "Name: Description, Length: 1655596, dtype: int64"
      ]
     },
     "execution_count": 28,
     "metadata": {
      "tags": []
     },
     "output_type": "execute_result"
    }
   ],
   "source": [
    "acc_train[\"Description\"].value_counts()"
   ]
  },
  {
   "cell_type": "code",
   "execution_count": null,
   "metadata": {
    "colab": {
     "base_uri": "https://localhost:8080/"
    },
    "id": "dTqEZos4TG-n",
    "outputId": "79dd6b64-ef91-483a-8c9d-03aa690918cf"
   },
   "outputs": [
    {
     "data": {
      "text/plain": [
       "Index(['Severity', 'Start_Time', 'End_Time', 'Start_Lat', 'Start_Lng',\n",
       "       'Distance.mi.', 'Description', 'Street', 'Side', 'City', 'County',\n",
       "       'State', 'Zipcode', 'Temperature.F.', 'Humidity...', 'Pressure.in.',\n",
       "       'Visibility.mi.', 'Wind_Direction', 'Wind_Speed.mph.',\n",
       "       'Weather_Condition', 'Amenity', 'Bump', 'Crossing', 'Give_Way',\n",
       "       'Junction', 'No_Exit', 'Railway', 'Roundabout', 'Station', 'Stop',\n",
       "       'Traffic_Calming', 'Traffic_Signal', 'Turning_Loop', 'Sunrise_Sunset',\n",
       "       'day_of_Week', 'month', 'year', 'Hour'],\n",
       "      dtype='object')"
      ]
     },
     "execution_count": 29,
     "metadata": {
      "tags": []
     },
     "output_type": "execute_result"
    }
   ],
   "source": [
    "acc_train.columns"
   ]
  },
  {
   "cell_type": "code",
   "execution_count": null,
   "metadata": {
    "id": "zmYtoTgOQnY4"
   },
   "outputs": [],
   "source": [
    "drop_again = [\"End_Time\", \"Turning_Loop\",'Street', 'County', 'Zipcode','Start_Time','Description','Wind_Direction']\n",
    "X = acc_train.drop(columns=drop_again, inplace=False)"
   ]
  },
  {
   "cell_type": "code",
   "execution_count": null,
   "metadata": {
    "colab": {
     "base_uri": "https://localhost:8080/"
    },
    "id": "JuLxeTby7LRx",
    "outputId": "ece0dc15-974a-4af2-e16f-39280701c9ec"
   },
   "outputs": [
    {
     "name": "stdout",
     "output_type": "stream",
     "text": [
      "rows with duplicates: 2962674\n",
      "rows after duplicates are dropped: 2861522\n"
     ]
    }
   ],
   "source": [
    "print(\"rows with duplicates:\", len(X.index))\n",
    "X.drop_duplicates(inplace=True)\n",
    "print(\"rows after duplicates are dropped:\", len(X.index))"
   ]
  },
  {
   "cell_type": "code",
   "execution_count": null,
   "metadata": {
    "colab": {
     "base_uri": "https://localhost:8080/",
     "height": 1000
    },
    "id": "qtHlUWLT7cyi",
    "outputId": "0f98fa53-d3a9-42b7-f4c9-277ac600929b"
   },
   "outputs": [
    {
     "name": "stdout",
     "output_type": "stream",
     "text": [
      "Severity\n"
     ]
    },
    {
     "data": {
      "text/plain": [
       "0    2034106\n",
       "1     827416\n",
       "Name: Severity, dtype: int64"
      ]
     },
     "metadata": {
      "tags": []
     },
     "output_type": "display_data"
    },
    {
     "data": {
      "text/plain": [
       "2"
      ]
     },
     "metadata": {
      "tags": []
     },
     "output_type": "display_data"
    },
    {
     "name": "stdout",
     "output_type": "stream",
     "text": [
      "Start_Lat\n"
     ]
    },
    {
     "data": {
      "text/plain": [
       "37.808500    452\n",
       "33.876290    410\n",
       "33.941360    387\n",
       "33.744980    375\n",
       "33.781530    367\n",
       "            ... \n",
       "39.872078      1\n",
       "29.711370      1\n",
       "35.468370      1\n",
       "45.779950      1\n",
       "41.520110      1\n",
       "Name: Start_Lat, Length: 798384, dtype: int64"
      ]
     },
     "metadata": {
      "tags": []
     },
     "output_type": "display_data"
    },
    {
     "data": {
      "text/plain": [
       "798384"
      ]
     },
     "metadata": {
      "tags": []
     },
     "output_type": "display_data"
    },
    {
     "name": "stdout",
     "output_type": "stream",
     "text": [
      "Start_Lng\n"
     ]
    },
    {
     "data": {
      "text/plain": [
       "-118.36830    626\n",
       "-118.28060    602\n",
       "-111.89100    578\n",
       "-111.89130    555\n",
       "-121.38290    548\n",
       "             ... \n",
       "-95.16788       1\n",
       "-95.33212       1\n",
       "-82.37925       1\n",
       "-76.71649       1\n",
       "-83.91406       1\n",
       "Name: Start_Lng, Length: 749983, dtype: int64"
      ]
     },
     "metadata": {
      "tags": []
     },
     "output_type": "display_data"
    },
    {
     "data": {
      "text/plain": [
       "749983"
      ]
     },
     "metadata": {
      "tags": []
     },
     "output_type": "display_data"
    },
    {
     "name": "stdout",
     "output_type": "stream",
     "text": [
      "Distance.mi.\n"
     ]
    },
    {
     "data": {
      "text/plain": [
       "0.000     1849222\n",
       "0.010      185463\n",
       "0.020        5883\n",
       "0.001        3841\n",
       "0.008        2721\n",
       "           ...   \n",
       "6.760           1\n",
       "8.498           1\n",
       "9.533           1\n",
       "13.388          1\n",
       "12.610          1\n",
       "Name: Distance.mi., Length: 13061, dtype: int64"
      ]
     },
     "metadata": {
      "tags": []
     },
     "output_type": "display_data"
    },
    {
     "data": {
      "text/plain": [
       "13061"
      ]
     },
     "metadata": {
      "tags": []
     },
     "output_type": "display_data"
    },
    {
     "name": "stdout",
     "output_type": "stream",
     "text": [
      "Side\n"
     ]
    },
    {
     "data": {
      "text/plain": [
       "R    2343334\n",
       "L     518188\n",
       "Name: Side, dtype: int64"
      ]
     },
     "metadata": {
      "tags": []
     },
     "output_type": "display_data"
    },
    {
     "data": {
      "text/plain": [
       "2"
      ]
     },
     "metadata": {
      "tags": []
     },
     "output_type": "display_data"
    },
    {
     "name": "stdout",
     "output_type": "stream",
     "text": [
      "City\n"
     ]
    },
    {
     "data": {
      "text/plain": [
       "Houston           79236\n",
       "Los Angeles       62533\n",
       "Charlotte         60699\n",
       "Dallas            52992\n",
       "Austin            48369\n",
       "                  ...  \n",
       "Counselor             1\n",
       "Charleston AFB        1\n",
       "Ventnor City          1\n",
       "Tiro                  1\n",
       "Wallington            1\n",
       "Name: City, Length: 11766, dtype: int64"
      ]
     },
     "metadata": {
      "tags": []
     },
     "output_type": "display_data"
    },
    {
     "data": {
      "text/plain": [
       "11766"
      ]
     },
     "metadata": {
      "tags": []
     },
     "output_type": "display_data"
    },
    {
     "name": "stdout",
     "output_type": "stream",
     "text": [
      "State\n"
     ]
    },
    {
     "data": {
      "text/plain": [
       "CA    655363\n",
       "TX    259189\n",
       "FL    243043\n",
       "SC    145433\n",
       "NC    131731\n",
       "NY    126628\n",
       "PA     90435\n",
       "VA     84366\n",
       "IL     77119\n",
       "GA     73426\n",
       "MI     73003\n",
       "OR     72330\n",
       "MN     70913\n",
       "AZ     63339\n",
       "TN     60449\n",
       "LA     54250\n",
       "WA     51463\n",
       "OH     50487\n",
       "NJ     46282\n",
       "MD     45376\n",
       "OK     45259\n",
       "UT     39478\n",
       "AL     39082\n",
       "CO     36779\n",
       "MA     30298\n",
       "MO     27274\n",
       "IN     26317\n",
       "CT     21626\n",
       "NE     17542\n",
       "KY     17059\n",
       "WI     14953\n",
       "IA      9377\n",
       "RI      8865\n",
       "NV      8316\n",
       "KS      6620\n",
       "NH      5963\n",
       "MS      5526\n",
       "DE      4613\n",
       "NM      4422\n",
       "DC      4181\n",
       "AR      3210\n",
       "ID      2622\n",
       "WV      2405\n",
       "MT      2149\n",
       "ME      1660\n",
       "VT       502\n",
       "WY       370\n",
       "ND       288\n",
       "SD       141\n",
       "Name: State, dtype: int64"
      ]
     },
     "metadata": {
      "tags": []
     },
     "output_type": "display_data"
    },
    {
     "data": {
      "text/plain": [
       "49"
      ]
     },
     "metadata": {
      "tags": []
     },
     "output_type": "display_data"
    },
    {
     "name": "stdout",
     "output_type": "stream",
     "text": [
      "Temperature.F.\n"
     ]
    },
    {
     "data": {
      "text/plain": [
       " 68.0     62468\n",
       " 77.0     61222\n",
       " 59.0     58493\n",
       " 73.0     57054\n",
       " 63.0     53913\n",
       "          ...  \n",
       " 113.4        1\n",
       " 111.7        1\n",
       " 143.6        1\n",
       " 167.0        1\n",
       "-21.1         1\n",
       "Name: Temperature.F., Length: 826, dtype: int64"
      ]
     },
     "metadata": {
      "tags": []
     },
     "output_type": "display_data"
    },
    {
     "data": {
      "text/plain": [
       "826"
      ]
     },
     "metadata": {
      "tags": []
     },
     "output_type": "display_data"
    },
    {
     "name": "stdout",
     "output_type": "stream",
     "text": [
      "Humidity...\n"
     ]
    },
    {
     "data": {
      "text/plain": [
       "100.0    115584\n",
       "93.0     111138\n",
       "90.0      65492\n",
       "87.0      65062\n",
       "89.0      54435\n",
       "          ...  \n",
       "5.0        1581\n",
       "4.0         868\n",
       "3.0         217\n",
       "2.0          67\n",
       "1.0           9\n",
       "Name: Humidity..., Length: 100, dtype: int64"
      ]
     },
     "metadata": {
      "tags": []
     },
     "output_type": "display_data"
    },
    {
     "data": {
      "text/plain": [
       "100"
      ]
     },
     "metadata": {
      "tags": []
     },
     "output_type": "display_data"
    },
    {
     "name": "stdout",
     "output_type": "stream",
     "text": [
      "Pressure.in.\n"
     ]
    },
    {
     "data": {
      "text/plain": [
       "29.96    54143\n",
       "30.01    54001\n",
       "29.99    53414\n",
       "29.94    51922\n",
       "30.04    51432\n",
       "         ...  \n",
       "20.30        1\n",
       "20.05        1\n",
       "19.89        1\n",
       "20.07        1\n",
       "20.10        1\n",
       "Name: Pressure.in., Length: 1024, dtype: int64"
      ]
     },
     "metadata": {
      "tags": []
     },
     "output_type": "display_data"
    },
    {
     "data": {
      "text/plain": [
       "1024"
      ]
     },
     "metadata": {
      "tags": []
     },
     "output_type": "display_data"
    },
    {
     "name": "stdout",
     "output_type": "stream",
     "text": [
      "Visibility.mi.\n"
     ]
    },
    {
     "data": {
      "text/plain": [
       "10.0    2225748\n",
       "7.0       87391\n",
       "9.0       75023\n",
       "8.0       59906\n",
       "5.0       56463\n",
       "         ...   \n",
       "58.0          1\n",
       "6.2           1\n",
       "63.0          1\n",
       "67.0          1\n",
       "43.0          1\n",
       "Name: Visibility.mi., Length: 83, dtype: int64"
      ]
     },
     "metadata": {
      "tags": []
     },
     "output_type": "display_data"
    },
    {
     "data": {
      "text/plain": [
       "83"
      ]
     },
     "metadata": {
      "tags": []
     },
     "output_type": "display_data"
    },
    {
     "name": "stdout",
     "output_type": "stream",
     "text": [
      "Wind_Speed.mph.\n"
     ]
    },
    {
     "data": {
      "text/plain": [
       "0.0      245610\n",
       "4.6      151218\n",
       "5.8      150100\n",
       "3.5      141735\n",
       "6.9      140161\n",
       "          ...  \n",
       "211.0         1\n",
       "214.0         1\n",
       "105.0         1\n",
       "232.0         1\n",
       "77.1          1\n",
       "Name: Wind_Speed.mph., Length: 147, dtype: int64"
      ]
     },
     "metadata": {
      "tags": []
     },
     "output_type": "display_data"
    },
    {
     "data": {
      "text/plain": [
       "147"
      ]
     },
     "metadata": {
      "tags": []
     },
     "output_type": "display_data"
    },
    {
     "name": "stdout",
     "output_type": "stream",
     "text": [
      "Weather_Condition\n"
     ]
    },
    {
     "data": {
      "text/plain": [
       "Fair                   587613\n",
       "Clear                  562916\n",
       "Mostly Cloudy          387759\n",
       "Partly Cloudy          270262\n",
       "Overcast               265814\n",
       "                        ...  \n",
       "Blowing Sand                1\n",
       "Hail                        1\n",
       "Light Fog                   1\n",
       "Partial Fog / Windy         1\n",
       "Light Sleet / Windy         1\n",
       "Name: Weather_Condition, Length: 127, dtype: int64"
      ]
     },
     "metadata": {
      "tags": []
     },
     "output_type": "display_data"
    },
    {
     "data": {
      "text/plain": [
       "127"
      ]
     },
     "metadata": {
      "tags": []
     },
     "output_type": "display_data"
    },
    {
     "name": "stdout",
     "output_type": "stream",
     "text": [
      "Amenity\n"
     ]
    },
    {
     "data": {
      "text/plain": [
       "False    2827989\n",
       "True       33533\n",
       "Name: Amenity, dtype: int64"
      ]
     },
     "metadata": {
      "tags": []
     },
     "output_type": "display_data"
    },
    {
     "data": {
      "text/plain": [
       "2"
      ]
     },
     "metadata": {
      "tags": []
     },
     "output_type": "display_data"
    },
    {
     "name": "stdout",
     "output_type": "stream",
     "text": [
      "Bump\n"
     ]
    },
    {
     "data": {
      "text/plain": [
       "False    2860952\n",
       "True         570\n",
       "Name: Bump, dtype: int64"
      ]
     },
     "metadata": {
      "tags": []
     },
     "output_type": "display_data"
    },
    {
     "data": {
      "text/plain": [
       "2"
      ]
     },
     "metadata": {
      "tags": []
     },
     "output_type": "display_data"
    },
    {
     "name": "stdout",
     "output_type": "stream",
     "text": [
      "Crossing\n"
     ]
    },
    {
     "data": {
      "text/plain": [
       "False    2625408\n",
       "True      236114\n",
       "Name: Crossing, dtype: int64"
      ]
     },
     "metadata": {
      "tags": []
     },
     "output_type": "display_data"
    },
    {
     "data": {
      "text/plain": [
       "2"
      ]
     },
     "metadata": {
      "tags": []
     },
     "output_type": "display_data"
    },
    {
     "name": "stdout",
     "output_type": "stream",
     "text": [
      "Give_Way\n"
     ]
    },
    {
     "data": {
      "text/plain": [
       "False    2852483\n",
       "True        9039\n",
       "Name: Give_Way, dtype: int64"
      ]
     },
     "metadata": {
      "tags": []
     },
     "output_type": "display_data"
    },
    {
     "data": {
      "text/plain": [
       "2"
      ]
     },
     "metadata": {
      "tags": []
     },
     "output_type": "display_data"
    },
    {
     "name": "stdout",
     "output_type": "stream",
     "text": [
      "Junction\n"
     ]
    },
    {
     "data": {
      "text/plain": [
       "False    2633717\n",
       "True      227805\n",
       "Name: Junction, dtype: int64"
      ]
     },
     "metadata": {
      "tags": []
     },
     "output_type": "display_data"
    },
    {
     "data": {
      "text/plain": [
       "2"
      ]
     },
     "metadata": {
      "tags": []
     },
     "output_type": "display_data"
    },
    {
     "name": "stdout",
     "output_type": "stream",
     "text": [
      "No_Exit\n"
     ]
    },
    {
     "data": {
      "text/plain": [
       "False    2857543\n",
       "True        3979\n",
       "Name: No_Exit, dtype: int64"
      ]
     },
     "metadata": {
      "tags": []
     },
     "output_type": "display_data"
    },
    {
     "data": {
      "text/plain": [
       "2"
      ]
     },
     "metadata": {
      "tags": []
     },
     "output_type": "display_data"
    },
    {
     "name": "stdout",
     "output_type": "stream",
     "text": [
      "Railway\n"
     ]
    },
    {
     "data": {
      "text/plain": [
       "False    2835415\n",
       "True       26107\n",
       "Name: Railway, dtype: int64"
      ]
     },
     "metadata": {
      "tags": []
     },
     "output_type": "display_data"
    },
    {
     "data": {
      "text/plain": [
       "2"
      ]
     },
     "metadata": {
      "tags": []
     },
     "output_type": "display_data"
    },
    {
     "name": "stdout",
     "output_type": "stream",
     "text": [
      "Roundabout\n"
     ]
    },
    {
     "data": {
      "text/plain": [
       "False    2861350\n",
       "True         172\n",
       "Name: Roundabout, dtype: int64"
      ]
     },
     "metadata": {
      "tags": []
     },
     "output_type": "display_data"
    },
    {
     "data": {
      "text/plain": [
       "2"
      ]
     },
     "metadata": {
      "tags": []
     },
     "output_type": "display_data"
    },
    {
     "name": "stdout",
     "output_type": "stream",
     "text": [
      "Station\n"
     ]
    },
    {
     "data": {
      "text/plain": [
       "False    2804030\n",
       "True       57492\n",
       "Name: Station, dtype: int64"
      ]
     },
     "metadata": {
      "tags": []
     },
     "output_type": "display_data"
    },
    {
     "data": {
      "text/plain": [
       "2"
      ]
     },
     "metadata": {
      "tags": []
     },
     "output_type": "display_data"
    },
    {
     "name": "stdout",
     "output_type": "stream",
     "text": [
      "Stop\n"
     ]
    },
    {
     "data": {
      "text/plain": [
       "False    2812221\n",
       "True       49301\n",
       "Name: Stop, dtype: int64"
      ]
     },
     "metadata": {
      "tags": []
     },
     "output_type": "display_data"
    },
    {
     "data": {
      "text/plain": [
       "2"
      ]
     },
     "metadata": {
      "tags": []
     },
     "output_type": "display_data"
    },
    {
     "name": "stdout",
     "output_type": "stream",
     "text": [
      "Traffic_Calming\n"
     ]
    },
    {
     "data": {
      "text/plain": [
       "False    2860058\n",
       "True        1464\n",
       "Name: Traffic_Calming, dtype: int64"
      ]
     },
     "metadata": {
      "tags": []
     },
     "output_type": "display_data"
    },
    {
     "data": {
      "text/plain": [
       "2"
      ]
     },
     "metadata": {
      "tags": []
     },
     "output_type": "display_data"
    },
    {
     "name": "stdout",
     "output_type": "stream",
     "text": [
      "Traffic_Signal\n"
     ]
    },
    {
     "data": {
      "text/plain": [
       "False    2365989\n",
       "True      495533\n",
       "Name: Traffic_Signal, dtype: int64"
      ]
     },
     "metadata": {
      "tags": []
     },
     "output_type": "display_data"
    },
    {
     "data": {
      "text/plain": [
       "2"
      ]
     },
     "metadata": {
      "tags": []
     },
     "output_type": "display_data"
    },
    {
     "name": "stdout",
     "output_type": "stream",
     "text": [
      "Sunrise_Sunset\n"
     ]
    },
    {
     "data": {
      "text/plain": [
       "Day      1998429\n",
       "Night     863093\n",
       "Name: Sunrise_Sunset, dtype: int64"
      ]
     },
     "metadata": {
      "tags": []
     },
     "output_type": "display_data"
    },
    {
     "data": {
      "text/plain": [
       "2"
      ]
     },
     "metadata": {
      "tags": []
     },
     "output_type": "display_data"
    },
    {
     "name": "stdout",
     "output_type": "stream",
     "text": [
      "day_of_Week\n"
     ]
    },
    {
     "data": {
      "text/plain": [
       "4    508242\n",
       "2    506441\n",
       "1    505395\n",
       "3    502531\n",
       "0    476990\n",
       "5    192008\n",
       "6    169915\n",
       "Name: day_of_Week, dtype: int64"
      ]
     },
     "metadata": {
      "tags": []
     },
     "output_type": "display_data"
    },
    {
     "data": {
      "text/plain": [
       "7"
      ]
     },
     "metadata": {
      "tags": []
     },
     "output_type": "display_data"
    },
    {
     "name": "stdout",
     "output_type": "stream",
     "text": [
      "month\n"
     ]
    },
    {
     "data": {
      "text/plain": [
       "12    333503\n",
       "11    323433\n",
       "10    310946\n",
       "9     258921\n",
       "8     227136\n",
       "6     213374\n",
       "1     209472\n",
       "4     203471\n",
       "5     202654\n",
       "3     201599\n",
       "2     197375\n",
       "7     179638\n",
       "Name: month, dtype: int64"
      ]
     },
     "metadata": {
      "tags": []
     },
     "output_type": "display_data"
    },
    {
     "data": {
      "text/plain": [
       "12"
      ]
     },
     "metadata": {
      "tags": []
     },
     "output_type": "display_data"
    },
    {
     "name": "stdout",
     "output_type": "stream",
     "text": [
      "year\n"
     ]
    },
    {
     "data": {
      "text/plain": [
       "2020    792602\n",
       "2019    662625\n",
       "2018    621325\n",
       "2017    499246\n",
       "2016    285724\n",
       "Name: year, dtype: int64"
      ]
     },
     "metadata": {
      "tags": []
     },
     "output_type": "display_data"
    },
    {
     "data": {
      "text/plain": [
       "5"
      ]
     },
     "metadata": {
      "tags": []
     },
     "output_type": "display_data"
    },
    {
     "name": "stdout",
     "output_type": "stream",
     "text": [
      "Hour\n"
     ]
    },
    {
     "data": {
      "text/plain": [
       "8     247876\n",
       "7     241209\n",
       "17    205814\n",
       "16    200750\n",
       "15    169639\n",
       "18    161249\n",
       "6     157296\n",
       "9     152426\n",
       "14    145228\n",
       "10    140042\n",
       "11    139058\n",
       "13    137093\n",
       "12    127256\n",
       "19    112616\n",
       "20     84175\n",
       "5      82998\n",
       "21     66185\n",
       "4      60068\n",
       "22     58642\n",
       "23     41257\n",
       "0      37168\n",
       "1      34022\n",
       "2      31633\n",
       "3      27822\n",
       "Name: Hour, dtype: int64"
      ]
     },
     "metadata": {
      "tags": []
     },
     "output_type": "display_data"
    },
    {
     "data": {
      "text/plain": [
       "24"
      ]
     },
     "metadata": {
      "tags": []
     },
     "output_type": "display_data"
    }
   ],
   "source": [
    "for i in X.columns:\n",
    "    print(i)\n",
    "    display(X[i].value_counts())\n",
    "    display(len(X[i].value_counts().index))"
   ]
  },
  {
   "cell_type": "markdown",
   "metadata": {
    "id": "U3aBtcakWLUb"
   },
   "source": [
    "## Don't run anything under this until the modelling section"
   ]
  },
  {
   "cell_type": "code",
   "execution_count": null,
   "metadata": {
    "id": "EQwMOXClWKmN"
   },
   "outputs": [],
   "source": []
  },
  {
   "cell_type": "code",
   "execution_count": null,
   "metadata": {
    "id": "3CnZOFaIRxSA"
   },
   "outputs": [],
   "source": [
    "list_values = ['City','State','Weather_Condition','day_of_Week','month','year','Hour']\n",
    "num_vals = [25, 25,15,6,12,5,24]"
   ]
  },
  {
   "cell_type": "code",
   "execution_count": null,
   "metadata": {
    "colab": {
     "base_uri": "https://localhost:8080/",
     "height": 234
    },
    "id": "isbXTjG0a9Zy",
    "outputId": "508aecd3-5974-40ca-bccb-6741dc01877a"
   },
   "outputs": [
    {
     "ename": "NameError",
     "evalue": "ignored",
     "output_type": "error",
     "traceback": [
      "\u001b[0;31m---------------------------------------------------------------------------\u001b[0m",
      "\u001b[0;31mNameError\u001b[0m                                 Traceback (most recent call last)",
      "\u001b[0;32m<ipython-input-3-061c47e0a03f>\u001b[0m in \u001b[0;36m<module>\u001b[0;34m()\u001b[0m\n\u001b[1;32m      2\u001b[0m     \u001b[0mcol_name\u001b[0m \u001b[0;34m=\u001b[0m \u001b[0mlist_values\u001b[0m\u001b[0;34m[\u001b[0m\u001b[0mi\u001b[0m\u001b[0;34m]\u001b[0m\u001b[0;34m\u001b[0m\u001b[0;34m\u001b[0m\u001b[0m\n\u001b[1;32m      3\u001b[0m     \u001b[0mnum_cols\u001b[0m \u001b[0;34m=\u001b[0m \u001b[0mnum_vals\u001b[0m\u001b[0;34m[\u001b[0m\u001b[0mi\u001b[0m\u001b[0;34m]\u001b[0m\u001b[0;34m\u001b[0m\u001b[0;34m\u001b[0m\u001b[0m\n\u001b[0;32m----> 4\u001b[0;31m     \u001b[0mcol_df\u001b[0m \u001b[0;34m=\u001b[0m \u001b[0mpd\u001b[0m\u001b[0;34m.\u001b[0m\u001b[0mget_dummies\u001b[0m\u001b[0;34m(\u001b[0m\u001b[0mX\u001b[0m\u001b[0;34m[\u001b[0m\u001b[0mcol_name\u001b[0m\u001b[0;34m]\u001b[0m\u001b[0;34m,\u001b[0m\u001b[0mprefix\u001b[0m\u001b[0;34m=\u001b[0m\u001b[0mcol_name\u001b[0m\u001b[0;34m,\u001b[0m \u001b[0mprefix_sep\u001b[0m\u001b[0;34m=\u001b[0m\u001b[0;34m'_'\u001b[0m\u001b[0;34m)\u001b[0m\u001b[0;34m\u001b[0m\u001b[0;34m\u001b[0m\u001b[0m\n\u001b[0m\u001b[1;32m      5\u001b[0m     \u001b[0mcol_df\u001b[0m \u001b[0;34m=\u001b[0m \u001b[0mcol_df\u001b[0m\u001b[0;34m.\u001b[0m\u001b[0miloc\u001b[0m\u001b[0;34m[\u001b[0m\u001b[0;34m:\u001b[0m\u001b[0;34m,\u001b[0m\u001b[0;36m0\u001b[0m\u001b[0;34m:\u001b[0m\u001b[0mnum_cols\u001b[0m\u001b[0;34m]\u001b[0m\u001b[0;34m\u001b[0m\u001b[0;34m\u001b[0m\u001b[0m\n\u001b[1;32m      6\u001b[0m     \u001b[0mX\u001b[0m \u001b[0;34m=\u001b[0m \u001b[0mX\u001b[0m\u001b[0;34m.\u001b[0m\u001b[0mjoin\u001b[0m\u001b[0;34m(\u001b[0m\u001b[0mcol_df\u001b[0m\u001b[0;34m)\u001b[0m\u001b[0;34m\u001b[0m\u001b[0;34m\u001b[0m\u001b[0m\n",
      "\u001b[0;31mNameError\u001b[0m: name 'pd' is not defined"
     ]
    }
   ],
   "source": [
    "for i in range(len(list_values)):\n",
    "    col_name = list_values[i]\n",
    "    num_cols = num_vals[i]\n",
    "    col_df = pd.get_dummies(X[col_name],prefix=col_name, prefix_sep='_')\n",
    "    col_df = col_df.iloc[:,0:num_cols]\n",
    "    X = X.join(col_df)"
   ]
  },
  {
   "cell_type": "code",
   "execution_count": null,
   "metadata": {
    "id": "0ymedW8OViZM"
   },
   "outputs": [],
   "source": [
    "bool_vals = ['Amenity','Bump','Crossing','Give_Way',\n",
    "               'Junction','No_Exit','Railway','Roundabout','Station','Stop','Traffic_Calming','Traffic_Signal',\n",
    "             'Sunrise_Sunset',]"
   ]
  },
  {
   "cell_type": "code",
   "execution_count": null,
   "metadata": {
    "colab": {
     "base_uri": "https://localhost:8080/",
     "height": 968
    },
    "id": "7zQaizfbRxOE",
    "outputId": "36925f8b-9f4f-4926-89ae-4222ecda801c"
   },
   "outputs": [
    {
     "data": {
      "text/html": [
       "<div>\n",
       "<style scoped>\n",
       "    .dataframe tbody tr th:only-of-type {\n",
       "        vertical-align: middle;\n",
       "    }\n",
       "\n",
       "    .dataframe tbody tr th {\n",
       "        vertical-align: top;\n",
       "    }\n",
       "\n",
       "    .dataframe thead th {\n",
       "        text-align: right;\n",
       "    }\n",
       "</style>\n",
       "<table border=\"1\" class=\"dataframe\">\n",
       "  <thead>\n",
       "    <tr style=\"text-align: right;\">\n",
       "      <th></th>\n",
       "      <th>Weather_Condition</th>\n",
       "    </tr>\n",
       "  </thead>\n",
       "  <tbody>\n",
       "    <tr>\n",
       "      <th>Fair</th>\n",
       "      <td>587613</td>\n",
       "    </tr>\n",
       "    <tr>\n",
       "      <th>Clear</th>\n",
       "      <td>562916</td>\n",
       "    </tr>\n",
       "    <tr>\n",
       "      <th>Mostly Cloudy</th>\n",
       "      <td>387759</td>\n",
       "    </tr>\n",
       "    <tr>\n",
       "      <th>Partly Cloudy</th>\n",
       "      <td>270262</td>\n",
       "    </tr>\n",
       "    <tr>\n",
       "      <th>Overcast</th>\n",
       "      <td>265814</td>\n",
       "    </tr>\n",
       "    <tr>\n",
       "      <th>Cloudy</th>\n",
       "      <td>211467</td>\n",
       "    </tr>\n",
       "    <tr>\n",
       "      <th>Scattered Clouds</th>\n",
       "      <td>142512</td>\n",
       "    </tr>\n",
       "    <tr>\n",
       "      <th>Light Rain</th>\n",
       "      <td>139644</td>\n",
       "    </tr>\n",
       "    <tr>\n",
       "      <th>Light Snow</th>\n",
       "      <td>39037</td>\n",
       "    </tr>\n",
       "    <tr>\n",
       "      <th>Rain</th>\n",
       "      <td>32918</td>\n",
       "    </tr>\n",
       "    <tr>\n",
       "      <th>Haze</th>\n",
       "      <td>31680</td>\n",
       "    </tr>\n",
       "    <tr>\n",
       "      <th>Fog</th>\n",
       "      <td>30231</td>\n",
       "    </tr>\n",
       "    <tr>\n",
       "      <th>Heavy Rain</th>\n",
       "      <td>12387</td>\n",
       "    </tr>\n",
       "    <tr>\n",
       "      <th>Light Drizzle</th>\n",
       "      <td>9835</td>\n",
       "    </tr>\n",
       "    <tr>\n",
       "      <th>Fair / Windy</th>\n",
       "      <td>7410</td>\n",
       "    </tr>\n",
       "    <tr>\n",
       "      <th>Smoke</th>\n",
       "      <td>5525</td>\n",
       "    </tr>\n",
       "    <tr>\n",
       "      <th>Snow</th>\n",
       "      <td>4399</td>\n",
       "    </tr>\n",
       "    <tr>\n",
       "      <th>Mostly Cloudy / Windy</th>\n",
       "      <td>4122</td>\n",
       "    </tr>\n",
       "    <tr>\n",
       "      <th>Cloudy / Windy</th>\n",
       "      <td>4067</td>\n",
       "    </tr>\n",
       "    <tr>\n",
       "      <th>Light Thunderstorms and Rain</th>\n",
       "      <td>3393</td>\n",
       "    </tr>\n",
       "    <tr>\n",
       "      <th>T-Storm</th>\n",
       "      <td>3362</td>\n",
       "    </tr>\n",
       "    <tr>\n",
       "      <th>Thunderstorm</th>\n",
       "      <td>3086</td>\n",
       "    </tr>\n",
       "    <tr>\n",
       "      <th>Thunder in the Vicinity</th>\n",
       "      <td>2844</td>\n",
       "    </tr>\n",
       "    <tr>\n",
       "      <th>Light Rain with Thunder</th>\n",
       "      <td>2722</td>\n",
       "    </tr>\n",
       "    <tr>\n",
       "      <th>Partly Cloudy / Windy</th>\n",
       "      <td>2493</td>\n",
       "    </tr>\n",
       "    <tr>\n",
       "      <th>Thunder</th>\n",
       "      <td>2323</td>\n",
       "    </tr>\n",
       "    <tr>\n",
       "      <th>Light Rain / Windy</th>\n",
       "      <td>2246</td>\n",
       "    </tr>\n",
       "    <tr>\n",
       "      <th>Patches of Fog</th>\n",
       "      <td>2073</td>\n",
       "    </tr>\n",
       "    <tr>\n",
       "      <th>Drizzle</th>\n",
       "      <td>2012</td>\n",
       "    </tr>\n",
       "    <tr>\n",
       "      <th>Mist</th>\n",
       "      <td>1894</td>\n",
       "    </tr>\n",
       "  </tbody>\n",
       "</table>\n",
       "</div>"
      ],
      "text/plain": [
       "                              Weather_Condition\n",
       "Fair                                     587613\n",
       "Clear                                    562916\n",
       "Mostly Cloudy                            387759\n",
       "Partly Cloudy                            270262\n",
       "Overcast                                 265814\n",
       "Cloudy                                   211467\n",
       "Scattered Clouds                         142512\n",
       "Light Rain                               139644\n",
       "Light Snow                                39037\n",
       "Rain                                      32918\n",
       "Haze                                      31680\n",
       "Fog                                       30231\n",
       "Heavy Rain                                12387\n",
       "Light Drizzle                              9835\n",
       "Fair / Windy                               7410\n",
       "Smoke                                      5525\n",
       "Snow                                       4399\n",
       "Mostly Cloudy / Windy                      4122\n",
       "Cloudy / Windy                             4067\n",
       "Light Thunderstorms and Rain               3393\n",
       "T-Storm                                    3362\n",
       "Thunderstorm                               3086\n",
       "Thunder in the Vicinity                    2844\n",
       "Light Rain with Thunder                    2722\n",
       "Partly Cloudy / Windy                      2493\n",
       "Thunder                                    2323\n",
       "Light Rain / Windy                         2246\n",
       "Patches of Fog                             2073\n",
       "Drizzle                                    2012\n",
       "Mist                                       1894"
      ]
     },
     "execution_count": 45,
     "metadata": {
      "tags": []
     },
     "output_type": "execute_result"
    }
   ],
   "source": [
    "X['Weather_Condition'].value_counts().to_frame().head(30)"
   ]
  },
  {
   "cell_type": "code",
   "execution_count": null,
   "metadata": {
    "id": "1jep_RyURw9J"
   },
   "outputs": [],
   "source": []
  },
  {
   "cell_type": "code",
   "execution_count": null,
   "metadata": {
    "id": "VwhJVZyqRw5n"
   },
   "outputs": [],
   "source": []
  },
  {
   "cell_type": "code",
   "execution_count": null,
   "metadata": {
    "id": "mNODDp2lZfOh"
   },
   "outputs": [],
   "source": []
  }
 ],
 "metadata": {
  "colab": {
   "collapsed_sections": [],
   "name": "stat154_finalproj.ipynb",
   "provenance": []
  },
  "kernelspec": {
   "display_name": "Python 3",
   "language": "python",
   "name": "python3"
  },
  "language_info": {
   "codemirror_mode": {
    "name": "ipython",
    "version": 3
   },
   "file_extension": ".py",
   "mimetype": "text/x-python",
   "name": "python",
   "nbconvert_exporter": "python",
   "pygments_lexer": "ipython3",
   "version": "3.7.6"
  }
 },
 "nbformat": 4,
 "nbformat_minor": 1
}
